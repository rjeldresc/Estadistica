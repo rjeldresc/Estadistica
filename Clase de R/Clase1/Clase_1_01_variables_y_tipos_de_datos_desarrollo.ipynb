{
  "nbformat": 4,
  "nbformat_minor": 0,
  "metadata": {
    "colab": {
      "name": "Clase_1_01_variables_y_tipos_de_datos.ipynb",
      "provenance": [],
      "collapsed_sections": [],
      "include_colab_link": true
    },
    "kernelspec": {
      "name": "ir",
      "display_name": "R"
    }
  },
  "cells": [
    {
      "cell_type": "markdown",
      "metadata": {
        "id": "view-in-github",
        "colab_type": "text"
      },
      "source": [
        "<a href=\"https://colab.research.google.com/github/majorquev/DBDC_202206_Programacion_en_R_para_ciencia_de_datos/blob/main/Clase1/Clase_1_01_variables_y_tipos_de_datos_desarrollo.ipynb\" target=\"_parent\"><img src=\"https://colab.research.google.com/assets/colab-badge.svg\" alt=\"Open In Colab\"/></a>"
      ]
    },
    {
      "cell_type": "markdown",
      "metadata": {
        "collapsed": true,
        "id": "Kc2ORhjSySMx"
      },
      "source": [
        "# Parte 1: Introducción a R\n",
        "\n",
        "**Autor:** Miguel Jorquera Viguera<br>\n",
        "**E-mail:** majorquev@gmail.com<br>\n",
        "\n",
        "**Ayudante:** Rodrigo Morales <br>\n",
        "**E-mail ayudante:** rumorale1@gmail.com\n",
        "\n",
        "## Conociendo R\n",
        "\n",
        "### Conociendo R de nuevo\n",
        " R es un lenguaje funcional orientado principalmente al análisis de datos. Fue desarrollado por Ross Ihaka y Robert Gentleman, cuyas iniciales de sus nombres dieron origen al nombre de este software.\n",
        " \n",
        "Hoy existen varias maneras de ejecutar R, una de ellas es de manera local, para lo cual es posible descargar la última versión (disponible para Windows, Linux y OSX), desde el repositorio CRAN (https://cran.r-project.org/) .\n",
        "Otra manera es mediante la utilización de Google Colab, los que permiten la ejecución de R de manera remota, sin la necesidad de instalar R.\n",
        "\n",
        "En un notebook podemos añadir info.\n",
        "Podemos editar esto...\n",
        "\n",
        "# Puedo añadir otro  título\n",
        "## Subtítulo\n",
        "### Etc..\n",
        "\n",
        "Generar listas\n",
        "\n",
        "   * Hola\n",
        "   * Otra opción\n",
        "   * opcion 2\n",
        "   * Opción 3\n",
        "\n",
        "Código en latex $\\sum\\limits_{i=1}^n x_i$ $\\lim_{x \\rightarrow 1}$ \n"
      ]
    },
    {
      "cell_type": "markdown",
      "metadata": {
        "id": "Z4TXkSy6ySMy"
      },
      "source": [
        "## 1. R... Una gran calculadora\n",
        "\n",
        "En R es posible ejecutar directamente en consola sentencias aritméticas simples, junto con la evaluación de una gran cantidad de funciones disponibles por defecto.\n",
        "\n",
        "    - + , -, /,* ,^ , %%, %*%.\n",
        "    - Logaritmo natural: log() \n",
        "    - Funciones trigonométricas: sin() , cos(), tan(), asin() ,acos(), atan()\n",
        "    - Función exponencial: exp() \n",
        "    - Raiz cuadrada: sqrt().\n",
        "    - Valor absoluto: abs()\n",
        "    - parte entera: floor()\n",
        "    - Truncar: trunc()\n",
        "    - Redondear: round(,)\n",
        "    - Factorial: factorial()\n",
        "    - Número combinatorio: choose(n,k)\n"
      ]
    },
    {
      "cell_type": "code",
      "metadata": {
        "id": "O4E1j5ngySMz",
        "colab": {
          "base_uri": "https://localhost:8080/",
          "height": 86
        },
        "outputId": "8e86e586-9268-42d0-9446-f8fac0391287"
      },
      "source": [
        "# En estas celdas pueden ejecutar código R. Las líneas que comiencen con '#' corresponden a comentarios y por ende no son ejecutables\n",
        "# Shift + Enter : ejecuta el código de la celda y pasan a la celda siguiente.\n",
        "1+1\n",
        "sin(180)\n",
        "sqrt(4)\n",
        "abs(-9)"
      ],
      "execution_count": 5,
      "outputs": [
        {
          "output_type": "display_data",
          "data": {
            "text/html": [
              "2"
            ],
            "text/markdown": "2",
            "text/latex": "2",
            "text/plain": [
              "[1] 2"
            ]
          },
          "metadata": {}
        },
        {
          "output_type": "display_data",
          "data": {
            "text/html": [
              "-0.80115263573383"
            ],
            "text/markdown": "-0.80115263573383",
            "text/latex": "-0.80115263573383",
            "text/plain": [
              "[1] -0.8011526"
            ]
          },
          "metadata": {}
        },
        {
          "output_type": "display_data",
          "data": {
            "text/html": [
              "2"
            ],
            "text/markdown": "2",
            "text/latex": "2",
            "text/plain": [
              "[1] 2"
            ]
          },
          "metadata": {}
        },
        {
          "output_type": "display_data",
          "data": {
            "text/html": [
              "9"
            ],
            "text/markdown": "9",
            "text/latex": "9",
            "text/plain": [
              "[1] 9"
            ]
          },
          "metadata": {}
        }
      ]
    },
    {
      "cell_type": "code",
      "source": [
        "5^2"
      ],
      "metadata": {
        "id": "NW3ag43C-UGd",
        "outputId": "bdf4cc6f-2486-405f-86f0-d6a463cc1997",
        "colab": {
          "base_uri": "https://localhost:8080/",
          "height": 34
        }
      },
      "execution_count": 6,
      "outputs": [
        {
          "output_type": "display_data",
          "data": {
            "text/html": [
              "25"
            ],
            "text/markdown": "25",
            "text/latex": "25",
            "text/plain": [
              "[1] 25"
            ]
          },
          "metadata": {}
        }
      ]
    },
    {
      "cell_type": "markdown",
      "metadata": {
        "id": "fvcIxMW4ySM5"
      },
      "source": [
        "## 2. Variables y tipos de datos\n",
        "\n",
        "En R es posible distintos tipos de datos u objetos en símbolos llamados variables (en R todo es en esencia un objeto).<br>\n",
        "La manera más sencilla de asignar un objeto a una variable es mediante la función \"<-\". Los tipos de datos más utilizados en R corresponden a :\n",
        "    \n",
        "    integer   \n",
        "    double  \n",
        "    logical   \n",
        "    character \n",
        "    factor  \n",
        "    date\n",
        "\n",
        "A diferencia de otros lenguajes de programación, no es necesario declarar explicitamente el tipo de dato que almacenará una variable (R es inteligente!)"
      ]
    },
    {
      "cell_type": "code",
      "metadata": {
        "id": "LUgwYSvMySM5",
        "cellView": "both"
      },
      "source": [
        "# Podemos definir distintas variables\n",
        "a <- 9\n",
        "b <- 6.45\n",
        "# strings(character)\n",
        "\n",
        "string <- \"Hola soy Miguel\"\n",
        "no_fecha <- \"2022-06-03\"\n",
        "# valores lógicos (logical)\n",
        "verdad <- TRUE\n",
        "falso <-  FALSE"
      ],
      "execution_count": 11,
      "outputs": []
    },
    {
      "cell_type": "code",
      "source": [
        "# Podemos asignar con la flechita en los dos sentidos\n",
        "# aux <- codigo....\n",
        "# codigo... -> aux \n",
        "4*(5+7/sqrt(17)) -> lala\n",
        "lala2 <- 4*(5+7/sqrt(17))"
      ],
      "metadata": {
        "id": "E2EPRL_E_9Vm"
      },
      "execution_count": 20,
      "outputs": []
    },
    {
      "cell_type": "code",
      "source": [
        "lala\n",
        "lala2"
      ],
      "metadata": {
        "id": "VyNTASFDARZ1",
        "outputId": "5217f237-2983-4d88-f36f-8132637dab45",
        "colab": {
          "base_uri": "https://localhost:8080/",
          "height": 52
        }
      },
      "execution_count": 21,
      "outputs": [
        {
          "output_type": "display_data",
          "data": {
            "text/html": [
              "26.7909975010173"
            ],
            "text/markdown": "26.7909975010173",
            "text/latex": "26.7909975010173",
            "text/plain": [
              "[1] 26.791"
            ]
          },
          "metadata": {}
        },
        {
          "output_type": "display_data",
          "data": {
            "text/html": [
              "26.7909975010173"
            ],
            "text/markdown": "26.7909975010173",
            "text/latex": "26.7909975010173",
            "text/plain": [
              "[1] 26.791"
            ]
          },
          "metadata": {}
        }
      ]
    },
    {
      "cell_type": "code",
      "metadata": {
        "id": "2lqK4mChySM-",
        "outputId": "0a958447-91e3-471f-c22f-d98d7bf61a7e",
        "colab": {
          "base_uri": "https://localhost:8080/",
          "height": 34
        }
      },
      "source": [
        "a + b"
      ],
      "execution_count": 12,
      "outputs": [
        {
          "output_type": "display_data",
          "data": {
            "text/html": [
              "15.45"
            ],
            "text/markdown": "15.45",
            "text/latex": "15.45",
            "text/plain": [
              "[1] 15.45"
            ]
          },
          "metadata": {}
        }
      ]
    },
    {
      "cell_type": "code",
      "metadata": {
        "id": "TvnfvFZFySNC",
        "outputId": "9df9676b-65da-4a22-985e-f00026215a16",
        "colab": {
          "base_uri": "https://localhost:8080/",
          "height": 96
        }
      },
      "source": [
        "a + \"5\"\n"
      ],
      "execution_count": 13,
      "outputs": [
        {
          "output_type": "error",
          "ename": "ERROR",
          "evalue": "ignored",
          "traceback": [
            "Error in a + \"5\": non-numeric argument to binary operator\nTraceback:\n"
          ]
        }
      ]
    },
    {
      "cell_type": "code",
      "metadata": {
        "id": "n-cknpq2N1UO",
        "outputId": "cedff892-fc7e-4001-ee05-49a2fcb2d770",
        "colab": {
          "base_uri": "https://localhost:8080/",
          "height": 52
        }
      },
      "source": [
        "# conector lógicos ( & es el \"y\", | es el \"o\" )\n",
        "verdad & falso \n",
        "verdad | falso"
      ],
      "execution_count": 14,
      "outputs": [
        {
          "output_type": "display_data",
          "data": {
            "text/html": [
              "FALSE"
            ],
            "text/markdown": "FALSE",
            "text/latex": "FALSE",
            "text/plain": [
              "[1] FALSE"
            ]
          },
          "metadata": {}
        },
        {
          "output_type": "display_data",
          "data": {
            "text/html": [
              "TRUE"
            ],
            "text/markdown": "TRUE",
            "text/latex": "TRUE",
            "text/plain": [
              "[1] TRUE"
            ]
          },
          "metadata": {}
        }
      ]
    },
    {
      "cell_type": "code",
      "metadata": {
        "id": "5TaXp2j8ySNK",
        "outputId": "32e295a2-c249-4c9d-fa6e-160c0f3be3b1",
        "colab": {
          "base_uri": "https://localhost:8080/",
          "height": 34
        }
      },
      "source": [
        "# Podemos comparar la igualdad lógica entre dos valores mendiante \"==\"\n",
        "\n",
        "a == 8+1\n",
        "\n"
      ],
      "execution_count": 15,
      "outputs": [
        {
          "output_type": "display_data",
          "data": {
            "text/html": [
              "TRUE"
            ],
            "text/markdown": "TRUE",
            "text/latex": "TRUE",
            "text/plain": [
              "[1] TRUE"
            ]
          },
          "metadata": {}
        }
      ]
    },
    {
      "cell_type": "code",
      "metadata": {
        "id": "3mq1eAigySNN",
        "outputId": "bcfe3773-c94c-4b61-8d10-d47f19f79a82",
        "colab": {
          "base_uri": "https://localhost:8080/",
          "height": 52
        }
      },
      "source": [
        "# Podemos evaluar la no igualdad con \"!=\" (es distinto de)\n",
        "a != 5\n",
        "a != 9\n",
        "\n",
        "\n"
      ],
      "execution_count": 17,
      "outputs": [
        {
          "output_type": "display_data",
          "data": {
            "text/html": [
              "TRUE"
            ],
            "text/markdown": "TRUE",
            "text/latex": "TRUE",
            "text/plain": [
              "[1] TRUE"
            ]
          },
          "metadata": {}
        },
        {
          "output_type": "display_data",
          "data": {
            "text/html": [
              "FALSE"
            ],
            "text/markdown": "FALSE",
            "text/latex": "FALSE",
            "text/plain": [
              "[1] FALSE"
            ]
          },
          "metadata": {}
        }
      ]
    },
    {
      "cell_type": "code",
      "metadata": {
        "id": "crOp1-6HySNP",
        "outputId": "7f2357d5-2b23-4075-c7dc-28c86eeb6389",
        "colab": {
          "base_uri": "https://localhost:8080/",
          "height": 69
        }
      },
      "source": [
        "# podemos realizar comparaciones aritméticas\n",
        "3 > -8\n",
        "5 <= 5\n",
        "\n",
        "-10 > 1"
      ],
      "execution_count": 24,
      "outputs": [
        {
          "output_type": "display_data",
          "data": {
            "text/html": [
              "TRUE"
            ],
            "text/markdown": "TRUE",
            "text/latex": "TRUE",
            "text/plain": [
              "[1] TRUE"
            ]
          },
          "metadata": {}
        },
        {
          "output_type": "display_data",
          "data": {
            "text/html": [
              "TRUE"
            ],
            "text/markdown": "TRUE",
            "text/latex": "TRUE",
            "text/plain": [
              "[1] TRUE"
            ]
          },
          "metadata": {}
        },
        {
          "output_type": "display_data",
          "data": {
            "text/html": [
              "FALSE"
            ],
            "text/markdown": "FALSE",
            "text/latex": "FALSE",
            "text/plain": [
              "[1] FALSE"
            ]
          },
          "metadata": {}
        }
      ]
    },
    {
      "cell_type": "code",
      "metadata": {
        "id": "HZ9EQNrQySNS",
        "outputId": "a36dc785-f02a-44f9-c2c4-1779186a6f12",
        "colab": {
          "base_uri": "https://localhost:8080/",
          "height": 86
        }
      },
      "source": [
        "# NOTA:valor infinito\n",
        "Inf\n",
        "\n",
        "Inf*100\n",
        "Inf+Inf\n",
        "0*Inf\n",
        "\n"
      ],
      "execution_count": 28,
      "outputs": [
        {
          "output_type": "display_data",
          "data": {
            "text/html": [
              "Inf"
            ],
            "text/markdown": "Inf",
            "text/latex": "Inf",
            "text/plain": [
              "[1] Inf"
            ]
          },
          "metadata": {}
        },
        {
          "output_type": "display_data",
          "data": {
            "text/html": [
              "Inf"
            ],
            "text/markdown": "Inf",
            "text/latex": "Inf",
            "text/plain": [
              "[1] Inf"
            ]
          },
          "metadata": {}
        },
        {
          "output_type": "display_data",
          "data": {
            "text/html": [
              "Inf"
            ],
            "text/markdown": "Inf",
            "text/latex": "Inf",
            "text/plain": [
              "[1] Inf"
            ]
          },
          "metadata": {}
        },
        {
          "output_type": "display_data",
          "data": {
            "text/html": [
              "NaN"
            ],
            "text/markdown": "NaN",
            "text/latex": "NaN",
            "text/plain": [
              "[1] NaN"
            ]
          },
          "metadata": {}
        }
      ]
    },
    {
      "cell_type": "code",
      "metadata": {
        "id": "ujQiJGcbySNe",
        "outputId": "52a8fdd2-f1ce-4d10-8dfb-437334bdf5bc",
        "colab": {
          "base_uri": "https://localhost:8080/",
          "height": 104
        }
      },
      "source": [
        "# date\n",
        "# NOTA: podemos preguntarnos por la clase del dato almacenado en una variable\n",
        "\n",
        "class(b)\n",
        "class(no_fecha)\n",
        "no_fecha\n",
        "# Tipo de dato\n",
        "typeof(b)\n",
        "typeof(no_fecha)\n",
        "\n",
        "\n",
        "\n"
      ],
      "execution_count": 31,
      "outputs": [
        {
          "output_type": "display_data",
          "data": {
            "text/html": [
              "'numeric'"
            ],
            "text/markdown": "'numeric'",
            "text/latex": "'numeric'",
            "text/plain": [
              "[1] \"numeric\""
            ]
          },
          "metadata": {}
        },
        {
          "output_type": "display_data",
          "data": {
            "text/html": [
              "'character'"
            ],
            "text/markdown": "'character'",
            "text/latex": "'character'",
            "text/plain": [
              "[1] \"character\""
            ]
          },
          "metadata": {}
        },
        {
          "output_type": "display_data",
          "data": {
            "text/html": [
              "'2022-06-03'"
            ],
            "text/markdown": "'2022-06-03'",
            "text/latex": "'2022-06-03'",
            "text/plain": [
              "[1] \"2022-06-03\""
            ]
          },
          "metadata": {}
        },
        {
          "output_type": "display_data",
          "data": {
            "text/html": [
              "'double'"
            ],
            "text/markdown": "'double'",
            "text/latex": "'double'",
            "text/plain": [
              "[1] \"double\""
            ]
          },
          "metadata": {}
        },
        {
          "output_type": "display_data",
          "data": {
            "text/html": [
              "'character'"
            ],
            "text/markdown": "'character'",
            "text/latex": "'character'",
            "text/plain": [
              "[1] \"character\""
            ]
          },
          "metadata": {}
        }
      ]
    },
    {
      "cell_type": "code",
      "source": [
        "# coercionamos a clase date\n",
        "no_fecha\n",
        "fecha <- as.Date(no_fecha)\n",
        "\n",
        "class(fecha)\n",
        "typeof(fecha)"
      ],
      "metadata": {
        "id": "OQR4b7M1Bskg",
        "outputId": "4b1f8f48-222d-49ae-e1ee-d16545b188b2",
        "colab": {
          "base_uri": "https://localhost:8080/",
          "height": 69
        }
      },
      "execution_count": 35,
      "outputs": [
        {
          "output_type": "display_data",
          "data": {
            "text/html": [
              "'2022-06-03'"
            ],
            "text/markdown": "'2022-06-03'",
            "text/latex": "'2022-06-03'",
            "text/plain": [
              "[1] \"2022-06-03\""
            ]
          },
          "metadata": {}
        },
        {
          "output_type": "display_data",
          "data": {
            "text/html": [
              "'Date'"
            ],
            "text/markdown": "'Date'",
            "text/latex": "'Date'",
            "text/plain": [
              "[1] \"Date\""
            ]
          },
          "metadata": {}
        },
        {
          "output_type": "display_data",
          "data": {
            "text/html": [
              "'double'"
            ],
            "text/markdown": "'double'",
            "text/latex": "'double'",
            "text/plain": [
              "[1] \"double\""
            ]
          },
          "metadata": {}
        }
      ]
    },
    {
      "cell_type": "code",
      "source": [
        "as.Date(\"30-12-2021\", format = \"%d-%m-%Y\")"
      ],
      "metadata": {
        "id": "1dIBPX01CPFD",
        "outputId": "7d395fd8-aff9-44a6-dcfe-561327ee2d35",
        "colab": {
          "base_uri": "https://localhost:8080/",
          "height": 34
        }
      },
      "execution_count": 39,
      "outputs": [
        {
          "output_type": "display_data",
          "data": {
            "text/html": [
              "<time datetime=\"2021-12-30\">2021-12-30</time>"
            ],
            "text/markdown": "2021-12-30",
            "text/latex": "2021-12-30",
            "text/plain": [
              "[1] \"2021-12-30\""
            ]
          },
          "metadata": {}
        }
      ]
    },
    {
      "cell_type": "code",
      "metadata": {
        "id": "IuoyidKOySNn"
      },
      "source": [
        "# Observación: Inmutabilidad de variables en R.\n",
        "\n",
        "x <- 10\n",
        "y <- x+1\n",
        "\n"
      ],
      "execution_count": 40,
      "outputs": []
    },
    {
      "cell_type": "code",
      "source": [
        "y"
      ],
      "metadata": {
        "id": "PhtKMMenDkCF",
        "outputId": "145c7a4d-1d6a-4eee-8c3a-f4d012c00220",
        "colab": {
          "base_uri": "https://localhost:8080/",
          "height": 34
        }
      },
      "execution_count": 41,
      "outputs": [
        {
          "output_type": "display_data",
          "data": {
            "text/html": [
              "11"
            ],
            "text/markdown": "11",
            "text/latex": "11",
            "text/plain": [
              "[1] 11"
            ]
          },
          "metadata": {}
        }
      ]
    },
    {
      "cell_type": "code",
      "source": [
        "x <- 11"
      ],
      "metadata": {
        "id": "W706-77GDloh"
      },
      "execution_count": 42,
      "outputs": []
    },
    {
      "cell_type": "code",
      "source": [
        "x"
      ],
      "metadata": {
        "id": "P_kPe3kPDriq",
        "outputId": "e5e335b5-6abd-4816-871a-23ca94faf7bf",
        "colab": {
          "base_uri": "https://localhost:8080/",
          "height": 34
        }
      },
      "execution_count": 43,
      "outputs": [
        {
          "output_type": "display_data",
          "data": {
            "text/html": [
              "11"
            ],
            "text/markdown": "11",
            "text/latex": "11",
            "text/plain": [
              "[1] 11"
            ]
          },
          "metadata": {}
        }
      ]
    },
    {
      "cell_type": "code",
      "metadata": {
        "id": "9Fao-xGlySNr"
      },
      "source": [
        "# ¿Qué valor tiene y?\n",
        "y\n",
        "# en R las asignaciones por defecto se realizan por valor y no por referencia. \n",
        "\n"
      ],
      "execution_count": null,
      "outputs": []
    },
    {
      "cell_type": "markdown",
      "metadata": {
        "id": "tDPGo6PyySNu"
      },
      "source": [
        "### Observación:\n",
        "\n",
        "   1. Cada vez que se define una variable en R, esta queda almacenada en memoria. Una manera de limpiar las variables que se han definido en memoria, es a través de la función rm().\n",
        "   2. Documentación de R. Cada vez que se quiera acceder a la documentación de una librería o función en particular, se puede tipear \"?\" o \"help()\".\n",
        "   3. Cada vez que se define una nueva variable con el mismo nombre, esta simplemente actualiza su valor.\n",
        "    "
      ]
    },
    {
      "cell_type": "code",
      "metadata": {
        "id": "EHevI0LlySNv",
        "outputId": "abbc4ba6-1386-4200-de93-49878ec05d9f",
        "colab": {
          "base_uri": "https://localhost:8080/",
          "height": 34
        }
      },
      "source": [
        "ls() # retorna un vector con los nombres de todas las variables definidas en el ambiente\n"
      ],
      "execution_count": 52,
      "outputs": [
        {
          "output_type": "display_data",
          "data": {
            "text/html": [
              "<style>\n",
              ".list-inline {list-style: none; margin:0; padding: 0}\n",
              ".list-inline>li {display: inline-block}\n",
              ".list-inline>li:not(:last-child)::after {content: \"\\00b7\"; padding: 0 .5ex}\n",
              "</style>\n",
              "<ol class=list-inline><li>'a'</li><li>'b'</li><li>'falso'</li><li>'lala'</li><li>'lala2'</li><li>'no_fecha'</li><li>'y'</li></ol>\n"
            ],
            "text/markdown": "1. 'a'\n2. 'b'\n3. 'falso'\n4. 'lala'\n5. 'lala2'\n6. 'no_fecha'\n7. 'y'\n\n\n",
            "text/latex": "\\begin{enumerate*}\n\\item 'a'\n\\item 'b'\n\\item 'falso'\n\\item 'lala'\n\\item 'lala2'\n\\item 'no\\_fecha'\n\\item 'y'\n\\end{enumerate*}\n",
            "text/plain": [
              "[1] \"a\"        \"b\"        \"falso\"    \"lala\"     \"lala2\"    \"no_fecha\" \"y\"       "
            ]
          },
          "metadata": {}
        }
      ]
    },
    {
      "cell_type": "code",
      "metadata": {
        "id": "UJq0dPSIySNx"
      },
      "source": [
        "# remueva algunas de las variables generadas anteriormente\n",
        "rm(fecha)"
      ],
      "execution_count": 48,
      "outputs": []
    },
    {
      "cell_type": "code",
      "source": [
        "rm(list = c(\"string\",\"verdad\",\"x\"))"
      ],
      "metadata": {
        "id": "rhSPRMwkExsq"
      },
      "execution_count": 51,
      "outputs": []
    },
    {
      "cell_type": "markdown",
      "metadata": {
        "id": "qVG7GGScySN5"
      },
      "source": [
        "### 2.1. Missing values\n",
        "\n",
        "En R, existen tipos de datos especiales para caracterizar la ausencia o la no definición de una variable. Los valores especiales que maneja R son NA, NaN, Inf, -Inf. "
      ]
    },
    {
      "cell_type": "code",
      "metadata": {
        "id": "o60_IFkbySN5",
        "outputId": "a021e03b-f359-4fdc-efcc-116373799cdc",
        "colab": {
          "base_uri": "https://localhost:8080/",
          "height": 34
        }
      },
      "source": [
        "# 2.1. Missing Values ------------\n",
        "# Acá se explica la diferencia entre ellos y cómo reconocerlos.\n",
        "NA  # Not available. Blank de excel o el NULL de SQL\n",
        "NaN # Not a number. \n"
      ],
      "execution_count": 53,
      "outputs": [
        {
          "output_type": "display_data",
          "data": {
            "text/html": [
              "&lt;NA&gt;"
            ],
            "text/markdown": "&lt;NA&gt;",
            "text/latex": "<NA>",
            "text/plain": [
              "[1] NA"
            ]
          },
          "metadata": {}
        }
      ]
    },
    {
      "cell_type": "code",
      "metadata": {
        "id": "_rbLuRSOZ7pM",
        "outputId": "8f4ba99c-6496-4a49-bcf7-b0747a9c54ab",
        "colab": {
          "base_uri": "https://localhost:8080/",
          "height": 34
        }
      },
      "source": [
        "# para identificar un valor NA o NaN podemos utilizar la función is.na\n"
      ],
      "execution_count": 56,
      "outputs": [
        {
          "output_type": "display_data",
          "data": {
            "text/html": [
              "TRUE"
            ],
            "text/markdown": "TRUE",
            "text/latex": "TRUE",
            "text/plain": [
              "[1] TRUE"
            ]
          },
          "metadata": {}
        }
      ]
    },
    {
      "cell_type": "code",
      "source": [
        "var1 <- 10"
      ],
      "metadata": {
        "id": "HsF-pcG4GH_s"
      },
      "execution_count": 58,
      "outputs": []
    },
    {
      "cell_type": "code",
      "source": [
        "var1 == 5"
      ],
      "metadata": {
        "id": "HQbaB36wGGEK",
        "outputId": "fd5be638-deb1-45b9-f21e-e1d43e98bd4c",
        "colab": {
          "base_uri": "https://localhost:8080/",
          "height": 34
        }
      },
      "execution_count": 59,
      "outputs": [
        {
          "output_type": "display_data",
          "data": {
            "text/html": [
              "FALSE"
            ],
            "text/markdown": "FALSE",
            "text/latex": "FALSE",
            "text/plain": [
              "[1] FALSE"
            ]
          },
          "metadata": {}
        }
      ]
    },
    {
      "cell_type": "code",
      "source": [
        "var1 == NA"
      ],
      "metadata": {
        "id": "Qp3crS0HGNlB",
        "outputId": "02f64a2e-f0ba-4056-a0f1-a9946f9f1450",
        "colab": {
          "base_uri": "https://localhost:8080/",
          "height": 34
        }
      },
      "execution_count": 60,
      "outputs": [
        {
          "output_type": "display_data",
          "data": {
            "text/html": [
              "&lt;NA&gt;"
            ],
            "text/markdown": "&lt;NA&gt;",
            "text/latex": "<NA>",
            "text/plain": [
              "[1] NA"
            ]
          },
          "metadata": {}
        }
      ]
    },
    {
      "cell_type": "code",
      "source": [
        "NA == NA"
      ],
      "metadata": {
        "id": "5_194GdMGcHy",
        "outputId": "d5359908-91af-40f1-9ebd-45f5e156b8c3",
        "colab": {
          "base_uri": "https://localhost:8080/",
          "height": 34
        }
      },
      "execution_count": 61,
      "outputs": [
        {
          "output_type": "display_data",
          "data": {
            "text/html": [
              "&lt;NA&gt;"
            ],
            "text/markdown": "&lt;NA&gt;",
            "text/latex": "<NA>",
            "text/plain": [
              "[1] NA"
            ]
          },
          "metadata": {}
        }
      ]
    },
    {
      "cell_type": "code",
      "source": [
        "is.na(var1)"
      ],
      "metadata": {
        "id": "rCoU-ifKGk2p",
        "outputId": "e3d64363-62f5-4c8d-a6b4-e3cb5faba57c",
        "colab": {
          "base_uri": "https://localhost:8080/",
          "height": 34
        }
      },
      "execution_count": 62,
      "outputs": [
        {
          "output_type": "display_data",
          "data": {
            "text/html": [
              "FALSE"
            ],
            "text/markdown": "FALSE",
            "text/latex": "FALSE",
            "text/plain": [
              "[1] FALSE"
            ]
          },
          "metadata": {}
        }
      ]
    },
    {
      "cell_type": "code",
      "source": [
        "is.na(NA)"
      ],
      "metadata": {
        "id": "YELe9o5gGoQz",
        "outputId": "8165e782-1c04-4143-e16d-c311c8654f0d",
        "colab": {
          "base_uri": "https://localhost:8080/",
          "height": 34
        }
      },
      "execution_count": 63,
      "outputs": [
        {
          "output_type": "display_data",
          "data": {
            "text/html": [
              "TRUE"
            ],
            "text/markdown": "TRUE",
            "text/latex": "TRUE",
            "text/plain": [
              "[1] TRUE"
            ]
          },
          "metadata": {}
        }
      ]
    },
    {
      "cell_type": "code",
      "source": [
        "is.nan(NaN)\n",
        "is.nan(NA)\n",
        "is.na(NaN)"
      ],
      "metadata": {
        "id": "GPG2ItOyGrrI",
        "outputId": "01e3e59a-c458-4fc7-fc05-7d3081f6dc7e",
        "colab": {
          "base_uri": "https://localhost:8080/",
          "height": 69
        }
      },
      "execution_count": 67,
      "outputs": [
        {
          "output_type": "display_data",
          "data": {
            "text/html": [
              "TRUE"
            ],
            "text/markdown": "TRUE",
            "text/latex": "TRUE",
            "text/plain": [
              "[1] TRUE"
            ]
          },
          "metadata": {}
        },
        {
          "output_type": "display_data",
          "data": {
            "text/html": [
              "FALSE"
            ],
            "text/markdown": "FALSE",
            "text/latex": "FALSE",
            "text/plain": [
              "[1] FALSE"
            ]
          },
          "metadata": {}
        },
        {
          "output_type": "display_data",
          "data": {
            "text/html": [
              "TRUE"
            ],
            "text/markdown": "TRUE",
            "text/latex": "TRUE",
            "text/plain": [
              "[1] TRUE"
            ]
          },
          "metadata": {}
        }
      ]
    },
    {
      "cell_type": "code",
      "source": [
        ""
      ],
      "metadata": {
        "id": "FUcVqdOaG6z3"
      },
      "execution_count": null,
      "outputs": []
    }
  ]
}