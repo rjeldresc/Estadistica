{
  "nbformat": 4,
  "nbformat_minor": 0,
  "metadata": {
    "colab": {
      "name": "Clase_1_02_vectores.ipynb",
      "provenance": [],
      "collapsed_sections": [],
      "include_colab_link": true
    },
    "kernelspec": {
      "name": "ir",
      "display_name": "R"
    }
  },
  "cells": [
    {
      "cell_type": "markdown",
      "metadata": {
        "id": "view-in-github",
        "colab_type": "text"
      },
      "source": [
        "<a href=\"https://colab.research.google.com/github/majorquev/DBDC_202206_Programacion_en_R_para_ciencia_de_datos/blob/main/Clase1/Clase_1_02_vectores_desarrollo.ipynb\" target=\"_parent\"><img src=\"https://colab.research.google.com/assets/colab-badge.svg\" alt=\"Open In Colab\"/></a>"
      ]
    },
    {
      "cell_type": "markdown",
      "metadata": {
        "collapsed": true,
        "id": "Yb2RXjL2Igun"
      },
      "source": [
        "# Parte 1: Introducción a R (continuación)\n",
        "\n",
        "**Autor:** Miguel Jorquera Viguera<br>\n",
        "**E-mail:** majorquev@gmail.com<br>\n",
        "**Ayudante:** Rodrigo Morales <br>\n",
        "**E-mail ayudante:** rumorale1@gmail.com\n",
        "\n"
      ]
    },
    {
      "cell_type": "markdown",
      "metadata": {
        "id": "d_bHZs66Iguo"
      },
      "source": [
        "## 3. Vectores y matrices\n",
        "\n",
        "### 3.1 Vectores\n",
        "\n",
        "En R, así como en la mayoría de los lenguajes de programación, uno de los objetos más usuales para almacenar información son los vectores, los que corresponden a arreglos unidimensionales que almacenan un mismo tipo de dato en cada una de sus entradas.\n",
        "\n",
        "Todo vector en R se puede declarar con la letra \"c\" seguido de los elementos que lo componen entre paréntesis y separados por comas."
      ]
    },
    {
      "cell_type": "code",
      "metadata": {
        "id": "ljQ0JcsTIgup",
        "outputId": "f753202d-b090-4dfb-b2d0-f2ba57403b19",
        "colab": {
          "base_uri": "https://localhost:8080/",
          "height": 34
        }
      },
      "source": [
        "# Declaración de dos vectores\n",
        "v1 <- c(1,1,2,3,5,8)\n",
        "v2 <- c(11,12)\n",
        "pl <- c(\"Hola\",\"soy\", \"Miguel\")"
      ],
      "execution_count": null,
      "outputs": [
        {
          "output_type": "display_data",
          "data": {
            "text/html": [
              "<style>\n",
              ".list-inline {list-style: none; margin:0; padding: 0}\n",
              ".list-inline>li {display: inline-block}\n",
              ".list-inline>li:not(:last-child)::after {content: \"\\00b7\"; padding: 0 .5ex}\n",
              "</style>\n",
              "<ol class=list-inline><li>1</li><li>1</li><li>2</li><li>3</li><li>5</li><li>8</li></ol>\n"
            ],
            "text/markdown": "1. 1\n2. 1\n3. 2\n4. 3\n5. 5\n6. 8\n\n\n",
            "text/latex": "\\begin{enumerate*}\n\\item 1\n\\item 1\n\\item 2\n\\item 3\n\\item 5\n\\item 8\n\\end{enumerate*}\n",
            "text/plain": [
              "[1] 1 1 2 3 5 8"
            ]
          },
          "metadata": {}
        }
      ]
    },
    {
      "cell_type": "code",
      "source": [
        "v1\n",
        "v2\n",
        "pl"
      ],
      "metadata": {
        "id": "cQGsIkGdLcmL",
        "outputId": "c682b19d-c916-4dd8-bfa5-77c805495021",
        "colab": {
          "base_uri": "https://localhost:8080/",
          "height": 69
        }
      },
      "execution_count": null,
      "outputs": [
        {
          "output_type": "display_data",
          "data": {
            "text/html": [
              "<style>\n",
              ".list-inline {list-style: none; margin:0; padding: 0}\n",
              ".list-inline>li {display: inline-block}\n",
              ".list-inline>li:not(:last-child)::after {content: \"\\00b7\"; padding: 0 .5ex}\n",
              "</style>\n",
              "<ol class=list-inline><li>1</li><li>1</li><li>2</li><li>3</li><li>5</li><li>8</li></ol>\n"
            ],
            "text/markdown": "1. 1\n2. 1\n3. 2\n4. 3\n5. 5\n6. 8\n\n\n",
            "text/latex": "\\begin{enumerate*}\n\\item 1\n\\item 1\n\\item 2\n\\item 3\n\\item 5\n\\item 8\n\\end{enumerate*}\n",
            "text/plain": [
              "[1] 1 1 2 3 5 8"
            ]
          },
          "metadata": {}
        },
        {
          "output_type": "display_data",
          "data": {
            "text/html": [
              "<style>\n",
              ".list-inline {list-style: none; margin:0; padding: 0}\n",
              ".list-inline>li {display: inline-block}\n",
              ".list-inline>li:not(:last-child)::after {content: \"\\00b7\"; padding: 0 .5ex}\n",
              "</style>\n",
              "<ol class=list-inline><li>11</li><li>12</li></ol>\n"
            ],
            "text/markdown": "1. 11\n2. 12\n\n\n",
            "text/latex": "\\begin{enumerate*}\n\\item 11\n\\item 12\n\\end{enumerate*}\n",
            "text/plain": [
              "[1] 11 12"
            ]
          },
          "metadata": {}
        },
        {
          "output_type": "display_data",
          "data": {
            "text/html": [
              "<style>\n",
              ".list-inline {list-style: none; margin:0; padding: 0}\n",
              ".list-inline>li {display: inline-block}\n",
              ".list-inline>li:not(:last-child)::after {content: \"\\00b7\"; padding: 0 .5ex}\n",
              "</style>\n",
              "<ol class=list-inline><li>'Hola'</li><li>'soy'</li><li>'Miguel'</li></ol>\n"
            ],
            "text/markdown": "1. 'Hola'\n2. 'soy'\n3. 'Miguel'\n\n\n",
            "text/latex": "\\begin{enumerate*}\n\\item 'Hola'\n\\item 'soy'\n\\item 'Miguel'\n\\end{enumerate*}\n",
            "text/plain": [
              "[1] \"Hola\"   \"soy\"    \"Miguel\""
            ]
          },
          "metadata": {}
        }
      ]
    },
    {
      "cell_type": "code",
      "metadata": {
        "id": "GxHhDdS4Iguy",
        "outputId": "52a8c07f-4394-4ea9-a51a-1cc8714a02e8",
        "colab": {
          "base_uri": "https://localhost:8080/",
          "height": 52
        }
      },
      "source": [
        "# clase y tipo de dato\n",
        "class(v1)\n",
        "class(pl)"
      ],
      "execution_count": null,
      "outputs": [
        {
          "output_type": "display_data",
          "data": {
            "text/html": [
              "'numeric'"
            ],
            "text/markdown": "'numeric'",
            "text/latex": "'numeric'",
            "text/plain": [
              "[1] \"numeric\""
            ]
          },
          "metadata": {}
        },
        {
          "output_type": "display_data",
          "data": {
            "text/html": [
              "'character'"
            ],
            "text/markdown": "'character'",
            "text/latex": "'character'",
            "text/plain": [
              "[1] \"character\""
            ]
          },
          "metadata": {}
        }
      ]
    },
    {
      "cell_type": "code",
      "metadata": {
        "id": "FUBvbIN9Igu4",
        "outputId": "c2a09aed-dd94-448b-cced-81ad6ff89042",
        "colab": {
          "base_uri": "https://localhost:8080/",
          "height": 34
        }
      },
      "source": [
        "# vectores lógicos\n",
        "logicos <- c(TRUE,FALSE, T, F)\n",
        "logicos"
      ],
      "execution_count": null,
      "outputs": [
        {
          "output_type": "display_data",
          "data": {
            "text/html": [
              "<style>\n",
              ".list-inline {list-style: none; margin:0; padding: 0}\n",
              ".list-inline>li {display: inline-block}\n",
              ".list-inline>li:not(:last-child)::after {content: \"\\00b7\"; padding: 0 .5ex}\n",
              "</style>\n",
              "<ol class=list-inline><li>TRUE</li><li>FALSE</li><li>TRUE</li><li>FALSE</li></ol>\n"
            ],
            "text/markdown": "1. TRUE\n2. FALSE\n3. TRUE\n4. FALSE\n\n\n",
            "text/latex": "\\begin{enumerate*}\n\\item TRUE\n\\item FALSE\n\\item TRUE\n\\item FALSE\n\\end{enumerate*}\n",
            "text/plain": [
              "[1]  TRUE FALSE  TRUE FALSE"
            ]
          },
          "metadata": {}
        }
      ]
    },
    {
      "cell_type": "code",
      "metadata": {
        "id": "R88mjniaIgu_",
        "outputId": "dd7e9591-4828-4acd-dcfc-0b58c77b0731",
        "colab": {
          "base_uri": "https://localhost:8080/",
          "height": 35
        }
      },
      "source": [
        "# Nombres de las entradas de un vector\n",
        "names(v2)# Como v2 no tiene nombres, retorna un objeto vacío\n",
        "\n"
      ],
      "execution_count": null,
      "outputs": [
        {
          "output_type": "display_data",
          "data": {
            "text/plain": [
              "NULL"
            ]
          },
          "metadata": {}
        }
      ]
    },
    {
      "cell_type": "code",
      "source": [
        "# podemos asignar los nombres a vector 2 y 1\n",
        "names(v2) <- c(\"n1\",\"n2\")\n",
        "names(v1) <- c(\"a1\",\"a2\",\"a3\",\"a4\",\"a5\",\"a6\")"
      ],
      "metadata": {
        "id": "--zKZejUMbW6"
      },
      "execution_count": null,
      "outputs": []
    },
    {
      "cell_type": "code",
      "source": [
        "v2\n",
        "v1"
      ],
      "metadata": {
        "id": "jIADS2-pMnSq",
        "outputId": "09b0a0c2-8382-4c38-9db1-8a184d82442b",
        "colab": {
          "base_uri": "https://localhost:8080/",
          "height": 52
        }
      },
      "execution_count": null,
      "outputs": [
        {
          "output_type": "display_data",
          "data": {
            "text/html": [
              "<style>\n",
              ".dl-inline {width: auto; margin:0; padding: 0}\n",
              ".dl-inline>dt, .dl-inline>dd {float: none; width: auto; display: inline-block}\n",
              ".dl-inline>dt::after {content: \":\\0020\"; padding-right: .5ex}\n",
              ".dl-inline>dt:not(:first-of-type) {padding-left: .5ex}\n",
              "</style><dl class=dl-inline><dt>n1</dt><dd>11</dd><dt>n2</dt><dd>12</dd></dl>\n"
            ],
            "text/markdown": "n1\n:   11n2\n:   12\n\n",
            "text/latex": "\\begin{description*}\n\\item[n1] 11\n\\item[n2] 12\n\\end{description*}\n",
            "text/plain": [
              "n1 n2 \n",
              "11 12 "
            ]
          },
          "metadata": {}
        },
        {
          "output_type": "display_data",
          "data": {
            "text/html": [
              "<style>\n",
              ".dl-inline {width: auto; margin:0; padding: 0}\n",
              ".dl-inline>dt, .dl-inline>dd {float: none; width: auto; display: inline-block}\n",
              ".dl-inline>dt::after {content: \":\\0020\"; padding-right: .5ex}\n",
              ".dl-inline>dt:not(:first-of-type) {padding-left: .5ex}\n",
              "</style><dl class=dl-inline><dt>a1</dt><dd>1</dd><dt>a2</dt><dd>1</dd><dt>a3</dt><dd>2</dd><dt>a4</dt><dd>3</dd><dt>a5</dt><dd>5</dd><dt>a6</dt><dd>8</dd></dl>\n"
            ],
            "text/markdown": "a1\n:   1a2\n:   1a3\n:   2a4\n:   3a5\n:   5a6\n:   8\n\n",
            "text/latex": "\\begin{description*}\n\\item[a1] 1\n\\item[a2] 1\n\\item[a3] 2\n\\item[a4] 3\n\\item[a5] 5\n\\item[a6] 8\n\\end{description*}\n",
            "text/plain": [
              "a1 a2 a3 a4 a5 a6 \n",
              " 1  1  2  3  5  8 "
            ]
          },
          "metadata": {}
        }
      ]
    },
    {
      "cell_type": "code",
      "metadata": {
        "id": "E6dxkyP5IgvF",
        "outputId": "7f2ef805-273d-47ee-9d52-d7a1288d3482",
        "colab": {
          "base_uri": "https://localhost:8080/",
          "height": 34
        }
      },
      "source": [
        "# nombres de las entradas con la función, names()\n",
        "names(v2)"
      ],
      "execution_count": null,
      "outputs": [
        {
          "output_type": "display_data",
          "data": {
            "text/html": [
              "<style>\n",
              ".list-inline {list-style: none; margin:0; padding: 0}\n",
              ".list-inline>li {display: inline-block}\n",
              ".list-inline>li:not(:last-child)::after {content: \"\\00b7\"; padding: 0 .5ex}\n",
              "</style>\n",
              "<ol class=list-inline><li>'n1'</li><li>'n2'</li></ol>\n"
            ],
            "text/markdown": "1. 'n1'\n2. 'n2'\n\n\n",
            "text/latex": "\\begin{enumerate*}\n\\item 'n1'\n\\item 'n2'\n\\end{enumerate*}\n",
            "text/plain": [
              "[1] \"n1\" \"n2\""
            ]
          },
          "metadata": {}
        }
      ]
    },
    {
      "cell_type": "code",
      "metadata": {
        "id": "7Ayre5BlIgvH",
        "outputId": "9b79faf8-6701-427d-e41e-cd145c2c1bb3",
        "colab": {
          "base_uri": "https://localhost:8080/",
          "height": 34
        }
      },
      "source": [
        "#combinar vectores\n",
        "v3 <- c(v1,v2)\n",
        "v3"
      ],
      "execution_count": null,
      "outputs": [
        {
          "output_type": "display_data",
          "data": {
            "text/html": [
              "<style>\n",
              ".dl-inline {width: auto; margin:0; padding: 0}\n",
              ".dl-inline>dt, .dl-inline>dd {float: none; width: auto; display: inline-block}\n",
              ".dl-inline>dt::after {content: \":\\0020\"; padding-right: .5ex}\n",
              ".dl-inline>dt:not(:first-of-type) {padding-left: .5ex}\n",
              "</style><dl class=dl-inline><dt>a1</dt><dd>1</dd><dt>a2</dt><dd>1</dd><dt>a3</dt><dd>2</dd><dt>a4</dt><dd>3</dd><dt>a5</dt><dd>5</dd><dt>a6</dt><dd>8</dd><dt>n1</dt><dd>11</dd><dt>n2</dt><dd>12</dd></dl>\n"
            ],
            "text/markdown": "a1\n:   1a2\n:   1a3\n:   2a4\n:   3a5\n:   5a6\n:   8n1\n:   11n2\n:   12\n\n",
            "text/latex": "\\begin{description*}\n\\item[a1] 1\n\\item[a2] 1\n\\item[a3] 2\n\\item[a4] 3\n\\item[a5] 5\n\\item[a6] 8\n\\item[n1] 11\n\\item[n2] 12\n\\end{description*}\n",
            "text/plain": [
              "a1 a2 a3 a4 a5 a6 n1 n2 \n",
              " 1  1  2  3  5  8 11 12 "
            ]
          },
          "metadata": {}
        }
      ]
    },
    {
      "cell_type": "code",
      "metadata": {
        "id": "QETBghXxIgvI"
      },
      "source": [
        "# c : es una abreviación de \"combine\"\n"
      ],
      "execution_count": null,
      "outputs": []
    },
    {
      "cell_type": "code",
      "source": [
        "# largo de un vector\n",
        "\n",
        "length(v3)\n",
        "length(v2)"
      ],
      "metadata": {
        "id": "dL98cSndT99E",
        "outputId": "2dcc3344-6c51-4628-c477-6ef94594ce48",
        "colab": {
          "base_uri": "https://localhost:8080/",
          "height": 52
        }
      },
      "execution_count": null,
      "outputs": [
        {
          "output_type": "display_data",
          "data": {
            "text/html": [
              "8"
            ],
            "text/markdown": "8",
            "text/latex": "8",
            "text/plain": [
              "[1] 8"
            ]
          },
          "metadata": {}
        },
        {
          "output_type": "display_data",
          "data": {
            "text/html": [
              "2"
            ],
            "text/markdown": "2",
            "text/latex": "2",
            "text/plain": [
              "[1] 2"
            ]
          },
          "metadata": {}
        }
      ]
    },
    {
      "cell_type": "code",
      "source": [
        ""
      ],
      "metadata": {
        "id": "-byq9ytoUIn6"
      },
      "execution_count": null,
      "outputs": []
    },
    {
      "cell_type": "markdown",
      "metadata": {
        "id": "MX35j24_IgvN"
      },
      "source": [
        "#### 3.1.1 Acceso a los elementos de un vector\n",
        "\n",
        "El acceso a los elementos de un vector se puede llevar acabo indicando la posición del elemento (los naturales parten en 1!), el nombre de la casilla que lo contiene, o bien mediante sentencias lógicas que retornen \"TRUE\" en la posición deseada.\n",
        "\n"
      ]
    },
    {
      "cell_type": "code",
      "metadata": {
        "id": "zW2_TzKxIgvN",
        "outputId": "41907747-d297-4b15-a6e3-10d413ae26ba",
        "colab": {
          "base_uri": "https://localhost:8080/",
          "height": 34
        }
      },
      "source": [
        "# Mediante posición\n",
        "v3[8]"
      ],
      "execution_count": null,
      "outputs": [
        {
          "output_type": "display_data",
          "data": {
            "text/html": [
              "<strong>n2:</strong> 12"
            ],
            "text/markdown": "**n2:** 12",
            "text/latex": "\\textbf{n2:} 12",
            "text/plain": [
              "n2 \n",
              "12 "
            ]
          },
          "metadata": {}
        }
      ]
    },
    {
      "cell_type": "code",
      "metadata": {
        "id": "XWL1ZIyMIgvR",
        "outputId": "a21594c1-6945-495a-8db0-f208ee32ea20",
        "colab": {
          "base_uri": "https://localhost:8080/",
          "height": 34
        }
      },
      "source": [
        "# retorna los elementos de las casillas 1  y 4 de vector3\n",
        "# Misma sintaxis pero en los corchetes hay que de clarar un VECTOR de posiciones\n",
        "v3[c(1,4)]\n"
      ],
      "execution_count": null,
      "outputs": [
        {
          "output_type": "display_data",
          "data": {
            "text/html": [
              "<style>\n",
              ".dl-inline {width: auto; margin:0; padding: 0}\n",
              ".dl-inline>dt, .dl-inline>dd {float: none; width: auto; display: inline-block}\n",
              ".dl-inline>dt::after {content: \":\\0020\"; padding-right: .5ex}\n",
              ".dl-inline>dt:not(:first-of-type) {padding-left: .5ex}\n",
              "</style><dl class=dl-inline><dt>a1</dt><dd>1</dd><dt>a4</dt><dd>3</dd></dl>\n"
            ],
            "text/markdown": "a1\n:   1a4\n:   3\n\n",
            "text/latex": "\\begin{description*}\n\\item[a1] 1\n\\item[a4] 3\n\\end{description*}\n",
            "text/plain": [
              "a1 a4 \n",
              " 1  3 "
            ]
          },
          "metadata": {}
        }
      ]
    },
    {
      "cell_type": "code",
      "metadata": {
        "id": "uBqEKq1aIgvT",
        "outputId": "4f6d5cdd-ad95-487e-9988-b7a7023c197a",
        "colab": {
          "base_uri": "https://localhost:8080/",
          "height": 69
        }
      },
      "source": [
        "#NOTA 3:5, R lo interpreta como c(3,4,5)\n"
      ],
      "execution_count": null,
      "outputs": [
        {
          "output_type": "display_data",
          "data": {
            "text/html": [
              "<style>\n",
              ".list-inline {list-style: none; margin:0; padding: 0}\n",
              ".list-inline>li {display: inline-block}\n",
              ".list-inline>li:not(:last-child)::after {content: \"\\00b7\"; padding: 0 .5ex}\n",
              "</style>\n",
              "<ol class=list-inline><li>1</li><li>2</li><li>3</li><li>4</li><li>5</li><li>6</li><li>7</li><li>8</li><li>9</li><li>10</li><li>11</li><li>12</li><li>13</li><li>14</li><li>15</li><li>16</li><li>17</li><li>18</li><li>19</li><li>20</li><li>21</li><li>22</li><li>23</li><li>24</li><li>25</li><li>26</li><li>27</li><li>28</li><li>29</li><li>30</li><li>31</li><li>32</li><li>33</li><li>34</li><li>35</li><li>36</li><li>37</li><li>38</li><li>39</li><li>40</li><li>41</li><li>42</li><li>43</li><li>44</li><li>45</li><li>46</li><li>47</li><li>48</li><li>49</li><li>50</li><li>51</li><li>52</li><li>53</li><li>54</li><li>55</li><li>56</li><li>57</li><li>58</li><li>59</li><li>60</li><li>61</li><li>62</li><li>63</li><li>64</li><li>65</li><li>66</li><li>67</li><li>68</li><li>69</li><li>70</li><li>71</li><li>72</li><li>73</li><li>74</li><li>75</li><li>76</li><li>77</li><li>78</li><li>79</li><li>80</li><li>81</li><li>82</li><li>83</li><li>84</li><li>85</li><li>86</li><li>87</li><li>88</li><li>89</li><li>90</li><li>91</li><li>92</li><li>93</li><li>94</li><li>95</li><li>96</li><li>97</li><li>98</li><li>99</li><li>100</li></ol>\n"
            ],
            "text/markdown": "1. 1\n2. 2\n3. 3\n4. 4\n5. 5\n6. 6\n7. 7\n8. 8\n9. 9\n10. 10\n11. 11\n12. 12\n13. 13\n14. 14\n15. 15\n16. 16\n17. 17\n18. 18\n19. 19\n20. 20\n21. 21\n22. 22\n23. 23\n24. 24\n25. 25\n26. 26\n27. 27\n28. 28\n29. 29\n30. 30\n31. 31\n32. 32\n33. 33\n34. 34\n35. 35\n36. 36\n37. 37\n38. 38\n39. 39\n40. 40\n41. 41\n42. 42\n43. 43\n44. 44\n45. 45\n46. 46\n47. 47\n48. 48\n49. 49\n50. 50\n51. 51\n52. 52\n53. 53\n54. 54\n55. 55\n56. 56\n57. 57\n58. 58\n59. 59\n60. 60\n61. 61\n62. 62\n63. 63\n64. 64\n65. 65\n66. 66\n67. 67\n68. 68\n69. 69\n70. 70\n71. 71\n72. 72\n73. 73\n74. 74\n75. 75\n76. 76\n77. 77\n78. 78\n79. 79\n80. 80\n81. 81\n82. 82\n83. 83\n84. 84\n85. 85\n86. 86\n87. 87\n88. 88\n89. 89\n90. 90\n91. 91\n92. 92\n93. 93\n94. 94\n95. 95\n96. 96\n97. 97\n98. 98\n99. 99\n100. 100\n\n\n",
            "text/latex": "\\begin{enumerate*}\n\\item 1\n\\item 2\n\\item 3\n\\item 4\n\\item 5\n\\item 6\n\\item 7\n\\item 8\n\\item 9\n\\item 10\n\\item 11\n\\item 12\n\\item 13\n\\item 14\n\\item 15\n\\item 16\n\\item 17\n\\item 18\n\\item 19\n\\item 20\n\\item 21\n\\item 22\n\\item 23\n\\item 24\n\\item 25\n\\item 26\n\\item 27\n\\item 28\n\\item 29\n\\item 30\n\\item 31\n\\item 32\n\\item 33\n\\item 34\n\\item 35\n\\item 36\n\\item 37\n\\item 38\n\\item 39\n\\item 40\n\\item 41\n\\item 42\n\\item 43\n\\item 44\n\\item 45\n\\item 46\n\\item 47\n\\item 48\n\\item 49\n\\item 50\n\\item 51\n\\item 52\n\\item 53\n\\item 54\n\\item 55\n\\item 56\n\\item 57\n\\item 58\n\\item 59\n\\item 60\n\\item 61\n\\item 62\n\\item 63\n\\item 64\n\\item 65\n\\item 66\n\\item 67\n\\item 68\n\\item 69\n\\item 70\n\\item 71\n\\item 72\n\\item 73\n\\item 74\n\\item 75\n\\item 76\n\\item 77\n\\item 78\n\\item 79\n\\item 80\n\\item 81\n\\item 82\n\\item 83\n\\item 84\n\\item 85\n\\item 86\n\\item 87\n\\item 88\n\\item 89\n\\item 90\n\\item 91\n\\item 92\n\\item 93\n\\item 94\n\\item 95\n\\item 96\n\\item 97\n\\item 98\n\\item 99\n\\item 100\n\\end{enumerate*}\n",
            "text/plain": [
              "  [1]   1   2   3   4   5   6   7   8   9  10  11  12  13  14  15  16  17  18\n",
              " [19]  19  20  21  22  23  24  25  26  27  28  29  30  31  32  33  34  35  36\n",
              " [37]  37  38  39  40  41  42  43  44  45  46  47  48  49  50  51  52  53  54\n",
              " [55]  55  56  57  58  59  60  61  62  63  64  65  66  67  68  69  70  71  72\n",
              " [73]  73  74  75  76  77  78  79  80  81  82  83  84  85  86  87  88  89  90\n",
              " [91]  91  92  93  94  95  96  97  98  99 100"
            ]
          },
          "metadata": {}
        }
      ]
    },
    {
      "cell_type": "code",
      "source": [
        "v3[3:7] # Rescatamos todos los elementos de v3 desde la pos 3 a la 7\n",
        "v3[c(3,4,5,6,7)]"
      ],
      "metadata": {
        "id": "smBTBY8fOc6x",
        "outputId": "0a916886-ac5f-4a05-8715-19d3f7a5a836",
        "colab": {
          "base_uri": "https://localhost:8080/",
          "height": 52
        }
      },
      "execution_count": null,
      "outputs": [
        {
          "output_type": "display_data",
          "data": {
            "text/html": [
              "<style>\n",
              ".dl-inline {width: auto; margin:0; padding: 0}\n",
              ".dl-inline>dt, .dl-inline>dd {float: none; width: auto; display: inline-block}\n",
              ".dl-inline>dt::after {content: \":\\0020\"; padding-right: .5ex}\n",
              ".dl-inline>dt:not(:first-of-type) {padding-left: .5ex}\n",
              "</style><dl class=dl-inline><dt>a3</dt><dd>2</dd><dt>a4</dt><dd>3</dd><dt>a5</dt><dd>5</dd><dt>a6</dt><dd>8</dd><dt>n1</dt><dd>11</dd></dl>\n"
            ],
            "text/markdown": "a3\n:   2a4\n:   3a5\n:   5a6\n:   8n1\n:   11\n\n",
            "text/latex": "\\begin{description*}\n\\item[a3] 2\n\\item[a4] 3\n\\item[a5] 5\n\\item[a6] 8\n\\item[n1] 11\n\\end{description*}\n",
            "text/plain": [
              "a3 a4 a5 a6 n1 \n",
              " 2  3  5  8 11 "
            ]
          },
          "metadata": {}
        },
        {
          "output_type": "display_data",
          "data": {
            "text/html": [
              "<style>\n",
              ".dl-inline {width: auto; margin:0; padding: 0}\n",
              ".dl-inline>dt, .dl-inline>dd {float: none; width: auto; display: inline-block}\n",
              ".dl-inline>dt::after {content: \":\\0020\"; padding-right: .5ex}\n",
              ".dl-inline>dt:not(:first-of-type) {padding-left: .5ex}\n",
              "</style><dl class=dl-inline><dt>a3</dt><dd>2</dd><dt>a4</dt><dd>3</dd><dt>a5</dt><dd>5</dd><dt>a6</dt><dd>8</dd><dt>n1</dt><dd>11</dd></dl>\n"
            ],
            "text/markdown": "a3\n:   2a4\n:   3a5\n:   5a6\n:   8n1\n:   11\n\n",
            "text/latex": "\\begin{description*}\n\\item[a3] 2\n\\item[a4] 3\n\\item[a5] 5\n\\item[a6] 8\n\\item[n1] 11\n\\end{description*}\n",
            "text/plain": [
              "a3 a4 a5 a6 n1 \n",
              " 2  3  5  8 11 "
            ]
          },
          "metadata": {}
        }
      ]
    },
    {
      "cell_type": "code",
      "metadata": {
        "id": "XIuQSfvKIgvV",
        "outputId": "d9b79b94-9e1f-427d-d1e2-cbb30c04069e",
        "colab": {
          "base_uri": "https://localhost:8080/",
          "height": 34
        }
      },
      "source": [
        "# podemos acceder a los elmentos mediante el nombre\n",
        "v3[\"n1\"]"
      ],
      "execution_count": null,
      "outputs": [
        {
          "output_type": "display_data",
          "data": {
            "text/html": [
              "<strong>n1:</strong> 11"
            ],
            "text/markdown": "**n1:** 11",
            "text/latex": "\\textbf{n1:} 11",
            "text/plain": [
              "n1 \n",
              "11 "
            ]
          },
          "metadata": {}
        }
      ]
    },
    {
      "cell_type": "code",
      "source": [
        "v3[c(\"n1\",\"a5\")]"
      ],
      "metadata": {
        "id": "xHnYYTDwPEP6",
        "outputId": "dd3a8ca2-98fe-437f-972a-23a3993088df",
        "colab": {
          "base_uri": "https://localhost:8080/",
          "height": 34
        }
      },
      "execution_count": null,
      "outputs": [
        {
          "output_type": "display_data",
          "data": {
            "text/html": [
              "<style>\n",
              ".dl-inline {width: auto; margin:0; padding: 0}\n",
              ".dl-inline>dt, .dl-inline>dd {float: none; width: auto; display: inline-block}\n",
              ".dl-inline>dt::after {content: \":\\0020\"; padding-right: .5ex}\n",
              ".dl-inline>dt:not(:first-of-type) {padding-left: .5ex}\n",
              "</style><dl class=dl-inline><dt>n1</dt><dd>11</dd><dt>a5</dt><dd>5</dd></dl>\n"
            ],
            "text/markdown": "n1\n:   11a5\n:   5\n\n",
            "text/latex": "\\begin{description*}\n\\item[n1] 11\n\\item[a5] 5\n\\end{description*}\n",
            "text/plain": [
              "n1 a5 \n",
              "11  5 "
            ]
          },
          "metadata": {}
        }
      ]
    },
    {
      "cell_type": "code",
      "metadata": {
        "id": "IHjnaSSyIgvX",
        "outputId": "ef17a25e-3b85-4242-cc6b-68f42c2382ff",
        "colab": {
          "base_uri": "https://localhost:8080/",
          "height": 34
        }
      },
      "source": [
        "# cambiar la entrada 4  del un vector 3 por un 99\n",
        "v3[4] <- 99\n",
        "v3"
      ],
      "execution_count": null,
      "outputs": [
        {
          "output_type": "display_data",
          "data": {
            "text/html": [
              "<style>\n",
              ".dl-inline {width: auto; margin:0; padding: 0}\n",
              ".dl-inline>dt, .dl-inline>dd {float: none; width: auto; display: inline-block}\n",
              ".dl-inline>dt::after {content: \":\\0020\"; padding-right: .5ex}\n",
              ".dl-inline>dt:not(:first-of-type) {padding-left: .5ex}\n",
              "</style><dl class=dl-inline><dt>a1</dt><dd>1</dd><dt>a2</dt><dd>1</dd><dt>a3</dt><dd>2</dd><dt>a4</dt><dd>99</dd><dt>a5</dt><dd>5</dd><dt>a6</dt><dd>8</dd><dt>n1</dt><dd>11</dd><dt>n2</dt><dd>12</dd></dl>\n"
            ],
            "text/markdown": "a1\n:   1a2\n:   1a3\n:   2a4\n:   99a5\n:   5a6\n:   8n1\n:   11n2\n:   12\n\n",
            "text/latex": "\\begin{description*}\n\\item[a1] 1\n\\item[a2] 1\n\\item[a3] 2\n\\item[a4] 99\n\\item[a5] 5\n\\item[a6] 8\n\\item[n1] 11\n\\item[n2] 12\n\\end{description*}\n",
            "text/plain": [
              "a1 a2 a3 a4 a5 a6 n1 n2 \n",
              " 1  1  2 99  5  8 11 12 "
            ]
          },
          "metadata": {}
        }
      ]
    },
    {
      "cell_type": "code",
      "source": [
        ""
      ],
      "metadata": {
        "id": "ZyjyIlrwQaV7",
        "outputId": "bff5a741-0bcf-4149-cf64-30be6fa52751",
        "colab": {
          "base_uri": "https://localhost:8080/",
          "height": 52
        }
      },
      "execution_count": null,
      "outputs": [
        {
          "output_type": "display_data",
          "data": {
            "text/html": [
              "5"
            ],
            "text/markdown": "5",
            "text/latex": "5",
            "text/plain": [
              "[1] 5"
            ]
          },
          "metadata": {}
        },
        {
          "output_type": "display_data",
          "data": {
            "text/html": [
              "5"
            ],
            "text/markdown": "5",
            "text/latex": "5",
            "text/plain": [
              "[1] 5"
            ]
          },
          "metadata": {}
        }
      ]
    },
    {
      "cell_type": "code",
      "metadata": {
        "id": "cVzhj4ASIgvb"
      },
      "source": [
        "# podemos cambiar uno de los nombres (ej, queremos cambiar el sexto nombre por \"nombre_nuevo\")\n",
        "\n",
        "names(v3)[6] <- \"nuevo_nombre\"\n"
      ],
      "execution_count": null,
      "outputs": []
    },
    {
      "cell_type": "code",
      "source": [
        "names(v3)[c(1,8)] <- c(\"nuevo_nombre1\",\"nuevo_nombre2\")"
      ],
      "metadata": {
        "id": "eOCpdFAOQ0li"
      },
      "execution_count": null,
      "outputs": []
    },
    {
      "cell_type": "code",
      "source": [
        "v3"
      ],
      "metadata": {
        "id": "fpBamGbyQjxn",
        "outputId": "0355dd6a-23f1-4ffc-9d56-6fde1721d4c1",
        "colab": {
          "base_uri": "https://localhost:8080/",
          "height": 34
        }
      },
      "execution_count": null,
      "outputs": [
        {
          "output_type": "display_data",
          "data": {
            "text/html": [
              "<style>\n",
              ".dl-inline {width: auto; margin:0; padding: 0}\n",
              ".dl-inline>dt, .dl-inline>dd {float: none; width: auto; display: inline-block}\n",
              ".dl-inline>dt::after {content: \":\\0020\"; padding-right: .5ex}\n",
              ".dl-inline>dt:not(:first-of-type) {padding-left: .5ex}\n",
              "</style><dl class=dl-inline><dt>nuevo_nombre1</dt><dd>1</dd><dt>a2</dt><dd>1</dd><dt>a3</dt><dd>2</dd><dt>a4</dt><dd>99</dd><dt>a5</dt><dd>5</dd><dt>nuevo_nombre</dt><dd>8</dd><dt>n1</dt><dd>11</dd><dt>nuevo_nombre2</dt><dd>12</dd></dl>\n"
            ],
            "text/markdown": "nuevo_nombre1\n:   1a2\n:   1a3\n:   2a4\n:   99a5\n:   5nuevo_nombre\n:   8n1\n:   11nuevo_nombre2\n:   12\n\n",
            "text/latex": "\\begin{description*}\n\\item[nuevo\\textbackslash{}\\_nombre1] 1\n\\item[a2] 1\n\\item[a3] 2\n\\item[a4] 99\n\\item[a5] 5\n\\item[nuevo\\textbackslash{}\\_nombre] 8\n\\item[n1] 11\n\\item[nuevo\\textbackslash{}\\_nombre2] 12\n\\end{description*}\n",
            "text/plain": [
              "nuevo_nombre1            a2            a3            a4            a5 \n",
              "            1             1             2            99             5 \n",
              " nuevo_nombre            n1 nuevo_nombre2 \n",
              "            8            11            12 "
            ]
          },
          "metadata": {}
        }
      ]
    },
    {
      "cell_type": "code",
      "metadata": {
        "id": "b6oqx_D4Igvd"
      },
      "source": [
        "# podemos modificar varias posiciones a la vez\n",
        "# queremos re-asignar los valores 77 y 88 en las posiciones 3 y 7 respecivamente\n",
        "v3[c(3,7)] <- c(77,88)"
      ],
      "execution_count": null,
      "outputs": []
    },
    {
      "cell_type": "code",
      "source": [
        "v3"
      ],
      "metadata": {
        "id": "r-TE1CJtRH--",
        "outputId": "b1212718-9671-4690-f480-cb3be4c19cec",
        "colab": {
          "base_uri": "https://localhost:8080/",
          "height": 34
        }
      },
      "execution_count": null,
      "outputs": [
        {
          "output_type": "display_data",
          "data": {
            "text/html": [
              "<style>\n",
              ".dl-inline {width: auto; margin:0; padding: 0}\n",
              ".dl-inline>dt, .dl-inline>dd {float: none; width: auto; display: inline-block}\n",
              ".dl-inline>dt::after {content: \":\\0020\"; padding-right: .5ex}\n",
              ".dl-inline>dt:not(:first-of-type) {padding-left: .5ex}\n",
              "</style><dl class=dl-inline><dt>nuevo_nombre1</dt><dd>1</dd><dt>a2</dt><dd>1</dd><dt>a3</dt><dd>77</dd><dt>a4</dt><dd>99</dd><dt>a5</dt><dd>5</dd><dt>nuevo_nombre</dt><dd>8</dd><dt>n1</dt><dd>88</dd><dt>nuevo_nombre2</dt><dd>12</dd></dl>\n"
            ],
            "text/markdown": "nuevo_nombre1\n:   1a2\n:   1a3\n:   77a4\n:   99a5\n:   5nuevo_nombre\n:   8n1\n:   88nuevo_nombre2\n:   12\n\n",
            "text/latex": "\\begin{description*}\n\\item[nuevo\\textbackslash{}\\_nombre1] 1\n\\item[a2] 1\n\\item[a3] 77\n\\item[a4] 99\n\\item[a5] 5\n\\item[nuevo\\textbackslash{}\\_nombre] 8\n\\item[n1] 88\n\\item[nuevo\\textbackslash{}\\_nombre2] 12\n\\end{description*}\n",
            "text/plain": [
              "nuevo_nombre1            a2            a3            a4            a5 \n",
              "            1             1            77            99             5 \n",
              " nuevo_nombre            n1 nuevo_nombre2 \n",
              "            8            88            12 "
            ]
          },
          "metadata": {}
        }
      ]
    },
    {
      "cell_type": "markdown",
      "source": [
        "## Omitir entradas de un vector\n"
      ],
      "metadata": {
        "id": "lE3Pw5KEUONB"
      }
    },
    {
      "cell_type": "code",
      "source": [
        "v3"
      ],
      "metadata": {
        "id": "mMvtkpXIUa3M",
        "outputId": "77ce696c-cde9-4227-c641-1c8040aaf526",
        "colab": {
          "base_uri": "https://localhost:8080/",
          "height": 34
        }
      },
      "execution_count": null,
      "outputs": [
        {
          "output_type": "display_data",
          "data": {
            "text/html": [
              "<style>\n",
              ".dl-inline {width: auto; margin:0; padding: 0}\n",
              ".dl-inline>dt, .dl-inline>dd {float: none; width: auto; display: inline-block}\n",
              ".dl-inline>dt::after {content: \":\\0020\"; padding-right: .5ex}\n",
              ".dl-inline>dt:not(:first-of-type) {padding-left: .5ex}\n",
              "</style><dl class=dl-inline><dt>nuevo_nombre1</dt><dd>1</dd><dt>a2</dt><dd>1</dd><dt>a3</dt><dd>77</dd><dt>a4</dt><dd>99</dd><dt>a5</dt><dd>5</dd><dt>nuevo_nombre</dt><dd>8</dd><dt>n1</dt><dd>88</dd><dt>nuevo_nombre2</dt><dd>12</dd></dl>\n"
            ],
            "text/markdown": "nuevo_nombre1\n:   1a2\n:   1a3\n:   77a4\n:   99a5\n:   5nuevo_nombre\n:   8n1\n:   88nuevo_nombre2\n:   12\n\n",
            "text/latex": "\\begin{description*}\n\\item[nuevo\\textbackslash{}\\_nombre1] 1\n\\item[a2] 1\n\\item[a3] 77\n\\item[a4] 99\n\\item[a5] 5\n\\item[nuevo\\textbackslash{}\\_nombre] 8\n\\item[n1] 88\n\\item[nuevo\\textbackslash{}\\_nombre2] 12\n\\end{description*}\n",
            "text/plain": [
              "nuevo_nombre1            a2            a3            a4            a5 \n",
              "            1             1            77            99             5 \n",
              " nuevo_nombre            n1 nuevo_nombre2 \n",
              "            8            88            12 "
            ]
          },
          "metadata": {}
        }
      ]
    },
    {
      "cell_type": "code",
      "source": [
        "v3[-4]# Todos los elemntos salvo el de la pos 4"
      ],
      "metadata": {
        "id": "xeKgGXr3UMX2",
        "outputId": "e02ba30b-1860-46ea-8496-ab8033ba82f4",
        "colab": {
          "base_uri": "https://localhost:8080/",
          "height": 34
        }
      },
      "execution_count": null,
      "outputs": [
        {
          "output_type": "display_data",
          "data": {
            "text/html": [
              "<style>\n",
              ".dl-inline {width: auto; margin:0; padding: 0}\n",
              ".dl-inline>dt, .dl-inline>dd {float: none; width: auto; display: inline-block}\n",
              ".dl-inline>dt::after {content: \":\\0020\"; padding-right: .5ex}\n",
              ".dl-inline>dt:not(:first-of-type) {padding-left: .5ex}\n",
              "</style><dl class=dl-inline><dt>nuevo_nombre1</dt><dd>1</dd><dt>a2</dt><dd>1</dd><dt>a3</dt><dd>77</dd><dt>a5</dt><dd>5</dd><dt>nuevo_nombre</dt><dd>8</dd><dt>n1</dt><dd>88</dd><dt>nuevo_nombre2</dt><dd>12</dd></dl>\n"
            ],
            "text/markdown": "nuevo_nombre1\n:   1a2\n:   1a3\n:   77a5\n:   5nuevo_nombre\n:   8n1\n:   88nuevo_nombre2\n:   12\n\n",
            "text/latex": "\\begin{description*}\n\\item[nuevo\\textbackslash{}\\_nombre1] 1\n\\item[a2] 1\n\\item[a3] 77\n\\item[a5] 5\n\\item[nuevo\\textbackslash{}\\_nombre] 8\n\\item[n1] 88\n\\item[nuevo\\textbackslash{}\\_nombre2] 12\n\\end{description*}\n",
            "text/plain": [
              "nuevo_nombre1            a2            a3            a5  nuevo_nombre \n",
              "            1             1            77             5             8 \n",
              "           n1 nuevo_nombre2 \n",
              "           88            12 "
            ]
          },
          "metadata": {}
        }
      ]
    },
    {
      "cell_type": "code",
      "source": [
        "v3[-c(1,7)] # Todos los elementos salvo los de pos 1  y 7."
      ],
      "metadata": {
        "id": "zlAtWV89UkI2",
        "outputId": "dea62abb-d78e-4e5a-a7f0-8e2b50ba36a8",
        "colab": {
          "base_uri": "https://localhost:8080/",
          "height": 34
        }
      },
      "execution_count": null,
      "outputs": [
        {
          "output_type": "display_data",
          "data": {
            "text/html": [
              "<style>\n",
              ".dl-inline {width: auto; margin:0; padding: 0}\n",
              ".dl-inline>dt, .dl-inline>dd {float: none; width: auto; display: inline-block}\n",
              ".dl-inline>dt::after {content: \":\\0020\"; padding-right: .5ex}\n",
              ".dl-inline>dt:not(:first-of-type) {padding-left: .5ex}\n",
              "</style><dl class=dl-inline><dt>a2</dt><dd>1</dd><dt>a3</dt><dd>77</dd><dt>a4</dt><dd>99</dd><dt>a5</dt><dd>5</dd><dt>nuevo_nombre</dt><dd>8</dd><dt>nuevo_nombre2</dt><dd>12</dd></dl>\n"
            ],
            "text/markdown": "a2\n:   1a3\n:   77a4\n:   99a5\n:   5nuevo_nombre\n:   8nuevo_nombre2\n:   12\n\n",
            "text/latex": "\\begin{description*}\n\\item[a2] 1\n\\item[a3] 77\n\\item[a4] 99\n\\item[a5] 5\n\\item[nuevo\\textbackslash{}\\_nombre] 8\n\\item[nuevo\\textbackslash{}\\_nombre2] 12\n\\end{description*}\n",
            "text/plain": [
              "           a2            a3            a4            a5  nuevo_nombre \n",
              "            1            77            99             5             8 \n",
              "nuevo_nombre2 \n",
              "           12 "
            ]
          },
          "metadata": {}
        }
      ]
    },
    {
      "cell_type": "code",
      "source": [
        ""
      ],
      "metadata": {
        "id": "3tZMyBE2UoY5",
        "outputId": "6222c3e1-8a79-4070-b6d2-613361e24121",
        "colab": {
          "base_uri": "https://localhost:8080/",
          "height": 34
        }
      },
      "execution_count": null,
      "outputs": [
        {
          "output_type": "display_data",
          "data": {
            "text/html": [
              "<style>\n",
              ".dl-inline {width: auto; margin:0; padding: 0}\n",
              ".dl-inline>dt, .dl-inline>dd {float: none; width: auto; display: inline-block}\n",
              ".dl-inline>dt::after {content: \":\\0020\"; padding-right: .5ex}\n",
              ".dl-inline>dt:not(:first-of-type) {padding-left: .5ex}\n",
              "</style><dl class=dl-inline><dt>nuevo_nombre1</dt><dd>1</dd><dt>a2</dt><dd>1</dd><dt>a3</dt><dd>77</dd><dt>a4</dt><dd>99</dd><dt>a5</dt><dd>5</dd><dt>nuevo_nombre</dt><dd>8</dd><dt>n1</dt><dd>88</dd><dt>nuevo_nombre2</dt><dd>12</dd></dl>\n"
            ],
            "text/markdown": "nuevo_nombre1\n:   1a2\n:   1a3\n:   77a4\n:   99a5\n:   5nuevo_nombre\n:   8n1\n:   88nuevo_nombre2\n:   12\n\n",
            "text/latex": "\\begin{description*}\n\\item[nuevo\\textbackslash{}\\_nombre1] 1\n\\item[a2] 1\n\\item[a3] 77\n\\item[a4] 99\n\\item[a5] 5\n\\item[nuevo\\textbackslash{}\\_nombre] 8\n\\item[n1] 88\n\\item[nuevo\\textbackslash{}\\_nombre2] 12\n\\end{description*}\n",
            "text/plain": [
              "nuevo_nombre1            a2            a3            a4            a5 \n",
              "            1             1            77            99             5 \n",
              " nuevo_nombre            n1 nuevo_nombre2 \n",
              "            8            88            12 "
            ]
          },
          "metadata": {}
        }
      ]
    },
    {
      "cell_type": "markdown",
      "metadata": {
        "id": "XzyIBLZxIgvg"
      },
      "source": [
        "**Algunas sentencias de utilidad**\n",
        "\n",
        "También es posible acceder a los alementos de un vector mediante sentencias lógicas que retornen \"TRUE\" en la posición deseada. Para ello algunas funciones que son de utilidad son las siguientes.\n",
        "\n",
        "   **Conectores lógicos**\n",
        "\n",
        "    &                   : conector y \n",
        "    |                     : conector o\n",
        "    ==                       : igual\n",
        "    !                        : negación\n",
        "    !=                       : distinto\n",
        "    >, >=                    : mayor que, mayor o igual que\n",
        "    <,<=                     : menor que, menor o igual que\n",
        "    is.na()                  : es NA?\n",
        "    which()                  : en qué posición es verdadera la expresión evaluada?\n",
        "    which.min(), which.max() : en qué posición se alcanza el mínimi/máximo\n",
        "    %in%                     : los elementos están en?\n",
        "    \n",
        "    "
      ]
    },
    {
      "cell_type": "code",
      "metadata": {
        "id": "NhZPJo56Igvh",
        "outputId": "30c2dcc7-0f35-4ff5-c31a-d3d926f2e71e",
        "colab": {
          "base_uri": "https://localhost:8080/",
          "height": 34
        }
      },
      "source": [
        "# para acceder a elementos de un vector tenemos:\n",
        "# 1. por posicion\n",
        "# 2. por nombre\n",
        "# 3. por indicatrices lógicas (un vector con TRUE (T) o FALSE (F) del mismo largo del que quiero consultar)\n",
        "\n",
        "v3[c(F,F,T,F,T,F,F,F)] # Por ejemplo queremos acceder a los elementos de pos 3  y 5\n",
        "\n",
        "\n",
        "\n"
      ],
      "execution_count": null,
      "outputs": [
        {
          "output_type": "display_data",
          "data": {
            "text/html": [
              "<style>\n",
              ".dl-inline {width: auto; margin:0; padding: 0}\n",
              ".dl-inline>dt, .dl-inline>dd {float: none; width: auto; display: inline-block}\n",
              ".dl-inline>dt::after {content: \":\\0020\"; padding-right: .5ex}\n",
              ".dl-inline>dt:not(:first-of-type) {padding-left: .5ex}\n",
              "</style><dl class=dl-inline><dt>a3</dt><dd>77</dd><dt>a5</dt><dd>5</dd></dl>\n"
            ],
            "text/markdown": "a3\n:   77a5\n:   5\n\n",
            "text/latex": "\\begin{description*}\n\\item[a3] 77\n\\item[a5] 5\n\\end{description*}\n",
            "text/plain": [
              "a3 a5 \n",
              "77  5 "
            ]
          },
          "metadata": {}
        }
      ]
    },
    {
      "cell_type": "code",
      "metadata": {
        "id": "5C4hDsvSIgvj",
        "outputId": "bc535b77-b491-4f61-de38-d3401c2b4510",
        "colab": {
          "base_uri": "https://localhost:8080/",
          "height": 34
        }
      },
      "source": [
        "# Esto facilita la búsqueda dentro de un un vector. Ej: retornar los elementos mayores aun valor dado\n",
        "v3[v3 > 10]"
      ],
      "execution_count": null,
      "outputs": [
        {
          "output_type": "display_data",
          "data": {
            "text/html": [
              "<style>\n",
              ".dl-inline {width: auto; margin:0; padding: 0}\n",
              ".dl-inline>dt, .dl-inline>dd {float: none; width: auto; display: inline-block}\n",
              ".dl-inline>dt::after {content: \":\\0020\"; padding-right: .5ex}\n",
              ".dl-inline>dt:not(:first-of-type) {padding-left: .5ex}\n",
              "</style><dl class=dl-inline><dt>a3</dt><dd>77</dd><dt>a4</dt><dd>99</dd><dt>n1</dt><dd>88</dd><dt>nuevo_nombre2</dt><dd>12</dd></dl>\n"
            ],
            "text/markdown": "a3\n:   77a4\n:   99n1\n:   88nuevo_nombre2\n:   12\n\n",
            "text/latex": "\\begin{description*}\n\\item[a3] 77\n\\item[a4] 99\n\\item[n1] 88\n\\item[nuevo\\textbackslash{}\\_nombre2] 12\n\\end{description*}\n",
            "text/plain": [
              "           a3            a4            n1 nuevo_nombre2 \n",
              "           77            99            88            12 "
            ]
          },
          "metadata": {}
        }
      ]
    },
    {
      "cell_type": "code",
      "metadata": {
        "id": "bj-wjeddIgvl"
      },
      "source": [
        "# con esta idea en mente podríamos, por ejemplo, rescatar las edades con valor mayor o igual a 18 años\n"
      ],
      "execution_count": null,
      "outputs": []
    },
    {
      "cell_type": "code",
      "metadata": {
        "id": "fvq5tBXVIgvm"
      },
      "source": [
        "# podríamos guardar el vector de T o F's en una variable para luego referenciarla\n",
        "ind <- v3 > 10\n"
      ],
      "execution_count": null,
      "outputs": []
    },
    {
      "cell_type": "code",
      "source": [
        "v3[ind]"
      ],
      "metadata": {
        "id": "D5R_Jr8qTMDk",
        "outputId": "d59f5e7f-5a20-4215-ad57-c84695215a90",
        "colab": {
          "base_uri": "https://localhost:8080/",
          "height": 34
        }
      },
      "execution_count": null,
      "outputs": [
        {
          "output_type": "display_data",
          "data": {
            "text/html": [
              "<style>\n",
              ".dl-inline {width: auto; margin:0; padding: 0}\n",
              ".dl-inline>dt, .dl-inline>dd {float: none; width: auto; display: inline-block}\n",
              ".dl-inline>dt::after {content: \":\\0020\"; padding-right: .5ex}\n",
              ".dl-inline>dt:not(:first-of-type) {padding-left: .5ex}\n",
              "</style><dl class=dl-inline><dt>a3</dt><dd>77</dd><dt>a4</dt><dd>99</dd><dt>n1</dt><dd>88</dd><dt>nuevo_nombre2</dt><dd>12</dd></dl>\n"
            ],
            "text/markdown": "a3\n:   77a4\n:   99n1\n:   88nuevo_nombre2\n:   12\n\n",
            "text/latex": "\\begin{description*}\n\\item[a3] 77\n\\item[a4] 99\n\\item[n1] 88\n\\item[nuevo\\textbackslash{}\\_nombre2] 12\n\\end{description*}\n",
            "text/plain": [
              "           a3            a4            n1 nuevo_nombre2 \n",
              "           77            99            88            12 "
            ]
          },
          "metadata": {}
        }
      ]
    },
    {
      "cell_type": "code",
      "source": [
        "v3"
      ],
      "metadata": {
        "id": "HSJvH4SRTeno",
        "outputId": "e139edf7-ed65-46aa-ec2e-8d91d516a803",
        "colab": {
          "base_uri": "https://localhost:8080/",
          "height": 34
        }
      },
      "execution_count": null,
      "outputs": [
        {
          "output_type": "display_data",
          "data": {
            "text/html": [
              "<style>\n",
              ".dl-inline {width: auto; margin:0; padding: 0}\n",
              ".dl-inline>dt, .dl-inline>dd {float: none; width: auto; display: inline-block}\n",
              ".dl-inline>dt::after {content: \":\\0020\"; padding-right: .5ex}\n",
              ".dl-inline>dt:not(:first-of-type) {padding-left: .5ex}\n",
              "</style><dl class=dl-inline><dt>nuevo_nombre1</dt><dd>1</dd><dt>a2</dt><dd>1</dd><dt>a3</dt><dd>77</dd><dt>a4</dt><dd>99</dd><dt>a5</dt><dd>5</dd><dt>nuevo_nombre</dt><dd>8</dd><dt>n1</dt><dd>88</dd><dt>nuevo_nombre2</dt><dd>12</dd></dl>\n"
            ],
            "text/markdown": "nuevo_nombre1\n:   1a2\n:   1a3\n:   77a4\n:   99a5\n:   5nuevo_nombre\n:   8n1\n:   88nuevo_nombre2\n:   12\n\n",
            "text/latex": "\\begin{description*}\n\\item[nuevo\\textbackslash{}\\_nombre1] 1\n\\item[a2] 1\n\\item[a3] 77\n\\item[a4] 99\n\\item[a5] 5\n\\item[nuevo\\textbackslash{}\\_nombre] 8\n\\item[n1] 88\n\\item[nuevo\\textbackslash{}\\_nombre2] 12\n\\end{description*}\n",
            "text/plain": [
              "nuevo_nombre1            a2            a3            a4            a5 \n",
              "            1             1            77            99             5 \n",
              " nuevo_nombre            n1 nuevo_nombre2 \n",
              "            8            88            12 "
            ]
          },
          "metadata": {}
        }
      ]
    },
    {
      "cell_type": "code",
      "source": [
        ""
      ],
      "metadata": {
        "id": "Cf-v1bBrT4vP"
      },
      "execution_count": null,
      "outputs": []
    },
    {
      "cell_type": "code",
      "metadata": {
        "id": "ioUJy8UEIgvz",
        "outputId": "00e1d569-48f1-4119-c9d6-f7a7fb7a2bbb",
        "colab": {
          "base_uri": "https://localhost:8080/",
          "height": 52
        }
      },
      "source": [
        "?which.max\n",
        "#podemos rescatar el valor mediante el índice guardado\n",
        "\n",
        "which.max(v3)\n",
        "v3[which.max(v3)]"
      ],
      "execution_count": null,
      "outputs": [
        {
          "output_type": "display_data",
          "data": {
            "text/html": [
              "<strong>a4:</strong> 4"
            ],
            "text/markdown": "**a4:** 4",
            "text/latex": "\\textbf{a4:} 4",
            "text/plain": [
              "a4 \n",
              " 4 "
            ]
          },
          "metadata": {}
        },
        {
          "output_type": "display_data",
          "data": {
            "text/html": [
              "<strong>a4:</strong> 99"
            ],
            "text/markdown": "**a4:** 99",
            "text/latex": "\\textbf{a4:} 99",
            "text/plain": [
              "a4 \n",
              "99 "
            ]
          },
          "metadata": {}
        }
      ]
    },
    {
      "cell_type": "code",
      "source": [
        "v3[-which.max(v3)] # Si queremos consultar el vector sin el máximo valor. (pregunta de Héctor :D)"
      ],
      "metadata": {
        "id": "RG5n70F_U1lL",
        "outputId": "306d3ec8-e221-446b-b0e9-e720b6ff0edf",
        "colab": {
          "base_uri": "https://localhost:8080/",
          "height": 34
        }
      },
      "execution_count": null,
      "outputs": [
        {
          "output_type": "display_data",
          "data": {
            "text/html": [
              "<style>\n",
              ".dl-inline {width: auto; margin:0; padding: 0}\n",
              ".dl-inline>dt, .dl-inline>dd {float: none; width: auto; display: inline-block}\n",
              ".dl-inline>dt::after {content: \":\\0020\"; padding-right: .5ex}\n",
              ".dl-inline>dt:not(:first-of-type) {padding-left: .5ex}\n",
              "</style><dl class=dl-inline><dt>nuevo_nombre1</dt><dd>1</dd><dt>a2</dt><dd>1</dd><dt>a3</dt><dd>77</dd><dt>a5</dt><dd>5</dd><dt>nuevo_nombre</dt><dd>8</dd><dt>n1</dt><dd>88</dd><dt>nuevo_nombre2</dt><dd>12</dd></dl>\n"
            ],
            "text/markdown": "nuevo_nombre1\n:   1a2\n:   1a3\n:   77a5\n:   5nuevo_nombre\n:   8n1\n:   88nuevo_nombre2\n:   12\n\n",
            "text/latex": "\\begin{description*}\n\\item[nuevo\\textbackslash{}\\_nombre1] 1\n\\item[a2] 1\n\\item[a3] 77\n\\item[a5] 5\n\\item[nuevo\\textbackslash{}\\_nombre] 8\n\\item[n1] 88\n\\item[nuevo\\textbackslash{}\\_nombre2] 12\n\\end{description*}\n",
            "text/plain": [
              "nuevo_nombre1            a2            a3            a5  nuevo_nombre \n",
              "            1             1            77             5             8 \n",
              "           n1 nuevo_nombre2 \n",
              "           88            12 "
            ]
          },
          "metadata": {}
        }
      ]
    },
    {
      "cell_type": "code",
      "metadata": {
        "id": "_8-SMxfWIgv0",
        "outputId": "508c62e6-4116-440b-d5ed-ee992f90c5a0",
        "colab": {
          "base_uri": "https://localhost:8080/",
          "height": 34
        }
      },
      "source": [
        "# Operador %in%\n",
        "# vector_a %in% vector_b (qué elementos del vector a están en el vector b)\n",
        "# retorna un  vector de TRUE's y FALSE's del largo del primer vector(a) (izquierda) \n",
        "\n",
        "c(1,2,5) %in% c(3,4,2,8)"
      ],
      "execution_count": null,
      "outputs": [
        {
          "output_type": "display_data",
          "data": {
            "text/html": [
              "<style>\n",
              ".list-inline {list-style: none; margin:0; padding: 0}\n",
              ".list-inline>li {display: inline-block}\n",
              ".list-inline>li:not(:last-child)::after {content: \"\\00b7\"; padding: 0 .5ex}\n",
              "</style>\n",
              "<ol class=list-inline><li>FALSE</li><li>TRUE</li><li>FALSE</li></ol>\n"
            ],
            "text/markdown": "1. FALSE\n2. TRUE\n3. FALSE\n\n\n",
            "text/latex": "\\begin{enumerate*}\n\\item FALSE\n\\item TRUE\n\\item FALSE\n\\end{enumerate*}\n",
            "text/plain": [
              "[1] FALSE  TRUE FALSE"
            ]
          },
          "metadata": {}
        }
      ]
    },
    {
      "cell_type": "code",
      "metadata": {
        "id": "s9bYOQ4GIgv2",
        "outputId": "98f90874-bb06-49c5-dd6c-c092c491bbd6",
        "colab": {
          "base_uri": "https://localhost:8080/",
          "height": 52
        }
      },
      "source": [
        "# podemos utilizar la función all() para evaluar si todos los elementos de un vector son TRUE.\n",
        "all(c(T,T,F))\n",
        "all(c(T,T,T))"
      ],
      "execution_count": null,
      "outputs": [
        {
          "output_type": "display_data",
          "data": {
            "text/html": [
              "FALSE"
            ],
            "text/markdown": "FALSE",
            "text/latex": "FALSE",
            "text/plain": [
              "[1] FALSE"
            ]
          },
          "metadata": {}
        },
        {
          "output_type": "display_data",
          "data": {
            "text/html": [
              "TRUE"
            ],
            "text/markdown": "TRUE",
            "text/latex": "TRUE",
            "text/plain": [
              "[1] TRUE"
            ]
          },
          "metadata": {}
        }
      ]
    },
    {
      "cell_type": "code",
      "metadata": {
        "id": "Wd-mSv3PIgv4"
      },
      "source": [
        "# si quisiéramos evaluar que todos los elementos de la izq. estén en la derecha,\n",
        "# podemos utilizar la función all()."
      ],
      "execution_count": null,
      "outputs": []
    },
    {
      "cell_type": "code",
      "metadata": {
        "id": "Zn85mjGmIgv5",
        "outputId": "4c6472c3-1ce9-43ad-9208-764b715387dc",
        "colab": {
          "base_uri": "https://localhost:8080/",
          "height": 34
        }
      },
      "source": [
        "all(c(3,2,8) %in% c(3,4,2,8))"
      ],
      "execution_count": null,
      "outputs": [
        {
          "output_type": "display_data",
          "data": {
            "text/html": [
              "FALSE"
            ],
            "text/markdown": "FALSE",
            "text/latex": "FALSE",
            "text/plain": [
              "[1] FALSE"
            ]
          },
          "metadata": {}
        }
      ]
    },
    {
      "cell_type": "code",
      "metadata": {
        "id": "1YGnzt1zIgv7",
        "outputId": "63969d96-ca43-4046-c7db-eb32e2cd46ed",
        "colab": {
          "base_uri": "https://localhost:8080/",
          "height": 52
        }
      },
      "source": [
        "# aritmética con vectores\n",
        "# operación de vectore de igual largo\n",
        "\n",
        "c(1,2,3) + c(5,4,8)\n",
        "c(1,2,3) * c(5,4,8)\n"
      ],
      "execution_count": null,
      "outputs": [
        {
          "output_type": "display_data",
          "data": {
            "text/html": [
              "<style>\n",
              ".list-inline {list-style: none; margin:0; padding: 0}\n",
              ".list-inline>li {display: inline-block}\n",
              ".list-inline>li:not(:last-child)::after {content: \"\\00b7\"; padding: 0 .5ex}\n",
              "</style>\n",
              "<ol class=list-inline><li>6</li><li>6</li><li>11</li></ol>\n"
            ],
            "text/markdown": "1. 6\n2. 6\n3. 11\n\n\n",
            "text/latex": "\\begin{enumerate*}\n\\item 6\n\\item 6\n\\item 11\n\\end{enumerate*}\n",
            "text/plain": [
              "[1]  6  6 11"
            ]
          },
          "metadata": {}
        },
        {
          "output_type": "display_data",
          "data": {
            "text/html": [
              "<style>\n",
              ".list-inline {list-style: none; margin:0; padding: 0}\n",
              ".list-inline>li {display: inline-block}\n",
              ".list-inline>li:not(:last-child)::after {content: \"\\00b7\"; padding: 0 .5ex}\n",
              "</style>\n",
              "<ol class=list-inline><li>5</li><li>8</li><li>24</li></ol>\n"
            ],
            "text/markdown": "1. 5\n2. 8\n3. 24\n\n\n",
            "text/latex": "\\begin{enumerate*}\n\\item 5\n\\item 8\n\\item 24\n\\end{enumerate*}\n",
            "text/plain": [
              "[1]  5  8 24"
            ]
          },
          "metadata": {}
        }
      ]
    },
    {
      "cell_type": "code",
      "metadata": {
        "id": "Bw8lX76XIgv8",
        "outputId": "c68c512f-2dca-49fd-a42b-58a0c5ca7563",
        "colab": {
          "base_uri": "https://localhost:8080/",
          "height": 34
        }
      },
      "source": [
        "#ponderaciones por escalares\n",
        "c(1,3,5)*4"
      ],
      "execution_count": null,
      "outputs": [
        {
          "output_type": "display_data",
          "data": {
            "text/html": [
              "<style>\n",
              ".list-inline {list-style: none; margin:0; padding: 0}\n",
              ".list-inline>li {display: inline-block}\n",
              ".list-inline>li:not(:last-child)::after {content: \"\\00b7\"; padding: 0 .5ex}\n",
              "</style>\n",
              "<ol class=list-inline><li>4</li><li>12</li><li>20</li></ol>\n"
            ],
            "text/markdown": "1. 4\n2. 12\n3. 20\n\n\n",
            "text/latex": "\\begin{enumerate*}\n\\item 4\n\\item 12\n\\item 20\n\\end{enumerate*}\n",
            "text/plain": [
              "[1]  4 12 20"
            ]
          },
          "metadata": {}
        }
      ]
    },
    {
      "cell_type": "code",
      "metadata": {
        "id": "syufc9_OIgv_"
      },
      "source": [
        "#CUIDADO: Si se operan vectores de dstinto largo se reciclan los valores del vector más pequeño\n",
        "c(1,2,3) + c(5,4,8,10,12)\n",
        "\n",
        "c(1,3,5) + 4"
      ],
      "execution_count": null,
      "outputs": []
    },
    {
      "cell_type": "markdown",
      "metadata": {
        "id": "LIr-IFowIgwD"
      },
      "source": [
        "**Secuencias**\n",
        "\n",
        "En R es posible generar de manera rápida y sencilla algunas secuencias numéricas y almacenarlas en un vector.\n",
        "\n",
        "Ejemplo de estas funciones son :\n",
        "\n",
        "    rep()\n",
        "    seq()\n",
        "    \n",
        "Más adelante veremos como generar números aleatorios siguiendo alguna función de distribución de interés.\n",
        "\n"
      ]
    },
    {
      "cell_type": "code",
      "metadata": {
        "id": "wk0fB_gWIgwE"
      },
      "source": [
        "# a vimos que fácilmente ppodemos generar vectores de enteros consecutivos vía \":\"\n"
      ],
      "execution_count": null,
      "outputs": []
    },
    {
      "cell_type": "code",
      "metadata": {
        "id": "rG-Q3PmhIgwG",
        "outputId": "1a9b8fe0-459c-4327-ebde-a79586f21d9f",
        "colab": {
          "base_uri": "https://localhost:8080/",
          "height": 52
        }
      },
      "source": [
        "# Ejemplo de secuencia con rep (utilice distintos tipos de datos)\n",
        "rep(4,5)\n",
        "rep(c(1,2,3), 7)\n",
        "?rep"
      ],
      "execution_count": null,
      "outputs": [
        {
          "output_type": "display_data",
          "data": {
            "text/html": [
              "<style>\n",
              ".list-inline {list-style: none; margin:0; padding: 0}\n",
              ".list-inline>li {display: inline-block}\n",
              ".list-inline>li:not(:last-child)::after {content: \"\\00b7\"; padding: 0 .5ex}\n",
              "</style>\n",
              "<ol class=list-inline><li>4</li><li>4</li><li>4</li><li>4</li><li>4</li></ol>\n"
            ],
            "text/markdown": "1. 4\n2. 4\n3. 4\n4. 4\n5. 4\n\n\n",
            "text/latex": "\\begin{enumerate*}\n\\item 4\n\\item 4\n\\item 4\n\\item 4\n\\item 4\n\\end{enumerate*}\n",
            "text/plain": [
              "[1] 4 4 4 4 4"
            ]
          },
          "metadata": {}
        },
        {
          "output_type": "display_data",
          "data": {
            "text/html": [
              "<style>\n",
              ".list-inline {list-style: none; margin:0; padding: 0}\n",
              ".list-inline>li {display: inline-block}\n",
              ".list-inline>li:not(:last-child)::after {content: \"\\00b7\"; padding: 0 .5ex}\n",
              "</style>\n",
              "<ol class=list-inline><li>1</li><li>2</li><li>3</li><li>1</li><li>2</li><li>3</li><li>1</li><li>2</li><li>3</li><li>1</li><li>2</li><li>3</li><li>1</li><li>2</li><li>3</li><li>1</li><li>2</li><li>3</li><li>1</li><li>2</li><li>3</li></ol>\n"
            ],
            "text/markdown": "1. 1\n2. 2\n3. 3\n4. 1\n5. 2\n6. 3\n7. 1\n8. 2\n9. 3\n10. 1\n11. 2\n12. 3\n13. 1\n14. 2\n15. 3\n16. 1\n17. 2\n18. 3\n19. 1\n20. 2\n21. 3\n\n\n",
            "text/latex": "\\begin{enumerate*}\n\\item 1\n\\item 2\n\\item 3\n\\item 1\n\\item 2\n\\item 3\n\\item 1\n\\item 2\n\\item 3\n\\item 1\n\\item 2\n\\item 3\n\\item 1\n\\item 2\n\\item 3\n\\item 1\n\\item 2\n\\item 3\n\\item 1\n\\item 2\n\\item 3\n\\end{enumerate*}\n",
            "text/plain": [
              " [1] 1 2 3 1 2 3 1 2 3 1 2 3 1 2 3 1 2 3 1 2 3"
            ]
          },
          "metadata": {}
        }
      ]
    },
    {
      "cell_type": "code",
      "metadata": {
        "id": "PpEgoWDXIgwI",
        "outputId": "aa49e83f-19f9-4544-87d4-2fa19061dc5e",
        "colab": {
          "base_uri": "https://localhost:8080/",
          "height": 34
        }
      },
      "source": [
        "# podemos controlar el largo del vector resultante con el parámetro length.out\n",
        "rep(c(1,2,3), length.out = 19)"
      ],
      "execution_count": null,
      "outputs": [
        {
          "output_type": "display_data",
          "data": {
            "text/html": [
              "<style>\n",
              ".list-inline {list-style: none; margin:0; padding: 0}\n",
              ".list-inline>li {display: inline-block}\n",
              ".list-inline>li:not(:last-child)::after {content: \"\\00b7\"; padding: 0 .5ex}\n",
              "</style>\n",
              "<ol class=list-inline><li>1</li><li>2</li><li>3</li><li>1</li><li>2</li><li>3</li><li>1</li><li>2</li><li>3</li><li>1</li><li>2</li><li>3</li><li>1</li><li>2</li><li>3</li><li>1</li><li>2</li><li>3</li><li>1</li></ol>\n"
            ],
            "text/markdown": "1. 1\n2. 2\n3. 3\n4. 1\n5. 2\n6. 3\n7. 1\n8. 2\n9. 3\n10. 1\n11. 2\n12. 3\n13. 1\n14. 2\n15. 3\n16. 1\n17. 2\n18. 3\n19. 1\n\n\n",
            "text/latex": "\\begin{enumerate*}\n\\item 1\n\\item 2\n\\item 3\n\\item 1\n\\item 2\n\\item 3\n\\item 1\n\\item 2\n\\item 3\n\\item 1\n\\item 2\n\\item 3\n\\item 1\n\\item 2\n\\item 3\n\\item 1\n\\item 2\n\\item 3\n\\item 1\n\\end{enumerate*}\n",
            "text/plain": [
              " [1] 1 2 3 1 2 3 1 2 3 1 2 3 1 2 3 1 2 3 1"
            ]
          },
          "metadata": {}
        }
      ]
    },
    {
      "cell_type": "code",
      "metadata": {
        "id": "gGkgGylnIgwK",
        "outputId": "ff382202-df4e-46ce-f07f-07357202b58c",
        "colab": {
          "base_uri": "https://localhost:8080/",
          "height": 52
        }
      },
      "source": [
        "# ejemplo de función seq (utilice argumento by, y otro ejemplo con argumento length.out)\n",
        "seq(from = 1, to = 10, by = 0.5)\n",
        "seq(1,10,0.5)\n"
      ],
      "execution_count": null,
      "outputs": [
        {
          "output_type": "display_data",
          "data": {
            "text/html": [
              "<style>\n",
              ".list-inline {list-style: none; margin:0; padding: 0}\n",
              ".list-inline>li {display: inline-block}\n",
              ".list-inline>li:not(:last-child)::after {content: \"\\00b7\"; padding: 0 .5ex}\n",
              "</style>\n",
              "<ol class=list-inline><li>1</li><li>1.5</li><li>2</li><li>2.5</li><li>3</li><li>3.5</li><li>4</li><li>4.5</li><li>5</li><li>5.5</li><li>6</li><li>6.5</li><li>7</li><li>7.5</li><li>8</li><li>8.5</li><li>9</li><li>9.5</li><li>10</li></ol>\n"
            ],
            "text/markdown": "1. 1\n2. 1.5\n3. 2\n4. 2.5\n5. 3\n6. 3.5\n7. 4\n8. 4.5\n9. 5\n10. 5.5\n11. 6\n12. 6.5\n13. 7\n14. 7.5\n15. 8\n16. 8.5\n17. 9\n18. 9.5\n19. 10\n\n\n",
            "text/latex": "\\begin{enumerate*}\n\\item 1\n\\item 1.5\n\\item 2\n\\item 2.5\n\\item 3\n\\item 3.5\n\\item 4\n\\item 4.5\n\\item 5\n\\item 5.5\n\\item 6\n\\item 6.5\n\\item 7\n\\item 7.5\n\\item 8\n\\item 8.5\n\\item 9\n\\item 9.5\n\\item 10\n\\end{enumerate*}\n",
            "text/plain": [
              " [1]  1.0  1.5  2.0  2.5  3.0  3.5  4.0  4.5  5.0  5.5  6.0  6.5  7.0  7.5  8.0\n",
              "[16]  8.5  9.0  9.5 10.0"
            ]
          },
          "metadata": {}
        },
        {
          "output_type": "display_data",
          "data": {
            "text/html": [
              "<style>\n",
              ".list-inline {list-style: none; margin:0; padding: 0}\n",
              ".list-inline>li {display: inline-block}\n",
              ".list-inline>li:not(:last-child)::after {content: \"\\00b7\"; padding: 0 .5ex}\n",
              "</style>\n",
              "<ol class=list-inline><li>1</li><li>1.5</li><li>2</li><li>2.5</li><li>3</li><li>3.5</li><li>4</li><li>4.5</li><li>5</li><li>5.5</li><li>6</li><li>6.5</li><li>7</li><li>7.5</li><li>8</li><li>8.5</li><li>9</li><li>9.5</li><li>10</li></ol>\n"
            ],
            "text/markdown": "1. 1\n2. 1.5\n3. 2\n4. 2.5\n5. 3\n6. 3.5\n7. 4\n8. 4.5\n9. 5\n10. 5.5\n11. 6\n12. 6.5\n13. 7\n14. 7.5\n15. 8\n16. 8.5\n17. 9\n18. 9.5\n19. 10\n\n\n",
            "text/latex": "\\begin{enumerate*}\n\\item 1\n\\item 1.5\n\\item 2\n\\item 2.5\n\\item 3\n\\item 3.5\n\\item 4\n\\item 4.5\n\\item 5\n\\item 5.5\n\\item 6\n\\item 6.5\n\\item 7\n\\item 7.5\n\\item 8\n\\item 8.5\n\\item 9\n\\item 9.5\n\\item 10\n\\end{enumerate*}\n",
            "text/plain": [
              " [1]  1.0  1.5  2.0  2.5  3.0  3.5  4.0  4.5  5.0  5.5  6.0  6.5  7.0  7.5  8.0\n",
              "[16]  8.5  9.0  9.5 10.0"
            ]
          },
          "metadata": {}
        }
      ]
    },
    {
      "cell_type": "code",
      "source": [
        "seq(from = 1, to = 10, length.out  = 55)"
      ],
      "metadata": {
        "id": "d3D57x8KYfHf",
        "outputId": "8bf4525b-63c4-4695-db85-4becffe73290",
        "colab": {
          "base_uri": "https://localhost:8080/",
          "height": 121
        }
      },
      "execution_count": null,
      "outputs": [
        {
          "output_type": "display_data",
          "data": {
            "text/html": [
              "<style>\n",
              ".list-inline {list-style: none; margin:0; padding: 0}\n",
              ".list-inline>li {display: inline-block}\n",
              ".list-inline>li:not(:last-child)::after {content: \"\\00b7\"; padding: 0 .5ex}\n",
              "</style>\n",
              "<ol class=list-inline><li>1</li><li>1.16666666666667</li><li>1.33333333333333</li><li>1.5</li><li>1.66666666666667</li><li>1.83333333333333</li><li>2</li><li>2.16666666666667</li><li>2.33333333333333</li><li>2.5</li><li>2.66666666666667</li><li>2.83333333333333</li><li>3</li><li>3.16666666666667</li><li>3.33333333333333</li><li>3.5</li><li>3.66666666666667</li><li>3.83333333333333</li><li>4</li><li>4.16666666666667</li><li>4.33333333333333</li><li>4.5</li><li>4.66666666666667</li><li>4.83333333333333</li><li>5</li><li>5.16666666666667</li><li>5.33333333333333</li><li>5.5</li><li>5.66666666666667</li><li>5.83333333333333</li><li>6</li><li>6.16666666666667</li><li>6.33333333333333</li><li>6.5</li><li>6.66666666666667</li><li>6.83333333333333</li><li>7</li><li>7.16666666666667</li><li>7.33333333333333</li><li>7.5</li><li>7.66666666666667</li><li>7.83333333333333</li><li>8</li><li>8.16666666666667</li><li>8.33333333333333</li><li>8.5</li><li>8.66666666666667</li><li>8.83333333333333</li><li>9</li><li>9.16666666666667</li><li>9.33333333333333</li><li>9.5</li><li>9.66666666666667</li><li>9.83333333333333</li><li>10</li></ol>\n"
            ],
            "text/markdown": "1. 1\n2. 1.16666666666667\n3. 1.33333333333333\n4. 1.5\n5. 1.66666666666667\n6. 1.83333333333333\n7. 2\n8. 2.16666666666667\n9. 2.33333333333333\n10. 2.5\n11. 2.66666666666667\n12. 2.83333333333333\n13. 3\n14. 3.16666666666667\n15. 3.33333333333333\n16. 3.5\n17. 3.66666666666667\n18. 3.83333333333333\n19. 4\n20. 4.16666666666667\n21. 4.33333333333333\n22. 4.5\n23. 4.66666666666667\n24. 4.83333333333333\n25. 5\n26. 5.16666666666667\n27. 5.33333333333333\n28. 5.5\n29. 5.66666666666667\n30. 5.83333333333333\n31. 6\n32. 6.16666666666667\n33. 6.33333333333333\n34. 6.5\n35. 6.66666666666667\n36. 6.83333333333333\n37. 7\n38. 7.16666666666667\n39. 7.33333333333333\n40. 7.5\n41. 7.66666666666667\n42. 7.83333333333333\n43. 8\n44. 8.16666666666667\n45. 8.33333333333333\n46. 8.5\n47. 8.66666666666667\n48. 8.83333333333333\n49. 9\n50. 9.16666666666667\n51. 9.33333333333333\n52. 9.5\n53. 9.66666666666667\n54. 9.83333333333333\n55. 10\n\n\n",
            "text/latex": "\\begin{enumerate*}\n\\item 1\n\\item 1.16666666666667\n\\item 1.33333333333333\n\\item 1.5\n\\item 1.66666666666667\n\\item 1.83333333333333\n\\item 2\n\\item 2.16666666666667\n\\item 2.33333333333333\n\\item 2.5\n\\item 2.66666666666667\n\\item 2.83333333333333\n\\item 3\n\\item 3.16666666666667\n\\item 3.33333333333333\n\\item 3.5\n\\item 3.66666666666667\n\\item 3.83333333333333\n\\item 4\n\\item 4.16666666666667\n\\item 4.33333333333333\n\\item 4.5\n\\item 4.66666666666667\n\\item 4.83333333333333\n\\item 5\n\\item 5.16666666666667\n\\item 5.33333333333333\n\\item 5.5\n\\item 5.66666666666667\n\\item 5.83333333333333\n\\item 6\n\\item 6.16666666666667\n\\item 6.33333333333333\n\\item 6.5\n\\item 6.66666666666667\n\\item 6.83333333333333\n\\item 7\n\\item 7.16666666666667\n\\item 7.33333333333333\n\\item 7.5\n\\item 7.66666666666667\n\\item 7.83333333333333\n\\item 8\n\\item 8.16666666666667\n\\item 8.33333333333333\n\\item 8.5\n\\item 8.66666666666667\n\\item 8.83333333333333\n\\item 9\n\\item 9.16666666666667\n\\item 9.33333333333333\n\\item 9.5\n\\item 9.66666666666667\n\\item 9.83333333333333\n\\item 10\n\\end{enumerate*}\n",
            "text/plain": [
              " [1]  1.000000  1.166667  1.333333  1.500000  1.666667  1.833333  2.000000\n",
              " [8]  2.166667  2.333333  2.500000  2.666667  2.833333  3.000000  3.166667\n",
              "[15]  3.333333  3.500000  3.666667  3.833333  4.000000  4.166667  4.333333\n",
              "[22]  4.500000  4.666667  4.833333  5.000000  5.166667  5.333333  5.500000\n",
              "[29]  5.666667  5.833333  6.000000  6.166667  6.333333  6.500000  6.666667\n",
              "[36]  6.833333  7.000000  7.166667  7.333333  7.500000  7.666667  7.833333\n",
              "[43]  8.000000  8.166667  8.333333  8.500000  8.666667  8.833333  9.000000\n",
              "[50]  9.166667  9.333333  9.500000  9.666667  9.833333 10.000000"
            ]
          },
          "metadata": {}
        }
      ]
    },
    {
      "cell_type": "code",
      "metadata": {
        "id": "psRswQHBIgwO",
        "outputId": "c3ab1bd1-1ef0-443b-efde-87fe79cf289d",
        "colab": {
          "base_uri": "https://localhost:8080/",
          "height": 538
        }
      },
      "source": [
        "# ejemplo de vector aleatorio siguiendo una determinada distribución\n",
        "\n",
        "# distribución normal\n",
        "rnorm(100)\n",
        "# distribución uniforme\n",
        "runif(100)\n",
        "\n",
        "\n",
        "\n",
        "\n"
      ],
      "execution_count": null,
      "outputs": [
        {
          "output_type": "display_data",
          "data": {
            "text/html": [
              "<style>\n",
              ".list-inline {list-style: none; margin:0; padding: 0}\n",
              ".list-inline>li {display: inline-block}\n",
              ".list-inline>li:not(:last-child)::after {content: \"\\00b7\"; padding: 0 .5ex}\n",
              "</style>\n",
              "<ol class=list-inline><li>-0.372335355020929</li><li>-0.311913566660279</li><li>-0.643446915980891</li><li>0.546989868249411</li><li>-0.0274630809860319</li><li>1.6266030095035</li><li>1.02420003314442</li><li>-0.493341254493295</li><li>0.979192240805519</li><li>-1.34890079758513</li><li>-0.913122640863066</li><li>-1.82742909505194</li><li>-0.889778722994535</li><li>0.850257258808487</li><li>0.472397397645614</li><li>-1.51661347129847</li><li>0.266600069509633</li><li>-1.4862852308099</li><li>0.759777097322247</li><li>0.52281106056719</li><li>1.38922352842762</li><li>-0.451399702184792</li><li>-0.163112980165774</li><li>-0.362499442988518</li><li>1.81262409280035</li><li>1.28151038789482</li><li>0.160678109278609</li><li>-1.24424125962619</li><li>-0.0337084685779793</li><li>0.853910635232791</li><li>1.03635625808977</li><li>0.726002563751103</li><li>0.147442555352574</li><li>1.41441750006829</li><li>0.133017272165413</li><li>-0.717652225887332</li><li>1.56544053410592</li><li>0.981209767374408</li><li>0.152778729728195</li><li>0.233360612983398</li><li>-0.501221986621505</li><li>0.400284507179403</li><li>-0.482259390599967</li><li>-1.71956479968579</li><li>0.28785218901197</li><li>-0.901399090795649</li><li>-0.96501324120591</li><li>1.81255456099041</li><li>-0.0858190918226139</li><li>-1.57693474554042</li><li>-1.03532085762286</li><li>-0.00242636765311669</li><li>-0.386090097829786</li><li>1.49072147450319</li><li>1.57339408578089</li><li>0.172340302570214</li><li>-0.0953375107673512</li><li>1.19583083577177</li><li>0.983849606292372</li><li>0.554160599113518</li><li>0.692790623596658</li><li>1.19984987316796</li><li>2.03081261404244</li><li>-0.249431233259692</li><li>0.706550609238459</li><li>0.21002070279916</li><li>-0.150939542510737</li><li>-0.742407058602029</li><li>-0.52235262728023</li><li>-0.712351510062608</li><li>-1.59374784438104</li><li>-0.935857955508698</li><li>0.97960664724033</li><li>-1.80645505033896</li><li>-0.0992255047021555</li><li>0.373041252865872</li><li>0.728504942205707</li><li>-0.880904752580936</li><li>-0.205031828068265</li><li>0.943059044076697</li><li>-1.37410468568365</li><li>-1.22095218881638</li><li>-1.08390295559767</li><li>-0.670932735769244</li><li>0.804408020673309</li><li>2.87856492591331</li><li>0.0854678964075034</li><li>0.415646104951301</li><li>1.4797598064949</li><li>-0.492631563027492</li><li>-0.640488822924645</li><li>-1.12850175524017</li><li>-1.32116801491259</li><li>0.570542714666371</li><li>-1.27234723416176</li><li>0.0837267546175021</li><li>0.884122912718759</li><li>-0.79239713008413</li><li>-1.04822212733804</li><li>-0.532032029515322</li></ol>\n"
            ],
            "text/markdown": "1. -0.372335355020929\n2. -0.311913566660279\n3. -0.643446915980891\n4. 0.546989868249411\n5. -0.0274630809860319\n6. 1.6266030095035\n7. 1.02420003314442\n8. -0.493341254493295\n9. 0.979192240805519\n10. -1.34890079758513\n11. -0.913122640863066\n12. -1.82742909505194\n13. -0.889778722994535\n14. 0.850257258808487\n15. 0.472397397645614\n16. -1.51661347129847\n17. 0.266600069509633\n18. -1.4862852308099\n19. 0.759777097322247\n20. 0.52281106056719\n21. 1.38922352842762\n22. -0.451399702184792\n23. -0.163112980165774\n24. -0.362499442988518\n25. 1.81262409280035\n26. 1.28151038789482\n27. 0.160678109278609\n28. -1.24424125962619\n29. -0.0337084685779793\n30. 0.853910635232791\n31. 1.03635625808977\n32. 0.726002563751103\n33. 0.147442555352574\n34. 1.41441750006829\n35. 0.133017272165413\n36. -0.717652225887332\n37. 1.56544053410592\n38. 0.981209767374408\n39. 0.152778729728195\n40. 0.233360612983398\n41. -0.501221986621505\n42. 0.400284507179403\n43. -0.482259390599967\n44. -1.71956479968579\n45. 0.28785218901197\n46. -0.901399090795649\n47. -0.96501324120591\n48. 1.81255456099041\n49. -0.0858190918226139\n50. -1.57693474554042\n51. -1.03532085762286\n52. -0.00242636765311669\n53. -0.386090097829786\n54. 1.49072147450319\n55. 1.57339408578089\n56. 0.172340302570214\n57. -0.0953375107673512\n58. 1.19583083577177\n59. 0.983849606292372\n60. 0.554160599113518\n61. 0.692790623596658\n62. 1.19984987316796\n63. 2.03081261404244\n64. -0.249431233259692\n65. 0.706550609238459\n66. 0.21002070279916\n67. -0.150939542510737\n68. -0.742407058602029\n69. -0.52235262728023\n70. -0.712351510062608\n71. -1.59374784438104\n72. -0.935857955508698\n73. 0.97960664724033\n74. -1.80645505033896\n75. -0.0992255047021555\n76. 0.373041252865872\n77. 0.728504942205707\n78. -0.880904752580936\n79. -0.205031828068265\n80. 0.943059044076697\n81. -1.37410468568365\n82. -1.22095218881638\n83. -1.08390295559767\n84. -0.670932735769244\n85. 0.804408020673309\n86. 2.87856492591331\n87. 0.0854678964075034\n88. 0.415646104951301\n89. 1.4797598064949\n90. -0.492631563027492\n91. -0.640488822924645\n92. -1.12850175524017\n93. -1.32116801491259\n94. 0.570542714666371\n95. -1.27234723416176\n96. 0.0837267546175021\n97. 0.884122912718759\n98. -0.79239713008413\n99. -1.04822212733804\n100. -0.532032029515322\n\n\n",
            "text/latex": "\\begin{enumerate*}\n\\item -0.372335355020929\n\\item -0.311913566660279\n\\item -0.643446915980891\n\\item 0.546989868249411\n\\item -0.0274630809860319\n\\item 1.6266030095035\n\\item 1.02420003314442\n\\item -0.493341254493295\n\\item 0.979192240805519\n\\item -1.34890079758513\n\\item -0.913122640863066\n\\item -1.82742909505194\n\\item -0.889778722994535\n\\item 0.850257258808487\n\\item 0.472397397645614\n\\item -1.51661347129847\n\\item 0.266600069509633\n\\item -1.4862852308099\n\\item 0.759777097322247\n\\item 0.52281106056719\n\\item 1.38922352842762\n\\item -0.451399702184792\n\\item -0.163112980165774\n\\item -0.362499442988518\n\\item 1.81262409280035\n\\item 1.28151038789482\n\\item 0.160678109278609\n\\item -1.24424125962619\n\\item -0.0337084685779793\n\\item 0.853910635232791\n\\item 1.03635625808977\n\\item 0.726002563751103\n\\item 0.147442555352574\n\\item 1.41441750006829\n\\item 0.133017272165413\n\\item -0.717652225887332\n\\item 1.56544053410592\n\\item 0.981209767374408\n\\item 0.152778729728195\n\\item 0.233360612983398\n\\item -0.501221986621505\n\\item 0.400284507179403\n\\item -0.482259390599967\n\\item -1.71956479968579\n\\item 0.28785218901197\n\\item -0.901399090795649\n\\item -0.96501324120591\n\\item 1.81255456099041\n\\item -0.0858190918226139\n\\item -1.57693474554042\n\\item -1.03532085762286\n\\item -0.00242636765311669\n\\item -0.386090097829786\n\\item 1.49072147450319\n\\item 1.57339408578089\n\\item 0.172340302570214\n\\item -0.0953375107673512\n\\item 1.19583083577177\n\\item 0.983849606292372\n\\item 0.554160599113518\n\\item 0.692790623596658\n\\item 1.19984987316796\n\\item 2.03081261404244\n\\item -0.249431233259692\n\\item 0.706550609238459\n\\item 0.21002070279916\n\\item -0.150939542510737\n\\item -0.742407058602029\n\\item -0.52235262728023\n\\item -0.712351510062608\n\\item -1.59374784438104\n\\item -0.935857955508698\n\\item 0.97960664724033\n\\item -1.80645505033896\n\\item -0.0992255047021555\n\\item 0.373041252865872\n\\item 0.728504942205707\n\\item -0.880904752580936\n\\item -0.205031828068265\n\\item 0.943059044076697\n\\item -1.37410468568365\n\\item -1.22095218881638\n\\item -1.08390295559767\n\\item -0.670932735769244\n\\item 0.804408020673309\n\\item 2.87856492591331\n\\item 0.0854678964075034\n\\item 0.415646104951301\n\\item 1.4797598064949\n\\item -0.492631563027492\n\\item -0.640488822924645\n\\item -1.12850175524017\n\\item -1.32116801491259\n\\item 0.570542714666371\n\\item -1.27234723416176\n\\item 0.0837267546175021\n\\item 0.884122912718759\n\\item -0.79239713008413\n\\item -1.04822212733804\n\\item -0.532032029515322\n\\end{enumerate*}\n",
            "text/plain": [
              "  [1] -0.372335355 -0.311913567 -0.643446916  0.546989868 -0.027463081\n",
              "  [6]  1.626603010  1.024200033 -0.493341254  0.979192241 -1.348900798\n",
              " [11] -0.913122641 -1.827429095 -0.889778723  0.850257259  0.472397398\n",
              " [16] -1.516613471  0.266600070 -1.486285231  0.759777097  0.522811061\n",
              " [21]  1.389223528 -0.451399702 -0.163112980 -0.362499443  1.812624093\n",
              " [26]  1.281510388  0.160678109 -1.244241260 -0.033708469  0.853910635\n",
              " [31]  1.036356258  0.726002564  0.147442555  1.414417500  0.133017272\n",
              " [36] -0.717652226  1.565440534  0.981209767  0.152778730  0.233360613\n",
              " [41] -0.501221987  0.400284507 -0.482259391 -1.719564800  0.287852189\n",
              " [46] -0.901399091 -0.965013241  1.812554561 -0.085819092 -1.576934746\n",
              " [51] -1.035320858 -0.002426368 -0.386090098  1.490721475  1.573394086\n",
              " [56]  0.172340303 -0.095337511  1.195830836  0.983849606  0.554160599\n",
              " [61]  0.692790624  1.199849873  2.030812614 -0.249431233  0.706550609\n",
              " [66]  0.210020703 -0.150939543 -0.742407059 -0.522352627 -0.712351510\n",
              " [71] -1.593747844 -0.935857956  0.979606647 -1.806455050 -0.099225505\n",
              " [76]  0.373041253  0.728504942 -0.880904753 -0.205031828  0.943059044\n",
              " [81] -1.374104686 -1.220952189 -1.083902956 -0.670932736  0.804408021\n",
              " [86]  2.878564926  0.085467896  0.415646105  1.479759806 -0.492631563\n",
              " [91] -0.640488823 -1.128501755 -1.321168015  0.570542715 -1.272347234\n",
              " [96]  0.083726755  0.884122913 -0.792397130 -1.048222127 -0.532032030"
            ]
          },
          "metadata": {}
        },
        {
          "output_type": "display_data",
          "data": {
            "text/html": [
              "<style>\n",
              ".list-inline {list-style: none; margin:0; padding: 0}\n",
              ".list-inline>li {display: inline-block}\n",
              ".list-inline>li:not(:last-child)::after {content: \"\\00b7\"; padding: 0 .5ex}\n",
              "</style>\n",
              "<ol class=list-inline><li>0.597359803738073</li><li>0.733457319904119</li><li>0.821040289942175</li><li>0.824331033974886</li><li>0.0238782141823322</li><li>0.312572686234489</li><li>0.992887806147337</li><li>0.0896278638392687</li><li>0.0594354060012847</li><li>0.50548731139861</li><li>0.958685184596106</li><li>0.663777195382863</li><li>0.240737752057612</li><li>0.828169724205509</li><li>0.456635061418638</li><li>0.400791201740503</li><li>0.17887785541825</li><li>0.224313539918512</li><li>0.778895966010168</li><li>0.37391844834201</li><li>0.356384842889383</li><li>0.730226046405733</li><li>0.637371698161587</li><li>0.0847423516679555</li><li>0.091468662256375</li><li>0.880668807774782</li><li>0.390253705438226</li><li>0.166840335354209</li><li>0.573125923285261</li><li>0.220558320172131</li><li>0.777496959315613</li><li>0.845972510520369</li><li>0.17604959430173</li><li>0.516992099350318</li><li>0.900858365697786</li><li>0.760892370948568</li><li>0.968408002285287</li><li>0.675951261771843</li><li>0.187544299755245</li><li>0.807106530060992</li><li>0.58838225225918</li><li>0.329476989340037</li><li>0.427812010282651</li><li>0.0549349174834788</li><li>0.779563450720161</li><li>0.817638455890119</li><li>0.120630648219958</li><li>0.846977586159483</li><li>0.763024173444137</li><li>0.378082914045081</li><li>0.0323148691095412</li><li>0.886155964806676</li><li>0.83838110929355</li><li>0.925644831731915</li><li>0.957643889356405</li><li>0.804498041514307</li><li>0.023727125255391</li><li>0.70901487255469</li><li>0.169330938719213</li><li>0.23124606302008</li><li>0.568156563909724</li><li>0.970230249688029</li><li>0.876547414110973</li><li>0.412968750344589</li><li>0.285016453359276</li><li>0.597166494699195</li><li>0.26481479103677</li><li>0.695961340563372</li><li>0.0472581796348095</li><li>0.676777683431283</li><li>0.262282348005101</li><li>0.235648401780054</li><li>0.409282792592421</li><li>0.821512304712087</li><li>0.128388732671738</li><li>0.330175845185295</li><li>0.301573506556451</li><li>0.299936399795115</li><li>0.63854884239845</li><li>0.610848864540458</li><li>0.0869604465551674</li><li>0.670798126608133</li><li>0.715134023455903</li><li>0.137730104383081</li><li>0.899671579478309</li><li>0.490879284683615</li><li>0.419651451753452</li><li>0.719149858923629</li><li>0.490748450858518</li><li>0.223338762531057</li><li>0.281738701742142</li><li>0.926145162200555</li><li>0.0298124835826457</li><li>0.474483998259529</li><li>0.418888364220038</li><li>0.461694585857913</li><li>0.70189719973132</li><li>0.856600848725066</li><li>0.444222392048687</li><li>0.577532513998449</li></ol>\n"
            ],
            "text/markdown": "1. 0.597359803738073\n2. 0.733457319904119\n3. 0.821040289942175\n4. 0.824331033974886\n5. 0.0238782141823322\n6. 0.312572686234489\n7. 0.992887806147337\n8. 0.0896278638392687\n9. 0.0594354060012847\n10. 0.50548731139861\n11. 0.958685184596106\n12. 0.663777195382863\n13. 0.240737752057612\n14. 0.828169724205509\n15. 0.456635061418638\n16. 0.400791201740503\n17. 0.17887785541825\n18. 0.224313539918512\n19. 0.778895966010168\n20. 0.37391844834201\n21. 0.356384842889383\n22. 0.730226046405733\n23. 0.637371698161587\n24. 0.0847423516679555\n25. 0.091468662256375\n26. 0.880668807774782\n27. 0.390253705438226\n28. 0.166840335354209\n29. 0.573125923285261\n30. 0.220558320172131\n31. 0.777496959315613\n32. 0.845972510520369\n33. 0.17604959430173\n34. 0.516992099350318\n35. 0.900858365697786\n36. 0.760892370948568\n37. 0.968408002285287\n38. 0.675951261771843\n39. 0.187544299755245\n40. 0.807106530060992\n41. 0.58838225225918\n42. 0.329476989340037\n43. 0.427812010282651\n44. 0.0549349174834788\n45. 0.779563450720161\n46. 0.817638455890119\n47. 0.120630648219958\n48. 0.846977586159483\n49. 0.763024173444137\n50. 0.378082914045081\n51. 0.0323148691095412\n52. 0.886155964806676\n53. 0.83838110929355\n54. 0.925644831731915\n55. 0.957643889356405\n56. 0.804498041514307\n57. 0.023727125255391\n58. 0.70901487255469\n59. 0.169330938719213\n60. 0.23124606302008\n61. 0.568156563909724\n62. 0.970230249688029\n63. 0.876547414110973\n64. 0.412968750344589\n65. 0.285016453359276\n66. 0.597166494699195\n67. 0.26481479103677\n68. 0.695961340563372\n69. 0.0472581796348095\n70. 0.676777683431283\n71. 0.262282348005101\n72. 0.235648401780054\n73. 0.409282792592421\n74. 0.821512304712087\n75. 0.128388732671738\n76. 0.330175845185295\n77. 0.301573506556451\n78. 0.299936399795115\n79. 0.63854884239845\n80. 0.610848864540458\n81. 0.0869604465551674\n82. 0.670798126608133\n83. 0.715134023455903\n84. 0.137730104383081\n85. 0.899671579478309\n86. 0.490879284683615\n87. 0.419651451753452\n88. 0.719149858923629\n89. 0.490748450858518\n90. 0.223338762531057\n91. 0.281738701742142\n92. 0.926145162200555\n93. 0.0298124835826457\n94. 0.474483998259529\n95. 0.418888364220038\n96. 0.461694585857913\n97. 0.70189719973132\n98. 0.856600848725066\n99. 0.444222392048687\n100. 0.577532513998449\n\n\n",
            "text/latex": "\\begin{enumerate*}\n\\item 0.597359803738073\n\\item 0.733457319904119\n\\item 0.821040289942175\n\\item 0.824331033974886\n\\item 0.0238782141823322\n\\item 0.312572686234489\n\\item 0.992887806147337\n\\item 0.0896278638392687\n\\item 0.0594354060012847\n\\item 0.50548731139861\n\\item 0.958685184596106\n\\item 0.663777195382863\n\\item 0.240737752057612\n\\item 0.828169724205509\n\\item 0.456635061418638\n\\item 0.400791201740503\n\\item 0.17887785541825\n\\item 0.224313539918512\n\\item 0.778895966010168\n\\item 0.37391844834201\n\\item 0.356384842889383\n\\item 0.730226046405733\n\\item 0.637371698161587\n\\item 0.0847423516679555\n\\item 0.091468662256375\n\\item 0.880668807774782\n\\item 0.390253705438226\n\\item 0.166840335354209\n\\item 0.573125923285261\n\\item 0.220558320172131\n\\item 0.777496959315613\n\\item 0.845972510520369\n\\item 0.17604959430173\n\\item 0.516992099350318\n\\item 0.900858365697786\n\\item 0.760892370948568\n\\item 0.968408002285287\n\\item 0.675951261771843\n\\item 0.187544299755245\n\\item 0.807106530060992\n\\item 0.58838225225918\n\\item 0.329476989340037\n\\item 0.427812010282651\n\\item 0.0549349174834788\n\\item 0.779563450720161\n\\item 0.817638455890119\n\\item 0.120630648219958\n\\item 0.846977586159483\n\\item 0.763024173444137\n\\item 0.378082914045081\n\\item 0.0323148691095412\n\\item 0.886155964806676\n\\item 0.83838110929355\n\\item 0.925644831731915\n\\item 0.957643889356405\n\\item 0.804498041514307\n\\item 0.023727125255391\n\\item 0.70901487255469\n\\item 0.169330938719213\n\\item 0.23124606302008\n\\item 0.568156563909724\n\\item 0.970230249688029\n\\item 0.876547414110973\n\\item 0.412968750344589\n\\item 0.285016453359276\n\\item 0.597166494699195\n\\item 0.26481479103677\n\\item 0.695961340563372\n\\item 0.0472581796348095\n\\item 0.676777683431283\n\\item 0.262282348005101\n\\item 0.235648401780054\n\\item 0.409282792592421\n\\item 0.821512304712087\n\\item 0.128388732671738\n\\item 0.330175845185295\n\\item 0.301573506556451\n\\item 0.299936399795115\n\\item 0.63854884239845\n\\item 0.610848864540458\n\\item 0.0869604465551674\n\\item 0.670798126608133\n\\item 0.715134023455903\n\\item 0.137730104383081\n\\item 0.899671579478309\n\\item 0.490879284683615\n\\item 0.419651451753452\n\\item 0.719149858923629\n\\item 0.490748450858518\n\\item 0.223338762531057\n\\item 0.281738701742142\n\\item 0.926145162200555\n\\item 0.0298124835826457\n\\item 0.474483998259529\n\\item 0.418888364220038\n\\item 0.461694585857913\n\\item 0.70189719973132\n\\item 0.856600848725066\n\\item 0.444222392048687\n\\item 0.577532513998449\n\\end{enumerate*}\n",
            "text/plain": [
              "  [1] 0.59735980 0.73345732 0.82104029 0.82433103 0.02387821 0.31257269\n",
              "  [7] 0.99288781 0.08962786 0.05943541 0.50548731 0.95868518 0.66377720\n",
              " [13] 0.24073775 0.82816972 0.45663506 0.40079120 0.17887786 0.22431354\n",
              " [19] 0.77889597 0.37391845 0.35638484 0.73022605 0.63737170 0.08474235\n",
              " [25] 0.09146866 0.88066881 0.39025371 0.16684034 0.57312592 0.22055832\n",
              " [31] 0.77749696 0.84597251 0.17604959 0.51699210 0.90085837 0.76089237\n",
              " [37] 0.96840800 0.67595126 0.18754430 0.80710653 0.58838225 0.32947699\n",
              " [43] 0.42781201 0.05493492 0.77956345 0.81763846 0.12063065 0.84697759\n",
              " [49] 0.76302417 0.37808291 0.03231487 0.88615596 0.83838111 0.92564483\n",
              " [55] 0.95764389 0.80449804 0.02372713 0.70901487 0.16933094 0.23124606\n",
              " [61] 0.56815656 0.97023025 0.87654741 0.41296875 0.28501645 0.59716649\n",
              " [67] 0.26481479 0.69596134 0.04725818 0.67677768 0.26228235 0.23564840\n",
              " [73] 0.40928279 0.82151230 0.12838873 0.33017585 0.30157351 0.29993640\n",
              " [79] 0.63854884 0.61084886 0.08696045 0.67079813 0.71513402 0.13773010\n",
              " [85] 0.89967158 0.49087928 0.41965145 0.71914986 0.49074845 0.22333876\n",
              " [91] 0.28173870 0.92614516 0.02981248 0.47448400 0.41888836 0.46169459\n",
              " [97] 0.70189720 0.85660085 0.44422239 0.57753251"
            ]
          },
          "metadata": {}
        }
      ]
    },
    {
      "cell_type": "markdown",
      "metadata": {
        "id": "TlnEINwUIgwP"
      },
      "source": [
        "### 3.2 Funciones (primera parte) \n",
        "\n",
        "#### 3.2.1 Funciones vectorizadas y operaciones con vectores\n",
        "\n",
        "R es un lenguaje funcional, en el sentido de que prácticamente cada llamada a R corresponde a una función que puede (o no) recibir argumentos de entrada.\n",
        "Una de las ventajas es que existe una amplia, muy amplia,... verdaderamente amplia!, variedad de funciones disponibles, tanto en las librerías que vienen con la instalación por defecto como las librerías disponibles en CRAN o en toda la comunidad R.\n",
        "\n",
        "En R, una función $f$ se dice vectorizada si dado un vector $\\mathbf{x}=(x_1,x_2,\\dots,x_n)$, se tiene que $f(\\mathbf{x})=(f(x_1),f(x_2),\\dots,f(x_n))$.\n",
        "Esto hace que, por ejemplo, la aritmética de vectores se más sencilla de implentar y con un menor tiempo de cómputo . Gran parte de las funciones disponibles en la librerías (bibliotecas o *packages*) de R corresponden a funciones vectorizadas.\n",
        "A modo de ejemplo, a cotinuación se muestran algunas funciones (de las más básicas) aritméticas, y funciones para trabajar con texto:\n",
        "    \n",
        "    +,-,*,/\n",
        "    abs()\n",
        "    sqrt()\n",
        "    cos()\n",
        "    sin()\n",
        "    tan()\n",
        "    nchar()\n",
        "    susbtr()\n",
        "    grepl()\n",
        "    gsub()\n",
        "    \n",
        "   \n",
        "   \n",
        "   "
      ]
    },
    {
      "cell_type": "code",
      "metadata": {
        "id": "tO3oB1bnIgwP",
        "outputId": "e23329b4-c14f-4af0-ca8c-efdc91d6c9ba",
        "colab": {
          "base_uri": "https://localhost:8080/",
          "height": 34
        }
      },
      "source": [
        "# 3.2. Funciones (primera parte) ------------\n",
        "# 3.2.1 Funciones vectorizadas \n",
        "# Ejemplos básicos de funciones(vectorizadas)\n",
        "sqrt(c(4,9,16,8))"
      ],
      "execution_count": 1,
      "outputs": [
        {
          "output_type": "display_data",
          "data": {
            "text/html": [
              "<style>\n",
              ".list-inline {list-style: none; margin:0; padding: 0}\n",
              ".list-inline>li {display: inline-block}\n",
              ".list-inline>li:not(:last-child)::after {content: \"\\00b7\"; padding: 0 .5ex}\n",
              "</style>\n",
              "<ol class=list-inline><li>2</li><li>3</li><li>4</li><li>2.82842712474619</li></ol>\n"
            ],
            "text/markdown": "1. 2\n2. 3\n3. 4\n4. 2.82842712474619\n\n\n",
            "text/latex": "\\begin{enumerate*}\n\\item 2\n\\item 3\n\\item 4\n\\item 2.82842712474619\n\\end{enumerate*}\n",
            "text/plain": [
              "[1] 2.000000 3.000000 4.000000 2.828427"
            ]
          },
          "metadata": {}
        }
      ]
    },
    {
      "cell_type": "code",
      "metadata": {
        "id": "NivskO3jIgwT",
        "outputId": "f805c83a-c4bb-4afe-e39d-99ee8c7af3a0",
        "colab": {
          "base_uri": "https://localhost:8080/",
          "height": 34
        }
      },
      "source": [
        "# funciones para manipular texto\n",
        "#cantidad de caracteres\n",
        "\n",
        "nchar(c(\"hola\", \"sóy\", \"yo\"))\n",
        "\n"
      ],
      "execution_count": 9,
      "outputs": [
        {
          "output_type": "display_data",
          "data": {
            "text/html": [
              "<style>\n",
              ".list-inline {list-style: none; margin:0; padding: 0}\n",
              ".list-inline>li {display: inline-block}\n",
              ".list-inline>li:not(:last-child)::after {content: \"\\00b7\"; padding: 0 .5ex}\n",
              "</style>\n",
              "<ol class=list-inline><li>4</li><li>3</li><li>5</li></ol>\n"
            ],
            "text/markdown": "1. 4\n2. 3\n3. 5\n\n\n",
            "text/latex": "\\begin{enumerate*}\n\\item 4\n\\item 3\n\\item 5\n\\end{enumerate*}\n",
            "text/plain": [
              "[1] 4 3 5"
            ]
          },
          "metadata": {}
        }
      ]
    },
    {
      "cell_type": "code",
      "source": [
        "# Ojo\n",
        "length(c(\"hola\", \"soy\", \"yo\"))# Recordar que retorna el largo del vector."
      ],
      "metadata": {
        "id": "Dl6BE8OjzKnY",
        "outputId": "f6795d1a-befb-458e-cf07-9c1ec48fec81",
        "colab": {
          "base_uri": "https://localhost:8080/",
          "height": 34
        }
      },
      "execution_count": 5,
      "outputs": [
        {
          "output_type": "display_data",
          "data": {
            "text/html": [
              "3"
            ],
            "text/markdown": "3",
            "text/latex": "3",
            "text/plain": [
              "[1] 3"
            ]
          },
          "metadata": {}
        }
      ]
    },
    {
      "cell_type": "code",
      "metadata": {
        "id": "tA55foL1IgwX",
        "outputId": "1ce9ce23-8c5b-4919-e816-b64134b0173c",
        "colab": {
          "base_uri": "https://localhost:8080/",
          "height": 34
        }
      },
      "source": [
        "# substring substr()\n",
        "substr(c(\"hola\", \"soy\", \"yo\"), 2,3 )\n"
      ],
      "execution_count": 4,
      "outputs": [
        {
          "output_type": "display_data",
          "data": {
            "text/html": [
              "<style>\n",
              ".list-inline {list-style: none; margin:0; padding: 0}\n",
              ".list-inline>li {display: inline-block}\n",
              ".list-inline>li:not(:last-child)::after {content: \"\\00b7\"; padding: 0 .5ex}\n",
              "</style>\n",
              "<ol class=list-inline><li>'ol'</li><li>'oy'</li><li>'o'</li></ol>\n"
            ],
            "text/markdown": "1. 'ol'\n2. 'oy'\n3. 'o'\n\n\n",
            "text/latex": "\\begin{enumerate*}\n\\item 'ol'\n\\item 'oy'\n\\item 'o'\n\\end{enumerate*}\n",
            "text/plain": [
              "[1] \"ol\" \"oy\" \"o\" "
            ]
          },
          "metadata": {}
        }
      ]
    },
    {
      "cell_type": "code",
      "metadata": {
        "id": "vjRwdUbiIgwY",
        "outputId": "718df556-00bf-4d12-b444-f0700144c24f",
        "colab": {
          "base_uri": "https://localhost:8080/",
          "height": 52
        }
      },
      "source": [
        "# grepl() evlaúa si un  caracter está contenido en otro. (LIKE)\n",
        "#?grepl()\n",
        "grepl(\"ala\", c(\"palabra\",\"hola\",\"lala\"))\n",
        "grepl(\"alo\", \"palabra\")\n",
        "\n",
        "\n",
        "\n"
      ],
      "execution_count": 12,
      "outputs": [
        {
          "output_type": "display_data",
          "data": {
            "text/html": [
              "<style>\n",
              ".list-inline {list-style: none; margin:0; padding: 0}\n",
              ".list-inline>li {display: inline-block}\n",
              ".list-inline>li:not(:last-child)::after {content: \"\\00b7\"; padding: 0 .5ex}\n",
              "</style>\n",
              "<ol class=list-inline><li>TRUE</li><li>FALSE</li><li>TRUE</li></ol>\n"
            ],
            "text/markdown": "1. TRUE\n2. FALSE\n3. TRUE\n\n\n",
            "text/latex": "\\begin{enumerate*}\n\\item TRUE\n\\item FALSE\n\\item TRUE\n\\end{enumerate*}\n",
            "text/plain": [
              "[1]  TRUE FALSE  TRUE"
            ]
          },
          "metadata": {}
        },
        {
          "output_type": "display_data",
          "data": {
            "text/html": [
              "FALSE"
            ],
            "text/markdown": "FALSE",
            "text/latex": "FALSE",
            "text/plain": [
              "[1] FALSE"
            ]
          },
          "metadata": {}
        }
      ]
    },
    {
      "cell_type": "code",
      "source": [
        "#gsub() reemblaza un substring por otro\n",
        "#?gsub\n",
        "gsub(\"hola\", \"XX\", c(\"hola buen día\",\"como estás\", \"hola bien y tu\" ))\n",
        "# si reemplazamos en un vector de palabras\n"
      ],
      "metadata": {
        "id": "8yWqrmOV0b3D",
        "outputId": "d53af10a-c8ea-4bee-e3fd-7ed76e84d43b",
        "colab": {
          "base_uri": "https://localhost:8080/",
          "height": 34
        }
      },
      "execution_count": 17,
      "outputs": [
        {
          "output_type": "display_data",
          "data": {
            "text/html": [
              "<style>\n",
              ".list-inline {list-style: none; margin:0; padding: 0}\n",
              ".list-inline>li {display: inline-block}\n",
              ".list-inline>li:not(:last-child)::after {content: \"\\00b7\"; padding: 0 .5ex}\n",
              "</style>\n",
              "<ol class=list-inline><li>'XX buen día'</li><li>'como estás'</li><li>'XX bien y tu'</li></ol>\n"
            ],
            "text/markdown": "1. 'XX buen día'\n2. 'como estás'\n3. 'XX bien y tu'\n\n\n",
            "text/latex": "\\begin{enumerate*}\n\\item 'XX buen día'\n\\item 'como estás'\n\\item 'XX bien y tu'\n\\end{enumerate*}\n",
            "text/plain": [
              "[1] \"XX buen día\"  \"como estás\"   \"XX bien y tu\""
            ]
          },
          "metadata": {}
        }
      ]
    },
    {
      "cell_type": "code",
      "source": [
        "?grepl"
      ],
      "metadata": {
        "id": "SzGKbIwi0LWh"
      },
      "execution_count": 11,
      "outputs": []
    },
    {
      "cell_type": "code",
      "metadata": {
        "id": "0j9kKUbzIgwZ"
      },
      "source": [
        "\n",
        "#https://www.tidytextmining.com/\n"
      ],
      "execution_count": null,
      "outputs": []
    }
  ]
}