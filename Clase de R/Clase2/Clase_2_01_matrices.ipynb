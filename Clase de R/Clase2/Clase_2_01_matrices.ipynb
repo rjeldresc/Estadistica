{
  "nbformat": 4,
  "nbformat_minor": 0,
  "metadata": {
    "colab": {
      "name": "Clase_2_01_matrices.ipynb",
      "provenance": [],
      "collapsed_sections": [],
      "include_colab_link": true
    },
    "kernelspec": {
      "name": "ir",
      "display_name": "R"
    }
  },
  "cells": [
    {
      "cell_type": "markdown",
      "metadata": {
        "id": "view-in-github",
        "colab_type": "text"
      },
      "source": [
        "<a href=\"https://colab.research.google.com/github/majorquev/DBDC_202206_Programacion_en_R_para_ciencia_de_datos/blob/main/Clase2/Clase_2_01_matrices.ipynb\" target=\"_parent\"><img src=\"https://colab.research.google.com/assets/colab-badge.svg\" alt=\"Open In Colab\"/></a>"
      ]
    },
    {
      "cell_type": "markdown",
      "metadata": {
        "collapsed": true,
        "id": "qGvtNqVzSqoX"
      },
      "source": [
        "# Parte 1: Introducción a R (continuación)\n",
        "\n",
        "**Autor:** Miguel Jorquera Viguera<br>\n",
        "**E-mail:** majorquev@gmail.com<br>\n",
        "**Ayudante:** Rodrigo Morales <br>\n",
        "**E-mail ayudante:** rumorale1@gmail.com\n",
        "\n",
        "\n",
        "\n",
        "### 3.2 Matrices\n",
        "\n",
        "En R, así como en otros lenguajes de programación, una matriz es básicamente un arreglo bi-dimensional, donde las entradas horizontales se entienden como filas y las verticales como columnas. Es posible imaginar una matriz como un arreglo de vectores como columnas (o filas) del mismo largo.\n",
        "\n",
        " * ¿Qué se guarda en una matriz?<br>\n",
        "    Sólo datos de un mismo tipo. \n",
        "     \n",
        " * ¿Cómo se declara una matriz?<br>\n",
        "    Se puede definir de varias maneras, indicando los elementos que la componen, o combinando vectores como filas o columnas.\n",
        " \n",
        " * ¿Cómo se accede a sus elementos?<br>\n",
        "    Indicando la posición del vector fila, seguido de la posición del vector columna (como es usual)."
      ]
    },
    {
      "cell_type": "code",
      "source": [
        "?matrix"
      ],
      "metadata": {
        "id": "RjWVrtxn3p1L"
      },
      "execution_count": 2,
      "outputs": []
    },
    {
      "cell_type": "code",
      "metadata": {
        "trusted": true,
        "id": "TKVO3cuZSqoY",
        "outputId": "c8e0a1bd-ee7f-4862-9558-387d4b45207b",
        "colab": {
          "base_uri": "https://localhost:8080/",
          "height": 247
        }
      },
      "source": [
        "# 3.2 Matrices ------------\n",
        "#?matrix de dos filas y 3 columnas, parametros ncol, nrow y byrow\n",
        "# recibe un vector de elementos\n",
        "\n",
        "A <- matrix(c(9,10,4,6,7,8), ncol = 3, nrow = 2)\n",
        "A\n",
        "B <- matrix(c(9,10,4,6,7,8), ncol = 3, nrow = 2, byrow = TRUE)\n",
        "B"
      ],
      "execution_count": 3,
      "outputs": [
        {
          "output_type": "display_data",
          "data": {
            "text/html": [
              "<table class=\"dataframe\">\n",
              "<caption>A matrix: 2 × 3 of type dbl</caption>\n",
              "<tbody>\n",
              "\t<tr><td> 9</td><td>4</td><td>7</td></tr>\n",
              "\t<tr><td>10</td><td>6</td><td>8</td></tr>\n",
              "</tbody>\n",
              "</table>\n"
            ],
            "text/markdown": "\nA matrix: 2 × 3 of type dbl\n\n|  9 | 4 | 7 |\n| 10 | 6 | 8 |\n\n",
            "text/latex": "A matrix: 2 × 3 of type dbl\n\\begin{tabular}{lll}\n\t  9 & 4 & 7\\\\\n\t 10 & 6 & 8\\\\\n\\end{tabular}\n",
            "text/plain": [
              "     [,1] [,2] [,3]\n",
              "[1,]  9   4    7   \n",
              "[2,] 10   6    8   "
            ]
          },
          "metadata": {}
        },
        {
          "output_type": "display_data",
          "data": {
            "text/html": [
              "<table class=\"dataframe\">\n",
              "<caption>A matrix: 2 × 3 of type dbl</caption>\n",
              "<tbody>\n",
              "\t<tr><td>9</td><td>10</td><td>4</td></tr>\n",
              "\t<tr><td>6</td><td> 7</td><td>8</td></tr>\n",
              "</tbody>\n",
              "</table>\n"
            ],
            "text/markdown": "\nA matrix: 2 × 3 of type dbl\n\n| 9 | 10 | 4 |\n| 6 |  7 | 8 |\n\n",
            "text/latex": "A matrix: 2 × 3 of type dbl\n\\begin{tabular}{lll}\n\t 9 & 10 & 4\\\\\n\t 6 &  7 & 8\\\\\n\\end{tabular}\n",
            "text/plain": [
              "     [,1] [,2] [,3]\n",
              "[1,] 9    10   4   \n",
              "[2,] 6     7   8   "
            ]
          },
          "metadata": {}
        }
      ]
    },
    {
      "cell_type": "code",
      "metadata": {
        "trusted": true,
        "id": "Gm3PDTciSqof",
        "outputId": "87f2d06d-e2da-459e-e2fd-cb238fb3e063",
        "colab": {
          "base_uri": "https://localhost:8080/",
          "height": 34
        }
      },
      "source": [
        "# clase y atributo dim\n",
        "class(B)"
      ],
      "execution_count": 4,
      "outputs": [
        {
          "output_type": "display_data",
          "data": {
            "text/html": [
              "<style>\n",
              ".list-inline {list-style: none; margin:0; padding: 0}\n",
              ".list-inline>li {display: inline-block}\n",
              ".list-inline>li:not(:last-child)::after {content: \"\\00b7\"; padding: 0 .5ex}\n",
              "</style>\n",
              "<ol class=list-inline><li>'matrix'</li><li>'array'</li></ol>\n"
            ],
            "text/markdown": "1. 'matrix'\n2. 'array'\n\n\n",
            "text/latex": "\\begin{enumerate*}\n\\item 'matrix'\n\\item 'array'\n\\end{enumerate*}\n",
            "text/plain": [
              "[1] \"matrix\" \"array\" "
            ]
          },
          "metadata": {}
        }
      ]
    },
    {
      "cell_type": "code",
      "source": [
        "dim(B)"
      ],
      "metadata": {
        "id": "oxzJ4BWo4Gtl",
        "outputId": "0c60efa5-b5af-46b8-e8d7-fe097caefe67",
        "colab": {
          "base_uri": "https://localhost:8080/",
          "height": 34
        }
      },
      "execution_count": 5,
      "outputs": [
        {
          "output_type": "display_data",
          "data": {
            "text/html": [
              "<style>\n",
              ".list-inline {list-style: none; margin:0; padding: 0}\n",
              ".list-inline>li {display: inline-block}\n",
              ".list-inline>li:not(:last-child)::after {content: \"\\00b7\"; padding: 0 .5ex}\n",
              "</style>\n",
              "<ol class=list-inline><li>2</li><li>3</li></ol>\n"
            ],
            "text/markdown": "1. 2\n2. 3\n\n\n",
            "text/latex": "\\begin{enumerate*}\n\\item 2\n\\item 3\n\\end{enumerate*}\n",
            "text/plain": [
              "[1] 2 3"
            ]
          },
          "metadata": {}
        }
      ]
    },
    {
      "cell_type": "code",
      "source": [
        "# Cantidad de columnas\n",
        "dim(B)[2]\n",
        "# Cantidad de filas\n",
        "dim(B)[1]"
      ],
      "metadata": {
        "id": "Vfh42TJz4QNZ",
        "outputId": "5f92b15a-26aa-4277-e2bd-09919178fafc",
        "colab": {
          "base_uri": "https://localhost:8080/",
          "height": 52
        }
      },
      "execution_count": 7,
      "outputs": [
        {
          "output_type": "display_data",
          "data": {
            "text/html": [
              "3"
            ],
            "text/markdown": "3",
            "text/latex": "3",
            "text/plain": [
              "[1] 3"
            ]
          },
          "metadata": {}
        },
        {
          "output_type": "display_data",
          "data": {
            "text/html": [
              "2"
            ],
            "text/markdown": "2",
            "text/latex": "2",
            "text/plain": [
              "[1] 2"
            ]
          },
          "metadata": {}
        }
      ]
    },
    {
      "cell_type": "code",
      "source": [
        "# nrow(): cantidad de filas\n",
        "nrow(B)\n",
        "# ncol(): cantidad de columnas\n",
        "ncol(B)"
      ],
      "metadata": {
        "id": "01jjSUuD4ZWg",
        "outputId": "737f3de0-5438-4110-f2a6-3875c1ecad2a",
        "colab": {
          "base_uri": "https://localhost:8080/",
          "height": 52
        }
      },
      "execution_count": 9,
      "outputs": [
        {
          "output_type": "display_data",
          "data": {
            "text/html": [
              "2"
            ],
            "text/markdown": "2",
            "text/latex": "2",
            "text/plain": [
              "[1] 2"
            ]
          },
          "metadata": {}
        },
        {
          "output_type": "display_data",
          "data": {
            "text/html": [
              "3"
            ],
            "text/markdown": "3",
            "text/latex": "3",
            "text/plain": [
              "[1] 3"
            ]
          },
          "metadata": {}
        }
      ]
    },
    {
      "cell_type": "code",
      "metadata": {
        "trusted": true,
        "id": "2TXNSoedSqoh",
        "outputId": "43dc9fd8-b52e-4600-80b1-380858998f05",
        "colab": {
          "base_uri": "https://localhost:8080/",
          "height": 52
        }
      },
      "source": [
        "# Genere dos vectores del mismo largo y forme una matriz.\n",
        "v1 <- 1:5\n",
        "v2 <- seq(1,2,length.out = 5) \n",
        "v1;v2"
      ],
      "execution_count": 11,
      "outputs": [
        {
          "output_type": "display_data",
          "data": {
            "text/html": [
              "<style>\n",
              ".list-inline {list-style: none; margin:0; padding: 0}\n",
              ".list-inline>li {display: inline-block}\n",
              ".list-inline>li:not(:last-child)::after {content: \"\\00b7\"; padding: 0 .5ex}\n",
              "</style>\n",
              "<ol class=list-inline><li>1</li><li>2</li><li>3</li><li>4</li><li>5</li></ol>\n"
            ],
            "text/markdown": "1. 1\n2. 2\n3. 3\n4. 4\n5. 5\n\n\n",
            "text/latex": "\\begin{enumerate*}\n\\item 1\n\\item 2\n\\item 3\n\\item 4\n\\item 5\n\\end{enumerate*}\n",
            "text/plain": [
              "[1] 1 2 3 4 5"
            ]
          },
          "metadata": {}
        },
        {
          "output_type": "display_data",
          "data": {
            "text/html": [
              "<style>\n",
              ".list-inline {list-style: none; margin:0; padding: 0}\n",
              ".list-inline>li {display: inline-block}\n",
              ".list-inline>li:not(:last-child)::after {content: \"\\00b7\"; padding: 0 .5ex}\n",
              "</style>\n",
              "<ol class=list-inline><li>1</li><li>1.25</li><li>1.5</li><li>1.75</li><li>2</li></ol>\n"
            ],
            "text/markdown": "1. 1\n2. 1.25\n3. 1.5\n4. 1.75\n5. 2\n\n\n",
            "text/latex": "\\begin{enumerate*}\n\\item 1\n\\item 1.25\n\\item 1.5\n\\item 1.75\n\\item 2\n\\end{enumerate*}\n",
            "text/plain": [
              "[1] 1.00 1.25 1.50 1.75 2.00"
            ]
          },
          "metadata": {}
        }
      ]
    },
    {
      "cell_type": "code",
      "source": [
        ""
      ],
      "metadata": {
        "id": "RqJHlJoE46wW"
      },
      "execution_count": null,
      "outputs": []
    },
    {
      "cell_type": "code",
      "metadata": {
        "trusted": true,
        "id": "W3g76XEkSqok",
        "outputId": "d412cf56-48d7-4ca8-df43-4d85fc8c5070",
        "colab": {
          "base_uri": "https://localhost:8080/",
          "height": 338
        }
      },
      "source": [
        "# funciones cbind() [une vectores como columnas]\n",
        "# y rbind() [une vectores como filas] (pensadas para matrices)\n",
        "#?cbind\n",
        "\n",
        "C <- cbind(v1,v2)\n",
        "C\n",
        "\n",
        "D <- rbind(v1,v2)\n",
        "D"
      ],
      "execution_count": 14,
      "outputs": [
        {
          "output_type": "display_data",
          "data": {
            "text/html": [
              "<table class=\"dataframe\">\n",
              "<caption>A matrix: 5 × 2 of type dbl</caption>\n",
              "<thead>\n",
              "\t<tr><th scope=col>v1</th><th scope=col>v2</th></tr>\n",
              "</thead>\n",
              "<tbody>\n",
              "\t<tr><td>1</td><td>1.00</td></tr>\n",
              "\t<tr><td>2</td><td>1.25</td></tr>\n",
              "\t<tr><td>3</td><td>1.50</td></tr>\n",
              "\t<tr><td>4</td><td>1.75</td></tr>\n",
              "\t<tr><td>5</td><td>2.00</td></tr>\n",
              "</tbody>\n",
              "</table>\n"
            ],
            "text/markdown": "\nA matrix: 5 × 2 of type dbl\n\n| v1 | v2 |\n|---|---|\n| 1 | 1.00 |\n| 2 | 1.25 |\n| 3 | 1.50 |\n| 4 | 1.75 |\n| 5 | 2.00 |\n\n",
            "text/latex": "A matrix: 5 × 2 of type dbl\n\\begin{tabular}{ll}\n v1 & v2\\\\\n\\hline\n\t 1 & 1.00\\\\\n\t 2 & 1.25\\\\\n\t 3 & 1.50\\\\\n\t 4 & 1.75\\\\\n\t 5 & 2.00\\\\\n\\end{tabular}\n",
            "text/plain": [
              "     v1 v2  \n",
              "[1,] 1  1.00\n",
              "[2,] 2  1.25\n",
              "[3,] 3  1.50\n",
              "[4,] 4  1.75\n",
              "[5,] 5  2.00"
            ]
          },
          "metadata": {}
        },
        {
          "output_type": "display_data",
          "data": {
            "text/html": [
              "<table class=\"dataframe\">\n",
              "<caption>A matrix: 2 × 5 of type dbl</caption>\n",
              "<tbody>\n",
              "\t<tr><th scope=row>v1</th><td>1</td><td>2.00</td><td>3.0</td><td>4.00</td><td>5</td></tr>\n",
              "\t<tr><th scope=row>v2</th><td>1</td><td>1.25</td><td>1.5</td><td>1.75</td><td>2</td></tr>\n",
              "</tbody>\n",
              "</table>\n"
            ],
            "text/markdown": "\nA matrix: 2 × 5 of type dbl\n\n| v1 | 1 | 2.00 | 3.0 | 4.00 | 5 |\n| v2 | 1 | 1.25 | 1.5 | 1.75 | 2 |\n\n",
            "text/latex": "A matrix: 2 × 5 of type dbl\n\\begin{tabular}{r|lllll}\n\tv1 & 1 & 2.00 & 3.0 & 4.00 & 5\\\\\n\tv2 & 1 & 1.25 & 1.5 & 1.75 & 2\\\\\n\\end{tabular}\n",
            "text/plain": [
              "   [,1] [,2] [,3] [,4] [,5]\n",
              "v1 1    2.00 3.0  4.00 5   \n",
              "v2 1    1.25 1.5  1.75 2   "
            ]
          },
          "metadata": {}
        }
      ]
    },
    {
      "cell_type": "code",
      "metadata": {
        "trusted": true,
        "id": "gDzbcsNVSqom",
        "outputId": "96162fdb-3cd8-4fbd-8253-aaadc1353b4e",
        "colab": {
          "base_uri": "https://localhost:8080/",
          "height": 257
        }
      },
      "source": [
        "# si combinamos vectores de distinto largo?\n",
        "# R recicla valores (recordar explicación)\n",
        "\n",
        "cbind(c(3,5,7,9,11,15), c(10,11))\n",
        "\n"
      ],
      "execution_count": 18,
      "outputs": [
        {
          "output_type": "display_data",
          "data": {
            "text/html": [
              "<table class=\"dataframe\">\n",
              "<caption>A matrix: 6 × 2 of type dbl</caption>\n",
              "<tbody>\n",
              "\t<tr><td> 3</td><td>10</td></tr>\n",
              "\t<tr><td> 5</td><td>11</td></tr>\n",
              "\t<tr><td> 7</td><td>10</td></tr>\n",
              "\t<tr><td> 9</td><td>11</td></tr>\n",
              "\t<tr><td>11</td><td>10</td></tr>\n",
              "\t<tr><td>15</td><td>11</td></tr>\n",
              "</tbody>\n",
              "</table>\n"
            ],
            "text/markdown": "\nA matrix: 6 × 2 of type dbl\n\n|  3 | 10 |\n|  5 | 11 |\n|  7 | 10 |\n|  9 | 11 |\n| 11 | 10 |\n| 15 | 11 |\n\n",
            "text/latex": "A matrix: 6 × 2 of type dbl\n\\begin{tabular}{ll}\n\t  3 & 10\\\\\n\t  5 & 11\\\\\n\t  7 & 10\\\\\n\t  9 & 11\\\\\n\t 11 & 10\\\\\n\t 15 & 11\\\\\n\\end{tabular}\n",
            "text/plain": [
              "     [,1] [,2]\n",
              "[1,]  3   10  \n",
              "[2,]  5   11  \n",
              "[3,]  7   10  \n",
              "[4,]  9   11  \n",
              "[5,] 11   10  \n",
              "[6,] 15   11  "
            ]
          },
          "metadata": {}
        }
      ]
    },
    {
      "cell_type": "code",
      "source": [
        "# Nota: Si queremos dejar los NA`s debemos declararlos\n",
        "cbind(c(3,5,7,9,11,15), c(10,11,NA,NA,NA,NA))"
      ],
      "metadata": {
        "id": "Q8QyxP7Y51DC",
        "outputId": "aa2e2190-a44e-4549-cb9b-4a18fa7d6881",
        "colab": {
          "base_uri": "https://localhost:8080/",
          "height": 257
        }
      },
      "execution_count": 19,
      "outputs": [
        {
          "output_type": "display_data",
          "data": {
            "text/html": [
              "<table class=\"dataframe\">\n",
              "<caption>A matrix: 6 × 2 of type dbl</caption>\n",
              "<tbody>\n",
              "\t<tr><td> 3</td><td>10</td></tr>\n",
              "\t<tr><td> 5</td><td>11</td></tr>\n",
              "\t<tr><td> 7</td><td>NA</td></tr>\n",
              "\t<tr><td> 9</td><td>NA</td></tr>\n",
              "\t<tr><td>11</td><td>NA</td></tr>\n",
              "\t<tr><td>15</td><td>NA</td></tr>\n",
              "</tbody>\n",
              "</table>\n"
            ],
            "text/markdown": "\nA matrix: 6 × 2 of type dbl\n\n|  3 | 10 |\n|  5 | 11 |\n|  7 | NA |\n|  9 | NA |\n| 11 | NA |\n| 15 | NA |\n\n",
            "text/latex": "A matrix: 6 × 2 of type dbl\n\\begin{tabular}{ll}\n\t  3 & 10\\\\\n\t  5 & 11\\\\\n\t  7 & NA\\\\\n\t  9 & NA\\\\\n\t 11 & NA\\\\\n\t 15 & NA\\\\\n\\end{tabular}\n",
            "text/plain": [
              "     [,1] [,2]\n",
              "[1,]  3   10  \n",
              "[2,]  5   11  \n",
              "[3,]  7   NA  \n",
              "[4,]  9   NA  \n",
              "[5,] 11   NA  \n",
              "[6,] 15   NA  "
            ]
          },
          "metadata": {}
        }
      ]
    },
    {
      "cell_type": "code",
      "metadata": {
        "trusted": true,
        "id": "QLOH0514Sqoo",
        "outputId": "50393da2-eae1-4673-9918-299f3fa3f3a5",
        "colab": {
          "base_uri": "https://localhost:8080/",
          "height": 177
        }
      },
      "source": [
        "# función diag para la definición de matrices diagonales\n",
        "#?diag \n",
        "\n",
        "diag(c(1,3,6,9))\n",
        "\n"
      ],
      "execution_count": 20,
      "outputs": [
        {
          "output_type": "display_data",
          "data": {
            "text/html": [
              "<table class=\"dataframe\">\n",
              "<caption>A matrix: 4 × 4 of type dbl</caption>\n",
              "<tbody>\n",
              "\t<tr><td>1</td><td>0</td><td>0</td><td>0</td></tr>\n",
              "\t<tr><td>0</td><td>3</td><td>0</td><td>0</td></tr>\n",
              "\t<tr><td>0</td><td>0</td><td>6</td><td>0</td></tr>\n",
              "\t<tr><td>0</td><td>0</td><td>0</td><td>9</td></tr>\n",
              "</tbody>\n",
              "</table>\n"
            ],
            "text/markdown": "\nA matrix: 4 × 4 of type dbl\n\n| 1 | 0 | 0 | 0 |\n| 0 | 3 | 0 | 0 |\n| 0 | 0 | 6 | 0 |\n| 0 | 0 | 0 | 9 |\n\n",
            "text/latex": "A matrix: 4 × 4 of type dbl\n\\begin{tabular}{llll}\n\t 1 & 0 & 0 & 0\\\\\n\t 0 & 3 & 0 & 0\\\\\n\t 0 & 0 & 6 & 0\\\\\n\t 0 & 0 & 0 & 9\\\\\n\\end{tabular}\n",
            "text/plain": [
              "     [,1] [,2] [,3] [,4]\n",
              "[1,] 1    0    0    0   \n",
              "[2,] 0    3    0    0   \n",
              "[3,] 0    0    6    0   \n",
              "[4,] 0    0    0    9   "
            ]
          },
          "metadata": {}
        }
      ]
    },
    {
      "cell_type": "code",
      "source": [
        "B"
      ],
      "metadata": {
        "id": "UptepDYs6wI7",
        "outputId": "5cd29777-d17d-4ab0-f288-4586157c0d34",
        "colab": {
          "base_uri": "https://localhost:8080/",
          "height": 132
        }
      },
      "execution_count": 25,
      "outputs": [
        {
          "output_type": "display_data",
          "data": {
            "text/html": [
              "<table class=\"dataframe\">\n",
              "<caption>A matrix: 2 × 3 of type dbl</caption>\n",
              "<tbody>\n",
              "\t<tr><td>9</td><td>10</td><td>4</td></tr>\n",
              "\t<tr><td>6</td><td> 7</td><td>8</td></tr>\n",
              "</tbody>\n",
              "</table>\n"
            ],
            "text/markdown": "\nA matrix: 2 × 3 of type dbl\n\n| 9 | 10 | 4 |\n| 6 |  7 | 8 |\n\n",
            "text/latex": "A matrix: 2 × 3 of type dbl\n\\begin{tabular}{lll}\n\t 9 & 10 & 4\\\\\n\t 6 &  7 & 8\\\\\n\\end{tabular}\n",
            "text/plain": [
              "     [,1] [,2] [,3]\n",
              "[1,] 9    10   4   \n",
              "[2,] 6     7   8   "
            ]
          },
          "metadata": {}
        }
      ]
    },
    {
      "cell_type": "code",
      "metadata": {
        "trusted": true,
        "id": "xIfUV82ASqot",
        "outputId": "84d033ad-dd3a-40f9-db54-dc5f9c7303e6",
        "colab": {
          "base_uri": "https://localhost:8080/",
          "height": 52
        }
      },
      "source": [
        "# Podemos acceder a los elementos de una matriz\n",
        "# indicando la posición de la fila y la columna de la casilla correspondiente.\n",
        "# quiero rescatar el elemento \"(2,1)\"\n",
        "B[2,1]\n",
        "\n",
        "# CUIDADO:No es lo mismo que \n",
        "B[c(2,1)] # R entiende también la matriz como un gran vector (por columnas) y lo anterior retorna los elmentos 2 y 1 de dicho vector"
      ],
      "execution_count": 26,
      "outputs": [
        {
          "output_type": "display_data",
          "data": {
            "text/html": [
              "6"
            ],
            "text/markdown": "6",
            "text/latex": "6",
            "text/plain": [
              "[1] 6"
            ]
          },
          "metadata": {}
        },
        {
          "output_type": "display_data",
          "data": {
            "text/html": [
              "<style>\n",
              ".list-inline {list-style: none; margin:0; padding: 0}\n",
              ".list-inline>li {display: inline-block}\n",
              ".list-inline>li:not(:last-child)::after {content: \"\\00b7\"; padding: 0 .5ex}\n",
              "</style>\n",
              "<ol class=list-inline><li>6</li><li>9</li></ol>\n"
            ],
            "text/markdown": "1. 6\n2. 9\n\n\n",
            "text/latex": "\\begin{enumerate*}\n\\item 6\n\\item 9\n\\end{enumerate*}\n",
            "text/plain": [
              "[1] 6 9"
            ]
          },
          "metadata": {}
        }
      ]
    },
    {
      "cell_type": "code",
      "metadata": {
        "trusted": true,
        "id": "0irI-CBJSqou",
        "outputId": "27014904-f672-489c-b562-db07a7afc99b",
        "colab": {
          "base_uri": "https://localhost:8080/",
          "height": 52
        }
      },
      "source": [
        "# Para acceder a una fila completa\n",
        "B[2,]#Segunda fila\n",
        "\n",
        "\n",
        "# Para acceder a una columna completa\n",
        "B[,3] #Tercera columna\n"
      ],
      "execution_count": 28,
      "outputs": [
        {
          "output_type": "display_data",
          "data": {
            "text/html": [
              "<style>\n",
              ".list-inline {list-style: none; margin:0; padding: 0}\n",
              ".list-inline>li {display: inline-block}\n",
              ".list-inline>li:not(:last-child)::after {content: \"\\00b7\"; padding: 0 .5ex}\n",
              "</style>\n",
              "<ol class=list-inline><li>6</li><li>7</li><li>8</li></ol>\n"
            ],
            "text/markdown": "1. 6\n2. 7\n3. 8\n\n\n",
            "text/latex": "\\begin{enumerate*}\n\\item 6\n\\item 7\n\\item 8\n\\end{enumerate*}\n",
            "text/plain": [
              "[1] 6 7 8"
            ]
          },
          "metadata": {}
        },
        {
          "output_type": "display_data",
          "data": {
            "text/html": [
              "<style>\n",
              ".list-inline {list-style: none; margin:0; padding: 0}\n",
              ".list-inline>li {display: inline-block}\n",
              ".list-inline>li:not(:last-child)::after {content: \"\\00b7\"; padding: 0 .5ex}\n",
              "</style>\n",
              "<ol class=list-inline><li>4</li><li>8</li></ol>\n"
            ],
            "text/markdown": "1. 4\n2. 8\n\n\n",
            "text/latex": "\\begin{enumerate*}\n\\item 4\n\\item 8\n\\end{enumerate*}\n",
            "text/plain": [
              "[1] 4 8"
            ]
          },
          "metadata": {}
        }
      ]
    },
    {
      "cell_type": "code",
      "metadata": {
        "trusted": true,
        "id": "rkq7J4nLSqow",
        "outputId": "7ecf4636-27bf-4f59-daa0-434c86ee3df5",
        "colab": {
          "base_uri": "https://localhost:8080/",
          "height": 132
        }
      },
      "source": [
        "#Recordemos que podemos actualizar elementos de un vector como:\n",
        "\n",
        "# quiero cambiar el 7 por un 99 (el 7 de la pos 2,2)\n",
        "B[2,2] <- 99\n",
        "B"
      ],
      "execution_count": 29,
      "outputs": [
        {
          "output_type": "display_data",
          "data": {
            "text/html": [
              "<table class=\"dataframe\">\n",
              "<caption>A matrix: 2 × 3 of type dbl</caption>\n",
              "<tbody>\n",
              "\t<tr><td>9</td><td>10</td><td>4</td></tr>\n",
              "\t<tr><td>6</td><td>99</td><td>8</td></tr>\n",
              "</tbody>\n",
              "</table>\n"
            ],
            "text/markdown": "\nA matrix: 2 × 3 of type dbl\n\n| 9 | 10 | 4 |\n| 6 | 99 | 8 |\n\n",
            "text/latex": "A matrix: 2 × 3 of type dbl\n\\begin{tabular}{lll}\n\t 9 & 10 & 4\\\\\n\t 6 & 99 & 8\\\\\n\\end{tabular}\n",
            "text/plain": [
              "     [,1] [,2] [,3]\n",
              "[1,] 9    10   4   \n",
              "[2,] 6    99   8   "
            ]
          },
          "metadata": {}
        }
      ]
    },
    {
      "cell_type": "code",
      "source": [
        "C"
      ],
      "metadata": {
        "id": "vAPW1gOi8Ekd",
        "outputId": "2bd7e71e-193a-4715-b98a-453d8154d4c0",
        "colab": {
          "base_uri": "https://localhost:8080/",
          "height": 258
        }
      },
      "execution_count": 33,
      "outputs": [
        {
          "output_type": "display_data",
          "data": {
            "text/html": [
              "<table class=\"dataframe\">\n",
              "<caption>A matrix: 5 × 2 of type dbl</caption>\n",
              "<thead>\n",
              "\t<tr><th scope=col>v1</th><th scope=col>v2</th></tr>\n",
              "</thead>\n",
              "<tbody>\n",
              "\t<tr><td>1</td><td>1.00</td></tr>\n",
              "\t<tr><td>2</td><td>1.25</td></tr>\n",
              "\t<tr><td>3</td><td>1.50</td></tr>\n",
              "\t<tr><td>4</td><td>1.75</td></tr>\n",
              "\t<tr><td>5</td><td>2.00</td></tr>\n",
              "</tbody>\n",
              "</table>\n"
            ],
            "text/markdown": "\nA matrix: 5 × 2 of type dbl\n\n| v1 | v2 |\n|---|---|\n| 1 | 1.00 |\n| 2 | 1.25 |\n| 3 | 1.50 |\n| 4 | 1.75 |\n| 5 | 2.00 |\n\n",
            "text/latex": "A matrix: 5 × 2 of type dbl\n\\begin{tabular}{ll}\n v1 & v2\\\\\n\\hline\n\t 1 & 1.00\\\\\n\t 2 & 1.25\\\\\n\t 3 & 1.50\\\\\n\t 4 & 1.75\\\\\n\t 5 & 2.00\\\\\n\\end{tabular}\n",
            "text/plain": [
              "     v1 v2  \n",
              "[1,] 1  1.00\n",
              "[2,] 2  1.25\n",
              "[3,] 3  1.50\n",
              "[4,] 4  1.75\n",
              "[5,] 5  2.00"
            ]
          },
          "metadata": {}
        }
      ]
    },
    {
      "cell_type": "code",
      "metadata": {
        "id": "KstW38ylSkSV",
        "outputId": "ce16077c-d8ce-466d-ee9e-f3d9f9eca0dc",
        "colab": {
          "base_uri": "https://localhost:8080/",
          "height": 52
        }
      },
      "source": [
        "# Acceso mediante nombres\n",
        "colnames(C)\n",
        "rownames(C)"
      ],
      "execution_count": 34,
      "outputs": [
        {
          "output_type": "display_data",
          "data": {
            "text/html": [
              "<style>\n",
              ".list-inline {list-style: none; margin:0; padding: 0}\n",
              ".list-inline>li {display: inline-block}\n",
              ".list-inline>li:not(:last-child)::after {content: \"\\00b7\"; padding: 0 .5ex}\n",
              "</style>\n",
              "<ol class=list-inline><li>'v1'</li><li>'v2'</li></ol>\n"
            ],
            "text/markdown": "1. 'v1'\n2. 'v2'\n\n\n",
            "text/latex": "\\begin{enumerate*}\n\\item 'v1'\n\\item 'v2'\n\\end{enumerate*}\n",
            "text/plain": [
              "[1] \"v1\" \"v2\""
            ]
          },
          "metadata": {}
        },
        {
          "output_type": "display_data",
          "data": {
            "text/plain": [
              "NULL"
            ]
          },
          "metadata": {}
        }
      ]
    },
    {
      "cell_type": "code",
      "source": [
        "paste(\"hola\", \"miguel\", sep = \"\")# concatenar strings"
      ],
      "metadata": {
        "id": "JUyYO4bt8UD6",
        "outputId": "f23a7fc6-2914-43de-9be7-0bea42e9dab7",
        "colab": {
          "base_uri": "https://localhost:8080/",
          "height": 34
        }
      },
      "execution_count": 38,
      "outputs": [
        {
          "output_type": "display_data",
          "data": {
            "text/html": [
              "'holamiguel'"
            ],
            "text/markdown": "'holamiguel'",
            "text/latex": "'holamiguel'",
            "text/plain": [
              "[1] \"holamiguel\""
            ]
          },
          "metadata": {}
        }
      ]
    },
    {
      "cell_type": "code",
      "source": [
        "paste0(\"hola\",\"miguel\")"
      ],
      "metadata": {
        "id": "oJ5cO1U38cIH",
        "outputId": "50a5a5b9-d520-4a08-e680-8a8ad8ce4d90",
        "colab": {
          "base_uri": "https://localhost:8080/",
          "height": 34
        }
      },
      "execution_count": 39,
      "outputs": [
        {
          "output_type": "display_data",
          "data": {
            "text/html": [
              "'holamiguel'"
            ],
            "text/markdown": "'holamiguel'",
            "text/latex": "'holamiguel'",
            "text/plain": [
              "[1] \"holamiguel\""
            ]
          },
          "metadata": {}
        }
      ]
    },
    {
      "cell_type": "code",
      "source": [
        "paste0(\"fila_\",1:5)"
      ],
      "metadata": {
        "id": "QjeCt6638n5J",
        "outputId": "a89c4796-dbd2-47bc-a793-93f9d8952717",
        "colab": {
          "base_uri": "https://localhost:8080/",
          "height": 34
        }
      },
      "execution_count": 40,
      "outputs": [
        {
          "output_type": "display_data",
          "data": {
            "text/html": [
              "<style>\n",
              ".list-inline {list-style: none; margin:0; padding: 0}\n",
              ".list-inline>li {display: inline-block}\n",
              ".list-inline>li:not(:last-child)::after {content: \"\\00b7\"; padding: 0 .5ex}\n",
              "</style>\n",
              "<ol class=list-inline><li>'fila_1'</li><li>'fila_2'</li><li>'fila_3'</li><li>'fila_4'</li><li>'fila_5'</li></ol>\n"
            ],
            "text/markdown": "1. 'fila_1'\n2. 'fila_2'\n3. 'fila_3'\n4. 'fila_4'\n5. 'fila_5'\n\n\n",
            "text/latex": "\\begin{enumerate*}\n\\item 'fila\\_1'\n\\item 'fila\\_2'\n\\item 'fila\\_3'\n\\item 'fila\\_4'\n\\item 'fila\\_5'\n\\end{enumerate*}\n",
            "text/plain": [
              "[1] \"fila_1\" \"fila_2\" \"fila_3\" \"fila_4\" \"fila_5\""
            ]
          },
          "metadata": {}
        }
      ]
    },
    {
      "cell_type": "code",
      "metadata": {
        "id": "Q924mp4_SyAN"
      },
      "source": [
        "# podemos definir los nombres en filas/columnas\n",
        "\n",
        "rownames(C) <- paste0(\"fila_\",1:5)"
      ],
      "execution_count": 41,
      "outputs": []
    },
    {
      "cell_type": "code",
      "source": [
        "C"
      ],
      "metadata": {
        "id": "YBsGcezU8zSf",
        "outputId": "e791f62c-4cde-4412-a6f2-68da2e4ec8ba",
        "colab": {
          "base_uri": "https://localhost:8080/",
          "height": 241
        }
      },
      "execution_count": 42,
      "outputs": [
        {
          "output_type": "display_data",
          "data": {
            "text/html": [
              "<table class=\"dataframe\">\n",
              "<caption>A matrix: 5 × 2 of type dbl</caption>\n",
              "<thead>\n",
              "\t<tr><th></th><th scope=col>v1</th><th scope=col>v2</th></tr>\n",
              "</thead>\n",
              "<tbody>\n",
              "\t<tr><th scope=row>fila_1</th><td>1</td><td>1.00</td></tr>\n",
              "\t<tr><th scope=row>fila_2</th><td>2</td><td>1.25</td></tr>\n",
              "\t<tr><th scope=row>fila_3</th><td>3</td><td>1.50</td></tr>\n",
              "\t<tr><th scope=row>fila_4</th><td>4</td><td>1.75</td></tr>\n",
              "\t<tr><th scope=row>fila_5</th><td>5</td><td>2.00</td></tr>\n",
              "</tbody>\n",
              "</table>\n"
            ],
            "text/markdown": "\nA matrix: 5 × 2 of type dbl\n\n| <!--/--> | v1 | v2 |\n|---|---|---|\n| fila_1 | 1 | 1.00 |\n| fila_2 | 2 | 1.25 |\n| fila_3 | 3 | 1.50 |\n| fila_4 | 4 | 1.75 |\n| fila_5 | 5 | 2.00 |\n\n",
            "text/latex": "A matrix: 5 × 2 of type dbl\n\\begin{tabular}{r|ll}\n  & v1 & v2\\\\\n\\hline\n\tfila\\_1 & 1 & 1.00\\\\\n\tfila\\_2 & 2 & 1.25\\\\\n\tfila\\_3 & 3 & 1.50\\\\\n\tfila\\_4 & 4 & 1.75\\\\\n\tfila\\_5 & 5 & 2.00\\\\\n\\end{tabular}\n",
            "text/plain": [
              "       v1 v2  \n",
              "fila_1 1  1.00\n",
              "fila_2 2  1.25\n",
              "fila_3 3  1.50\n",
              "fila_4 4  1.75\n",
              "fila_5 5  2.00"
            ]
          },
          "metadata": {}
        }
      ]
    },
    {
      "cell_type": "code",
      "metadata": {
        "id": "0mKL1vhcSkVc",
        "outputId": "cdd1c294-50d2-4d16-adee-5f54d16759a9",
        "colab": {
          "base_uri": "https://localhost:8080/",
          "height": 34
        }
      },
      "source": [
        "# Acceso mediante nombres\n",
        "C[\"fila_3\",\"v2\"]# mismo que C[3,2]"
      ],
      "execution_count": 43,
      "outputs": [
        {
          "output_type": "display_data",
          "data": {
            "text/html": [
              "1.5"
            ],
            "text/markdown": "1.5",
            "text/latex": "1.5",
            "text/plain": [
              "[1] 1.5"
            ]
          },
          "metadata": {}
        }
      ]
    },
    {
      "cell_type": "code",
      "metadata": {
        "trusted": true,
        "id": "qt9bcwQgSqo0",
        "outputId": "2bb64069-226a-47d0-b4d6-6ddc91962a67",
        "colab": {
          "base_uri": "https://localhost:8080/",
          "height": 208
        }
      },
      "source": [
        "# Acceso mediante \"indicatrices\" lógicas \n",
        "#Quiero obtener los elementos (1,1) y (3,2) de C\n",
        "# 1: Crear una matriz de 5x2 con TRUE en dichas posiciones y FALSE en las restantes.\n",
        "ind <- cbind(c(T,F,F,F,F),c(F,F,T,F,F))\n",
        "ind\n"
      ],
      "execution_count": 46,
      "outputs": [
        {
          "output_type": "display_data",
          "data": {
            "text/html": [
              "<table class=\"dataframe\">\n",
              "<caption>A matrix: 5 × 2 of type lgl</caption>\n",
              "<tbody>\n",
              "\t<tr><td> TRUE</td><td>FALSE</td></tr>\n",
              "\t<tr><td>FALSE</td><td>FALSE</td></tr>\n",
              "\t<tr><td>FALSE</td><td> TRUE</td></tr>\n",
              "\t<tr><td>FALSE</td><td>FALSE</td></tr>\n",
              "\t<tr><td>FALSE</td><td>FALSE</td></tr>\n",
              "</tbody>\n",
              "</table>\n"
            ],
            "text/markdown": "\nA matrix: 5 × 2 of type lgl\n\n|  TRUE | FALSE |\n| FALSE | FALSE |\n| FALSE |  TRUE |\n| FALSE | FALSE |\n| FALSE | FALSE |\n\n",
            "text/latex": "A matrix: 5 × 2 of type lgl\n\\begin{tabular}{ll}\n\t  TRUE & FALSE\\\\\n\t FALSE & FALSE\\\\\n\t FALSE &  TRUE\\\\\n\t FALSE & FALSE\\\\\n\t FALSE & FALSE\\\\\n\\end{tabular}\n",
            "text/plain": [
              "     [,1]  [,2] \n",
              "[1,]  TRUE FALSE\n",
              "[2,] FALSE FALSE\n",
              "[3,] FALSE  TRUE\n",
              "[4,] FALSE FALSE\n",
              "[5,] FALSE FALSE"
            ]
          },
          "metadata": {}
        }
      ]
    },
    {
      "cell_type": "code",
      "metadata": {
        "trusted": true,
        "id": "m4DDikCTSqo2",
        "outputId": "9b7c806e-dafb-4b15-8336-fea9727bd5cb",
        "colab": {
          "base_uri": "https://localhost:8080/",
          "height": 34
        }
      },
      "source": [
        "# Podemos evaluar las casillas de una matriz mediante sentencias lógicas\n",
        "C[ind]"
      ],
      "execution_count": 47,
      "outputs": [
        {
          "output_type": "display_data",
          "data": {
            "text/html": [
              "<style>\n",
              ".list-inline {list-style: none; margin:0; padding: 0}\n",
              ".list-inline>li {display: inline-block}\n",
              ".list-inline>li:not(:last-child)::after {content: \"\\00b7\"; padding: 0 .5ex}\n",
              "</style>\n",
              "<ol class=list-inline><li>1</li><li>1.5</li></ol>\n"
            ],
            "text/markdown": "1. 1\n2. 1.5\n\n\n",
            "text/latex": "\\begin{enumerate*}\n\\item 1\n\\item 1.5\n\\end{enumerate*}\n",
            "text/plain": [
              "[1] 1.0 1.5"
            ]
          },
          "metadata": {}
        }
      ]
    },
    {
      "cell_type": "code",
      "source": [
        "C[C>=1.75] # Lo anterior nos permite generar este tipo de consultas. \n",
        "# Nos retorna los elementos que son mayores o iguales a 1.75."
      ],
      "metadata": {
        "id": "oaawt_TD99Zo",
        "outputId": "eb281e8e-dd14-4772-c497-1b35f398060f",
        "colab": {
          "base_uri": "https://localhost:8080/",
          "height": 34
        }
      },
      "execution_count": 50,
      "outputs": [
        {
          "output_type": "display_data",
          "data": {
            "text/html": [
              "<style>\n",
              ".list-inline {list-style: none; margin:0; padding: 0}\n",
              ".list-inline>li {display: inline-block}\n",
              ".list-inline>li:not(:last-child)::after {content: \"\\00b7\"; padding: 0 .5ex}\n",
              "</style>\n",
              "<ol class=list-inline><li>2</li><li>3</li><li>4</li><li>5</li><li>1.75</li><li>2</li></ol>\n"
            ],
            "text/markdown": "1. 2\n2. 3\n3. 4\n4. 5\n5. 1.75\n6. 2\n\n\n",
            "text/latex": "\\begin{enumerate*}\n\\item 2\n\\item 3\n\\item 4\n\\item 5\n\\item 1.75\n\\item 2\n\\end{enumerate*}\n",
            "text/plain": [
              "[1] 2.00 3.00 4.00 5.00 1.75 2.00"
            ]
          },
          "metadata": {}
        }
      ]
    },
    {
      "cell_type": "markdown",
      "metadata": {
        "id": "DtKi8VpVSqo8"
      },
      "source": [
        "**Álgebra de matrices**\n",
        "\n",
        "Las operaciones suma (resta) y ponderación por escalar se llevan cabo mediante los mismos operadores utilizados para valores numéricos y vectores (+,-,*, /). Para multiplicar matrices en cambio, se utiliza el operador %*%, mientras que para invertirlas se utiliza la función solve(), t() para transponer y det() para el cálculo del determinante en el caso de matrices cuadradas."
      ]
    },
    {
      "cell_type": "code",
      "metadata": {
        "trusted": true,
        "id": "yxrjsz27Sqo8",
        "outputId": "8e19861d-915a-486e-df0f-d5546d2f00c5",
        "colab": {
          "base_uri": "https://localhost:8080/",
          "height": 132
        }
      },
      "source": [
        "# transponer una matriz\n",
        "B"
      ],
      "execution_count": 21,
      "outputs": [
        {
          "output_type": "display_data",
          "data": {
            "text/html": [
              "<table class=\"dataframe\">\n",
              "<caption>A matrix: 2 × 3 of type dbl</caption>\n",
              "<tbody>\n",
              "\t<tr><td>9</td><td>10</td><td>4</td></tr>\n",
              "\t<tr><td>6</td><td> 7</td><td>8</td></tr>\n",
              "</tbody>\n",
              "</table>\n"
            ],
            "text/markdown": "\nA matrix: 2 × 3 of type dbl\n\n| 9 | 10 | 4 |\n| 6 |  7 | 8 |\n\n",
            "text/latex": "A matrix: 2 × 3 of type dbl\n\\begin{tabular}{lll}\n\t 9 & 10 & 4\\\\\n\t 6 &  7 & 8\\\\\n\\end{tabular}\n",
            "text/plain": [
              "     [,1] [,2] [,3]\n",
              "[1,] 9    10   4   \n",
              "[2,] 6     7   8   "
            ]
          },
          "metadata": {}
        }
      ]
    },
    {
      "cell_type": "code",
      "source": [
        "t(B)"
      ],
      "metadata": {
        "id": "gHmoNWoX6j0r",
        "outputId": "7d6a6f95-8e11-46f1-91f7-17f56ae31074",
        "colab": {
          "base_uri": "https://localhost:8080/",
          "height": 180
        }
      },
      "execution_count": 22,
      "outputs": [
        {
          "output_type": "display_data",
          "data": {
            "text/html": [
              "<table class=\"dataframe\">\n",
              "<caption>A matrix: 3 × 2 of type dbl</caption>\n",
              "<tbody>\n",
              "\t<tr><td> 9</td><td>6</td></tr>\n",
              "\t<tr><td>10</td><td>7</td></tr>\n",
              "\t<tr><td> 4</td><td>8</td></tr>\n",
              "</tbody>\n",
              "</table>\n"
            ],
            "text/markdown": "\nA matrix: 3 × 2 of type dbl\n\n|  9 | 6 |\n| 10 | 7 |\n|  4 | 8 |\n\n",
            "text/latex": "A matrix: 3 × 2 of type dbl\n\\begin{tabular}{ll}\n\t  9 & 6\\\\\n\t 10 & 7\\\\\n\t  4 & 8\\\\\n\\end{tabular}\n",
            "text/plain": [
              "     [,1] [,2]\n",
              "[1,]  9   6   \n",
              "[2,] 10   7   \n",
              "[3,]  4   8   "
            ]
          },
          "metadata": {}
        }
      ]
    },
    {
      "cell_type": "code",
      "metadata": {
        "trusted": true,
        "id": "tSphDch3Sqo-"
      },
      "source": [
        "# 3.2 Álgbra de matrices  ------------\n",
        "# Ejemplo simple de álgebra de matrices\n",
        "M1 <- matrix(c(1,1,2,5), ncol = 2) \n",
        "M2 <- matrix(c(1,3,5,7), ncol = 2) "
      ],
      "execution_count": 52,
      "outputs": []
    },
    {
      "cell_type": "code",
      "source": [
        "M1;M2"
      ],
      "metadata": {
        "id": "BBUvn-9lBC_8",
        "outputId": "53d0a0db-7f94-46ba-db59-910b51b4a421",
        "colab": {
          "base_uri": "https://localhost:8080/",
          "height": 316
        }
      },
      "execution_count": 54,
      "outputs": [
        {
          "output_type": "display_data",
          "data": {
            "text/html": [
              "<table class=\"dataframe\">\n",
              "<caption>A matrix: 2 × 2 of type dbl</caption>\n",
              "<tbody>\n",
              "\t<tr><td>1</td><td>2</td></tr>\n",
              "\t<tr><td>1</td><td>5</td></tr>\n",
              "</tbody>\n",
              "</table>\n"
            ],
            "text/markdown": "\nA matrix: 2 × 2 of type dbl\n\n| 1 | 2 |\n| 1 | 5 |\n\n",
            "text/latex": "A matrix: 2 × 2 of type dbl\n\\begin{tabular}{ll}\n\t 1 & 2\\\\\n\t 1 & 5\\\\\n\\end{tabular}\n",
            "text/plain": [
              "     [,1] [,2]\n",
              "[1,] 1    2   \n",
              "[2,] 1    5   "
            ]
          },
          "metadata": {}
        },
        {
          "output_type": "display_data",
          "data": {
            "text/html": [
              "<table class=\"dataframe\">\n",
              "<caption>A matrix: 2 × 2 of type dbl</caption>\n",
              "<tbody>\n",
              "\t<tr><td>1</td><td>5</td></tr>\n",
              "\t<tr><td>3</td><td>7</td></tr>\n",
              "</tbody>\n",
              "</table>\n"
            ],
            "text/markdown": "\nA matrix: 2 × 2 of type dbl\n\n| 1 | 5 |\n| 3 | 7 |\n\n",
            "text/latex": "A matrix: 2 × 2 of type dbl\n\\begin{tabular}{ll}\n\t 1 & 5\\\\\n\t 3 & 7\\\\\n\\end{tabular}\n",
            "text/plain": [
              "     [,1] [,2]\n",
              "[1,] 1    5   \n",
              "[2,] 3    7   "
            ]
          },
          "metadata": {}
        }
      ]
    },
    {
      "cell_type": "code",
      "source": [
        "M1+M2"
      ],
      "metadata": {
        "id": "NHyFP70VA-yo",
        "outputId": "58189b4e-08ea-4ba2-998e-c6f962a29e55",
        "colab": {
          "base_uri": "https://localhost:8080/",
          "height": 149
        }
      },
      "execution_count": 53,
      "outputs": [
        {
          "output_type": "display_data",
          "data": {
            "text/html": [
              "<table class=\"dataframe\">\n",
              "<caption>A matrix: 2 × 2 of type dbl</caption>\n",
              "<tbody>\n",
              "\t<tr><td>2</td><td> 7</td></tr>\n",
              "\t<tr><td>4</td><td>12</td></tr>\n",
              "</tbody>\n",
              "</table>\n"
            ],
            "text/markdown": "\nA matrix: 2 × 2 of type dbl\n\n| 2 |  7 |\n| 4 | 12 |\n\n",
            "text/latex": "A matrix: 2 × 2 of type dbl\n\\begin{tabular}{ll}\n\t 2 &  7\\\\\n\t 4 & 12\\\\\n\\end{tabular}\n",
            "text/plain": [
              "     [,1] [,2]\n",
              "[1,] 2     7  \n",
              "[2,] 4    12  "
            ]
          },
          "metadata": {}
        }
      ]
    },
    {
      "cell_type": "code",
      "metadata": {
        "trusted": true,
        "id": "crNocLSqSqpA",
        "outputId": "c35b2dfe-8df2-4cb7-ade2-dbe2a47d9b1e",
        "colab": {
          "base_uri": "https://localhost:8080/",
          "height": 149
        }
      },
      "source": [
        "# Multiplicación de matrices\n",
        "M1 * M2 # multiplicación componente a componente\n"
      ],
      "execution_count": 55,
      "outputs": [
        {
          "output_type": "display_data",
          "data": {
            "text/html": [
              "<table class=\"dataframe\">\n",
              "<caption>A matrix: 2 × 2 of type dbl</caption>\n",
              "<tbody>\n",
              "\t<tr><td>1</td><td>10</td></tr>\n",
              "\t<tr><td>3</td><td>35</td></tr>\n",
              "</tbody>\n",
              "</table>\n"
            ],
            "text/markdown": "\nA matrix: 2 × 2 of type dbl\n\n| 1 | 10 |\n| 3 | 35 |\n\n",
            "text/latex": "A matrix: 2 × 2 of type dbl\n\\begin{tabular}{ll}\n\t 1 & 10\\\\\n\t 3 & 35\\\\\n\\end{tabular}\n",
            "text/plain": [
              "     [,1] [,2]\n",
              "[1,] 1    10  \n",
              "[2,] 3    35  "
            ]
          },
          "metadata": {}
        }
      ]
    },
    {
      "cell_type": "code",
      "source": [
        "M1 %*% M2"
      ],
      "metadata": {
        "id": "3j2of_H7BMTf",
        "outputId": "ead56964-1c63-40ca-8af2-3666ca45f127",
        "colab": {
          "base_uri": "https://localhost:8080/",
          "height": 132
        }
      },
      "execution_count": 56,
      "outputs": [
        {
          "output_type": "display_data",
          "data": {
            "text/html": [
              "<table class=\"dataframe\">\n",
              "<caption>A matrix: 2 × 2 of type dbl</caption>\n",
              "<tbody>\n",
              "\t<tr><td> 7</td><td>19</td></tr>\n",
              "\t<tr><td>16</td><td>40</td></tr>\n",
              "</tbody>\n",
              "</table>\n"
            ],
            "text/markdown": "\nA matrix: 2 × 2 of type dbl\n\n|  7 | 19 |\n| 16 | 40 |\n\n",
            "text/latex": "A matrix: 2 × 2 of type dbl\n\\begin{tabular}{ll}\n\t  7 & 19\\\\\n\t 16 & 40\\\\\n\\end{tabular}\n",
            "text/plain": [
              "     [,1] [,2]\n",
              "[1,]  7   19  \n",
              "[2,] 16   40  "
            ]
          },
          "metadata": {}
        }
      ]
    },
    {
      "cell_type": "code",
      "metadata": {
        "trusted": true,
        "id": "RdPKIzaySqpC",
        "outputId": "479ad47c-6667-43f6-c156-4f894b73b413",
        "colab": {
          "base_uri": "https://localhost:8080/",
          "height": 34
        }
      },
      "source": [
        "# podemos calcular determinantes\n",
        "# ?det\n",
        "det(M2)\n"
      ],
      "execution_count": 57,
      "outputs": [
        {
          "output_type": "display_data",
          "data": {
            "text/html": [
              "-8"
            ],
            "text/markdown": "-8",
            "text/latex": "-8",
            "text/plain": [
              "[1] -8"
            ]
          },
          "metadata": {}
        }
      ]
    },
    {
      "cell_type": "code",
      "metadata": {
        "trusted": true,
        "id": "Tymq9t9NSqpH",
        "outputId": "67122965-3a97-4ed4-9359-583e62d0ac75",
        "colab": {
          "base_uri": "https://localhost:8080/",
          "height": 97
        }
      },
      "source": [
        "# Podemos invertir matrices\n",
        "# ?solve\n",
        "\n",
        "solve(M2)\n",
        "\n",
        "solve(M2)%*%M2"
      ],
      "execution_count": 60,
      "outputs": [
        {
          "output_type": "display_data",
          "data": {
            "text/html": [
              "<table class=\"dataframe\">\n",
              "<caption>A matrix: 2 × 2 of type dbl</caption>\n",
              "<tbody>\n",
              "\t<tr><td>1.000000e+00</td><td>1.110223e-16</td></tr>\n",
              "\t<tr><td>2.775558e-17</td><td>1.000000e+00</td></tr>\n",
              "</tbody>\n",
              "</table>\n"
            ],
            "text/markdown": "\nA matrix: 2 × 2 of type dbl\n\n| 1.000000e+00 | 1.110223e-16 |\n| 2.775558e-17 | 1.000000e+00 |\n\n",
            "text/latex": "A matrix: 2 × 2 of type dbl\n\\begin{tabular}{ll}\n\t 1.000000e+00 & 1.110223e-16\\\\\n\t 2.775558e-17 & 1.000000e+00\\\\\n\\end{tabular}\n",
            "text/plain": [
              "     [,1]         [,2]        \n",
              "[1,] 1.000000e+00 1.110223e-16\n",
              "[2,] 2.775558e-17 1.000000e+00"
            ]
          },
          "metadata": {}
        }
      ]
    }
  ]
}