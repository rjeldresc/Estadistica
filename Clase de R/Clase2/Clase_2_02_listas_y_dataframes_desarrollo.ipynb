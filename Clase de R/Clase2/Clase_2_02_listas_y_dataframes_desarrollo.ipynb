{
  "nbformat": 4,
  "nbformat_minor": 0,
  "metadata": {
    "colab": {
      "name": "Clase_2_02_listas_y_dataframes.ipynb",
      "provenance": [],
      "collapsed_sections": [],
      "include_colab_link": true
    },
    "kernelspec": {
      "name": "ir",
      "display_name": "R"
    }
  },
  "cells": [
    {
      "cell_type": "markdown",
      "metadata": {
        "id": "view-in-github",
        "colab_type": "text"
      },
      "source": [
        "<a href=\"https://colab.research.google.com/github/majorquev/DBDC_202206_Programacion_en_R_para_ciencia_de_datos/blob/main/Clase2/Clase_2_02_listas_y_dataframes_desarrollo.ipynb\" target=\"_parent\"><img src=\"https://colab.research.google.com/assets/colab-badge.svg\" alt=\"Open In Colab\"/></a>"
      ]
    },
    {
      "cell_type": "markdown",
      "metadata": {
        "collapsed": true,
        "id": "fgQ2azLwTpRn"
      },
      "source": [
        "# Parte 1: Introducción a R (continuación)\n",
        "\n",
        "**Autor:** Miguel Jorquera Viguera<br>\n",
        "**E-mail:** majorquev@gmail.com<br>\n",
        "**Ayudante:** Rodrigo Morales <br>\n",
        "**E-mail ayudante:** rumorale1@gmail.com\n",
        "\n",
        "\n",
        "## 5. Listas y Dataframes\n",
        "\n",
        "### 5.1 Listas\n",
        "\n",
        "Hasta aquí contamos con dos tipos de objetos para almacenar datos; vectores y matrices. Sin embargo, en ambos casos se tiene la limitante de que no es posible combinar distintos tipos de datos en diferentes entradas. Un objeto que permite una mayor flexibilidad son las listas. En R, una lista es básicamente un arreglo unidimensional, donde en cada entrada es posible almacenar distintos **objetos** (los cuales a su vez pueden almacenar distintos tipos de datos (u otros objetos).\n",
        "En resumen,\n",
        "\n",
        "   * ¿Qué son?<br>\n",
        "    Arreglos unidimensionales que guardan distintos tipos de datos u objetos.<br>\n",
        "\n",
        "   * ¿Cómo se declaran?<br>\n",
        "    Se pueden declarar mediante el comando list() o combinando listas existentes. <br>\n",
        "    \n",
        "   * ¿Cómo se accede a sus elementos?<br>\n",
        "    Usando [ ] (retorna lista), o bien usando [ [ ] ] (retorna el objeto). \n",
        "    En cada caso se puede indicar la posición o nombre del objeto que se quiere rescatar.<br>\n",
        "    Otra manera es mediante el símbolo $ seguido del nombre del objeto.\n",
        "\n"
      ]
    },
    {
      "cell_type": "code",
      "metadata": {
        "trusted": true,
        "id": "zZHpLzzRTpRp"
      },
      "source": [
        "# 5. Listas y dataframes ------------\n",
        "# 5.1 Listas  ------------\n",
        "# Cómo declarar una lista (comando list() )\n",
        "#num,letra, pl, mat, lista\n",
        "l1 <- list(num = c(11,10,22),\n",
        "           letra = c(\"a\",\"c\",\"x\",\"y\"),\n",
        "           pl = \"Hola soy Miguel\",\n",
        "           mat = diag(1:5),\n",
        "           lista = list(nombre = \"Juan\", edad = 28))"
      ],
      "execution_count": 93,
      "outputs": []
    },
    {
      "cell_type": "code",
      "metadata": {
        "id": "_iwOQA-xTzww",
        "outputId": "e4595859-1aef-48bd-a163-09aa9ac49b6a",
        "colab": {
          "base_uri": "https://localhost:8080/",
          "height": 459
        }
      },
      "source": [
        "# estructura\n",
        "l1"
      ],
      "execution_count": 94,
      "outputs": [
        {
          "output_type": "display_data",
          "data": {
            "text/html": [
              "<dl>\n",
              "\t<dt>$num</dt>\n",
              "\t\t<dd><style>\n",
              ".list-inline {list-style: none; margin:0; padding: 0}\n",
              ".list-inline>li {display: inline-block}\n",
              ".list-inline>li:not(:last-child)::after {content: \"\\00b7\"; padding: 0 .5ex}\n",
              "</style>\n",
              "<ol class=list-inline><li>11</li><li>10</li><li>22</li></ol>\n",
              "</dd>\n",
              "\t<dt>$letra</dt>\n",
              "\t\t<dd><style>\n",
              ".list-inline {list-style: none; margin:0; padding: 0}\n",
              ".list-inline>li {display: inline-block}\n",
              ".list-inline>li:not(:last-child)::after {content: \"\\00b7\"; padding: 0 .5ex}\n",
              "</style>\n",
              "<ol class=list-inline><li>'a'</li><li>'c'</li><li>'x'</li><li>'y'</li></ol>\n",
              "</dd>\n",
              "\t<dt>$pl</dt>\n",
              "\t\t<dd>'Hola soy Miguel'</dd>\n",
              "\t<dt>$mat</dt>\n",
              "\t\t<dd><table class=\"dataframe\">\n",
              "<caption>A matrix: 5 × 5 of type int</caption>\n",
              "<tbody>\n",
              "\t<tr><td>1</td><td>0</td><td>0</td><td>0</td><td>0</td></tr>\n",
              "\t<tr><td>0</td><td>2</td><td>0</td><td>0</td><td>0</td></tr>\n",
              "\t<tr><td>0</td><td>0</td><td>3</td><td>0</td><td>0</td></tr>\n",
              "\t<tr><td>0</td><td>0</td><td>0</td><td>4</td><td>0</td></tr>\n",
              "\t<tr><td>0</td><td>0</td><td>0</td><td>0</td><td>5</td></tr>\n",
              "</tbody>\n",
              "</table>\n",
              "</dd>\n",
              "\t<dt>$lista</dt>\n",
              "\t\t<dd><dl>\n",
              "\t<dt>$nombre</dt>\n",
              "\t\t<dd>'Juan'</dd>\n",
              "\t<dt>$edad</dt>\n",
              "\t\t<dd>28</dd>\n",
              "</dl>\n",
              "</dd>\n",
              "</dl>\n"
            ],
            "text/markdown": "$num\n:   1. 11\n2. 10\n3. 22\n\n\n\n$letra\n:   1. 'a'\n2. 'c'\n3. 'x'\n4. 'y'\n\n\n\n$pl\n:   'Hola soy Miguel'\n$mat\n:   \nA matrix: 5 × 5 of type int\n\n| 1 | 0 | 0 | 0 | 0 |\n| 0 | 2 | 0 | 0 | 0 |\n| 0 | 0 | 3 | 0 | 0 |\n| 0 | 0 | 0 | 4 | 0 |\n| 0 | 0 | 0 | 0 | 5 |\n\n\n$lista\n:   $nombre\n:   'Juan'\n$edad\n:   28\n\n\n\n\n\n",
            "text/latex": "\\begin{description}\n\\item[\\$num] \\begin{enumerate*}\n\\item 11\n\\item 10\n\\item 22\n\\end{enumerate*}\n\n\\item[\\$letra] \\begin{enumerate*}\n\\item 'a'\n\\item 'c'\n\\item 'x'\n\\item 'y'\n\\end{enumerate*}\n\n\\item[\\$pl] 'Hola soy Miguel'\n\\item[\\$mat] A matrix: 5 × 5 of type int\n\\begin{tabular}{lllll}\n\t 1 & 0 & 0 & 0 & 0\\\\\n\t 0 & 2 & 0 & 0 & 0\\\\\n\t 0 & 0 & 3 & 0 & 0\\\\\n\t 0 & 0 & 0 & 4 & 0\\\\\n\t 0 & 0 & 0 & 0 & 5\\\\\n\\end{tabular}\n\n\\item[\\$lista] \\begin{description}\n\\item[\\$nombre] 'Juan'\n\\item[\\$edad] 28\n\\end{description}\n\n\\end{description}\n",
            "text/plain": [
              "$num\n",
              "[1] 11 10 22\n",
              "\n",
              "$letra\n",
              "[1] \"a\" \"c\" \"x\" \"y\"\n",
              "\n",
              "$pl\n",
              "[1] \"Hola soy Miguel\"\n",
              "\n",
              "$mat\n",
              "     [,1] [,2] [,3] [,4] [,5]\n",
              "[1,]    1    0    0    0    0\n",
              "[2,]    0    2    0    0    0\n",
              "[3,]    0    0    3    0    0\n",
              "[4,]    0    0    0    4    0\n",
              "[5,]    0    0    0    0    5\n",
              "\n",
              "$lista\n",
              "$lista$nombre\n",
              "[1] \"Juan\"\n",
              "\n",
              "$lista$edad\n",
              "[1] 28\n",
              "\n"
            ]
          },
          "metadata": {}
        }
      ]
    },
    {
      "cell_type": "code",
      "source": [
        "str(l1)"
      ],
      "metadata": {
        "id": "Xjv0GzDkCx9P",
        "outputId": "80be0b4f-f7f9-4d05-d0da-73e9093b17af",
        "colab": {
          "base_uri": "https://localhost:8080/"
        }
      },
      "execution_count": 95,
      "outputs": [
        {
          "output_type": "stream",
          "name": "stdout",
          "text": [
            "List of 5\n",
            " $ num  : num [1:3] 11 10 22\n",
            " $ letra: chr [1:4] \"a\" \"c\" \"x\" \"y\"\n",
            " $ pl   : chr \"Hola soy Miguel\"\n",
            " $ mat  : int [1:5, 1:5] 1 0 0 0 0 0 2 0 0 0 ...\n",
            " $ lista:List of 2\n",
            "  ..$ nombre: chr \"Juan\"\n",
            "  ..$ edad  : num 28\n"
          ]
        }
      ]
    },
    {
      "cell_type": "code",
      "source": [
        "length(l1)\n",
        "names(l1)\n",
        "class(l1)"
      ],
      "metadata": {
        "id": "aIx0sFQvDUlF",
        "outputId": "50795f0c-684f-4a82-ece3-8e8f92d3e28b",
        "colab": {
          "base_uri": "https://localhost:8080/",
          "height": 69
        }
      },
      "execution_count": 96,
      "outputs": [
        {
          "output_type": "display_data",
          "data": {
            "text/html": [
              "5"
            ],
            "text/markdown": "5",
            "text/latex": "5",
            "text/plain": [
              "[1] 5"
            ]
          },
          "metadata": {}
        },
        {
          "output_type": "display_data",
          "data": {
            "text/html": [
              "<style>\n",
              ".list-inline {list-style: none; margin:0; padding: 0}\n",
              ".list-inline>li {display: inline-block}\n",
              ".list-inline>li:not(:last-child)::after {content: \"\\00b7\"; padding: 0 .5ex}\n",
              "</style>\n",
              "<ol class=list-inline><li>'num'</li><li>'letra'</li><li>'pl'</li><li>'mat'</li><li>'lista'</li></ol>\n"
            ],
            "text/markdown": "1. 'num'\n2. 'letra'\n3. 'pl'\n4. 'mat'\n5. 'lista'\n\n\n",
            "text/latex": "\\begin{enumerate*}\n\\item 'num'\n\\item 'letra'\n\\item 'pl'\n\\item 'mat'\n\\item 'lista'\n\\end{enumerate*}\n",
            "text/plain": [
              "[1] \"num\"   \"letra\" \"pl\"    \"mat\"   \"lista\""
            ]
          },
          "metadata": {}
        },
        {
          "output_type": "display_data",
          "data": {
            "text/html": [
              "'list'"
            ],
            "text/markdown": "'list'",
            "text/latex": "'list'",
            "text/plain": [
              "[1] \"list\""
            ]
          },
          "metadata": {}
        }
      ]
    },
    {
      "cell_type": "code",
      "metadata": {
        "trusted": true,
        "id": "Ao1wFCByTpRx",
        "outputId": "6d76fe26-878d-4d91-db9b-1909eca57632",
        "colab": {
          "base_uri": "https://localhost:8080/"
        }
      },
      "source": [
        "# Podemos guardar los objetos en slots con nombres\n",
        "l2 <- list(n2 = 4, p2 = c(\"w\",\"z\"))\n",
        "str(l2)\n",
        "\n",
        "# names(l2) <- c(\"n2\",\"p2\") # otra manera de asignar los nombres"
      ],
      "execution_count": 97,
      "outputs": [
        {
          "output_type": "stream",
          "name": "stdout",
          "text": [
            "List of 2\n",
            " $ n2: num 4\n",
            " $ p2: chr [1:2] \"w\" \"z\"\n"
          ]
        }
      ]
    },
    {
      "cell_type": "code",
      "metadata": {
        "trusted": true,
        "id": "GBuxGL4cTpR0",
        "outputId": "adc05719-d192-4d3f-f479-8e9b4877e68d",
        "colab": {
          "base_uri": "https://localhost:8080/",
          "height": 542
        }
      },
      "source": [
        "# Podemos combinar listas\n",
        "l3 <- c(l1,l2)\n",
        "l3"
      ],
      "execution_count": 98,
      "outputs": [
        {
          "output_type": "display_data",
          "data": {
            "text/html": [
              "<dl>\n",
              "\t<dt>$num</dt>\n",
              "\t\t<dd><style>\n",
              ".list-inline {list-style: none; margin:0; padding: 0}\n",
              ".list-inline>li {display: inline-block}\n",
              ".list-inline>li:not(:last-child)::after {content: \"\\00b7\"; padding: 0 .5ex}\n",
              "</style>\n",
              "<ol class=list-inline><li>11</li><li>10</li><li>22</li></ol>\n",
              "</dd>\n",
              "\t<dt>$letra</dt>\n",
              "\t\t<dd><style>\n",
              ".list-inline {list-style: none; margin:0; padding: 0}\n",
              ".list-inline>li {display: inline-block}\n",
              ".list-inline>li:not(:last-child)::after {content: \"\\00b7\"; padding: 0 .5ex}\n",
              "</style>\n",
              "<ol class=list-inline><li>'a'</li><li>'c'</li><li>'x'</li><li>'y'</li></ol>\n",
              "</dd>\n",
              "\t<dt>$pl</dt>\n",
              "\t\t<dd>'Hola soy Miguel'</dd>\n",
              "\t<dt>$mat</dt>\n",
              "\t\t<dd><table class=\"dataframe\">\n",
              "<caption>A matrix: 5 × 5 of type int</caption>\n",
              "<tbody>\n",
              "\t<tr><td>1</td><td>0</td><td>0</td><td>0</td><td>0</td></tr>\n",
              "\t<tr><td>0</td><td>2</td><td>0</td><td>0</td><td>0</td></tr>\n",
              "\t<tr><td>0</td><td>0</td><td>3</td><td>0</td><td>0</td></tr>\n",
              "\t<tr><td>0</td><td>0</td><td>0</td><td>4</td><td>0</td></tr>\n",
              "\t<tr><td>0</td><td>0</td><td>0</td><td>0</td><td>5</td></tr>\n",
              "</tbody>\n",
              "</table>\n",
              "</dd>\n",
              "\t<dt>$lista</dt>\n",
              "\t\t<dd><dl>\n",
              "\t<dt>$nombre</dt>\n",
              "\t\t<dd>'Juan'</dd>\n",
              "\t<dt>$edad</dt>\n",
              "\t\t<dd>28</dd>\n",
              "</dl>\n",
              "</dd>\n",
              "\t<dt>$n2</dt>\n",
              "\t\t<dd>4</dd>\n",
              "\t<dt>$p2</dt>\n",
              "\t\t<dd><style>\n",
              ".list-inline {list-style: none; margin:0; padding: 0}\n",
              ".list-inline>li {display: inline-block}\n",
              ".list-inline>li:not(:last-child)::after {content: \"\\00b7\"; padding: 0 .5ex}\n",
              "</style>\n",
              "<ol class=list-inline><li>'w'</li><li>'z'</li></ol>\n",
              "</dd>\n",
              "</dl>\n"
            ],
            "text/markdown": "$num\n:   1. 11\n2. 10\n3. 22\n\n\n\n$letra\n:   1. 'a'\n2. 'c'\n3. 'x'\n4. 'y'\n\n\n\n$pl\n:   'Hola soy Miguel'\n$mat\n:   \nA matrix: 5 × 5 of type int\n\n| 1 | 0 | 0 | 0 | 0 |\n| 0 | 2 | 0 | 0 | 0 |\n| 0 | 0 | 3 | 0 | 0 |\n| 0 | 0 | 0 | 4 | 0 |\n| 0 | 0 | 0 | 0 | 5 |\n\n\n$lista\n:   $nombre\n:   'Juan'\n$edad\n:   28\n\n\n\n$n2\n:   4\n$p2\n:   1. 'w'\n2. 'z'\n\n\n\n\n\n",
            "text/latex": "\\begin{description}\n\\item[\\$num] \\begin{enumerate*}\n\\item 11\n\\item 10\n\\item 22\n\\end{enumerate*}\n\n\\item[\\$letra] \\begin{enumerate*}\n\\item 'a'\n\\item 'c'\n\\item 'x'\n\\item 'y'\n\\end{enumerate*}\n\n\\item[\\$pl] 'Hola soy Miguel'\n\\item[\\$mat] A matrix: 5 × 5 of type int\n\\begin{tabular}{lllll}\n\t 1 & 0 & 0 & 0 & 0\\\\\n\t 0 & 2 & 0 & 0 & 0\\\\\n\t 0 & 0 & 3 & 0 & 0\\\\\n\t 0 & 0 & 0 & 4 & 0\\\\\n\t 0 & 0 & 0 & 0 & 5\\\\\n\\end{tabular}\n\n\\item[\\$lista] \\begin{description}\n\\item[\\$nombre] 'Juan'\n\\item[\\$edad] 28\n\\end{description}\n\n\\item[\\$n2] 4\n\\item[\\$p2] \\begin{enumerate*}\n\\item 'w'\n\\item 'z'\n\\end{enumerate*}\n\n\\end{description}\n",
            "text/plain": [
              "$num\n",
              "[1] 11 10 22\n",
              "\n",
              "$letra\n",
              "[1] \"a\" \"c\" \"x\" \"y\"\n",
              "\n",
              "$pl\n",
              "[1] \"Hola soy Miguel\"\n",
              "\n",
              "$mat\n",
              "     [,1] [,2] [,3] [,4] [,5]\n",
              "[1,]    1    0    0    0    0\n",
              "[2,]    0    2    0    0    0\n",
              "[3,]    0    0    3    0    0\n",
              "[4,]    0    0    0    4    0\n",
              "[5,]    0    0    0    0    5\n",
              "\n",
              "$lista\n",
              "$lista$nombre\n",
              "[1] \"Juan\"\n",
              "\n",
              "$lista$edad\n",
              "[1] 28\n",
              "\n",
              "\n",
              "$n2\n",
              "[1] 4\n",
              "\n",
              "$p2\n",
              "[1] \"w\" \"z\"\n"
            ]
          },
          "metadata": {}
        }
      ]
    },
    {
      "cell_type": "code",
      "metadata": {
        "trusted": true,
        "id": "uUv7BQfnTpR3",
        "outputId": "4043346c-e206-48bb-d944-542931bdd628",
        "colab": {
          "base_uri": "https://localhost:8080/",
          "height": 52
        }
      },
      "source": [
        "# Acceso mediante posición\n",
        "l1[2] # lista con el segundo elemento (slot)\n"
      ],
      "execution_count": 99,
      "outputs": [
        {
          "output_type": "display_data",
          "data": {
            "text/html": [
              "<strong>$letra</strong> = <style>\n",
              ".list-inline {list-style: none; margin:0; padding: 0}\n",
              ".list-inline>li {display: inline-block}\n",
              ".list-inline>li:not(:last-child)::after {content: \"\\00b7\"; padding: 0 .5ex}\n",
              "</style>\n",
              "<ol class=list-inline><li>'a'</li><li>'c'</li><li>'x'</li><li>'y'</li></ol>\n"
            ],
            "text/markdown": "**$letra** = 1. 'a'\n2. 'c'\n3. 'x'\n4. 'y'\n\n\n",
            "text/latex": "\\textbf{\\$letra} = \\begin{enumerate*}\n\\item 'a'\n\\item 'c'\n\\item 'x'\n\\item 'y'\n\\end{enumerate*}\n",
            "text/plain": [
              "$letra\n",
              "[1] \"a\" \"c\" \"x\" \"y\"\n"
            ]
          },
          "metadata": {}
        }
      ]
    },
    {
      "cell_type": "code",
      "source": [
        "l1[c(1,3)]# lista con el primer y tercer elementos"
      ],
      "metadata": {
        "id": "TqOUVID-EhKo",
        "outputId": "2c8f29f8-0138-4c29-b873-b02d84fd5a03",
        "colab": {
          "base_uri": "https://localhost:8080/",
          "height": 114
        }
      },
      "execution_count": 100,
      "outputs": [
        {
          "output_type": "display_data",
          "data": {
            "text/html": [
              "<dl>\n",
              "\t<dt>$num</dt>\n",
              "\t\t<dd><style>\n",
              ".list-inline {list-style: none; margin:0; padding: 0}\n",
              ".list-inline>li {display: inline-block}\n",
              ".list-inline>li:not(:last-child)::after {content: \"\\00b7\"; padding: 0 .5ex}\n",
              "</style>\n",
              "<ol class=list-inline><li>11</li><li>10</li><li>22</li></ol>\n",
              "</dd>\n",
              "\t<dt>$pl</dt>\n",
              "\t\t<dd>'Hola soy Miguel'</dd>\n",
              "</dl>\n"
            ],
            "text/markdown": "$num\n:   1. 11\n2. 10\n3. 22\n\n\n\n$pl\n:   'Hola soy Miguel'\n\n\n",
            "text/latex": "\\begin{description}\n\\item[\\$num] \\begin{enumerate*}\n\\item 11\n\\item 10\n\\item 22\n\\end{enumerate*}\n\n\\item[\\$pl] 'Hola soy Miguel'\n\\end{description}\n",
            "text/plain": [
              "$num\n",
              "[1] 11 10 22\n",
              "\n",
              "$pl\n",
              "[1] \"Hola soy Miguel\"\n"
            ]
          },
          "metadata": {}
        }
      ]
    },
    {
      "cell_type": "code",
      "metadata": {
        "trusted": true,
        "id": "L3RDKUqOTpR5",
        "outputId": "a073eddc-cedf-4fe6-9287-d3ea380b820b",
        "colab": {
          "base_uri": "https://localhost:8080/",
          "height": 17
        }
      },
      "source": [
        "l1[2][3]"
      ],
      "execution_count": 101,
      "outputs": [
        {
          "output_type": "display_data",
          "data": {
            "text/html": [
              ""
            ],
            "text/markdown": [],
            "text/latex": [],
            "text/plain": [
              "$<NA>\n",
              "NULL\n"
            ]
          },
          "metadata": {}
        }
      ]
    },
    {
      "cell_type": "code",
      "source": [
        "class(l1[2])"
      ],
      "metadata": {
        "id": "zJ4Li17vFrxD",
        "outputId": "4bc46a66-4699-4c51-d9ee-fdfd00e461dc",
        "colab": {
          "base_uri": "https://localhost:8080/",
          "height": 34
        }
      },
      "execution_count": 102,
      "outputs": [
        {
          "output_type": "display_data",
          "data": {
            "text/html": [
              "'list'"
            ],
            "text/markdown": "'list'",
            "text/latex": "'list'",
            "text/plain": [
              "[1] \"list\""
            ]
          },
          "metadata": {}
        }
      ]
    },
    {
      "cell_type": "code",
      "metadata": {
        "trusted": true,
        "id": "QbQ8QHARTpR7",
        "outputId": "8aecebc1-88eb-4b55-db8d-2ac9143ab2d4",
        "colab": {
          "base_uri": "https://localhost:8080/",
          "height": 52
        }
      },
      "source": [
        "# NOTA lista[.] retorna un lista con un elemento,\n",
        "# lista[[.]] retorna el elmento de la lista lista[.]\n",
        "l1[2]\n"
      ],
      "execution_count": 103,
      "outputs": [
        {
          "output_type": "display_data",
          "data": {
            "text/html": [
              "<strong>$letra</strong> = <style>\n",
              ".list-inline {list-style: none; margin:0; padding: 0}\n",
              ".list-inline>li {display: inline-block}\n",
              ".list-inline>li:not(:last-child)::after {content: \"\\00b7\"; padding: 0 .5ex}\n",
              "</style>\n",
              "<ol class=list-inline><li>'a'</li><li>'c'</li><li>'x'</li><li>'y'</li></ol>\n"
            ],
            "text/markdown": "**$letra** = 1. 'a'\n2. 'c'\n3. 'x'\n4. 'y'\n\n\n",
            "text/latex": "\\textbf{\\$letra} = \\begin{enumerate*}\n\\item 'a'\n\\item 'c'\n\\item 'x'\n\\item 'y'\n\\end{enumerate*}\n",
            "text/plain": [
              "$letra\n",
              "[1] \"a\" \"c\" \"x\" \"y\"\n"
            ]
          },
          "metadata": {}
        }
      ]
    },
    {
      "cell_type": "code",
      "source": [
        "l1[[2]]"
      ],
      "metadata": {
        "id": "ibTAGIWjF8Lq",
        "outputId": "e53e1a7a-d9c6-499f-e173-0731881ffe34",
        "colab": {
          "base_uri": "https://localhost:8080/",
          "height": 34
        }
      },
      "execution_count": 104,
      "outputs": [
        {
          "output_type": "display_data",
          "data": {
            "text/html": [
              "<style>\n",
              ".list-inline {list-style: none; margin:0; padding: 0}\n",
              ".list-inline>li {display: inline-block}\n",
              ".list-inline>li:not(:last-child)::after {content: \"\\00b7\"; padding: 0 .5ex}\n",
              "</style>\n",
              "<ol class=list-inline><li>'a'</li><li>'c'</li><li>'x'</li><li>'y'</li></ol>\n"
            ],
            "text/markdown": "1. 'a'\n2. 'c'\n3. 'x'\n4. 'y'\n\n\n",
            "text/latex": "\\begin{enumerate*}\n\\item 'a'\n\\item 'c'\n\\item 'x'\n\\item 'y'\n\\end{enumerate*}\n",
            "text/plain": [
              "[1] \"a\" \"c\" \"x\" \"y\""
            ]
          },
          "metadata": {}
        }
      ]
    },
    {
      "cell_type": "code",
      "metadata": {
        "trusted": true,
        "id": "kaOJqYJETpSC",
        "outputId": "f4e25f0a-d3f1-47db-eb34-1e6d7a64730e",
        "colab": {
          "base_uri": "https://localhost:8080/",
          "height": 34
        }
      },
      "source": [
        "# del vector l1[[2]], quiero el elememnto de posiciòn 3.\n",
        "l1[[2]][3] \n"
      ],
      "execution_count": 105,
      "outputs": [
        {
          "output_type": "display_data",
          "data": {
            "text/html": [
              "'x'"
            ],
            "text/markdown": "'x'",
            "text/latex": "'x'",
            "text/plain": [
              "[1] \"x\""
            ]
          },
          "metadata": {}
        }
      ]
    },
    {
      "cell_type": "code",
      "metadata": {
        "trusted": true,
        "id": "UZ4k5DQ9TpSE",
        "outputId": "88ee0da8-111c-4f7c-e1ed-660a153595a4",
        "colab": {
          "base_uri": "https://localhost:8080/",
          "height": 52
        }
      },
      "source": [
        "# Quero rescatar la edad de Juan\n",
        "l1[[5]][2]# lista con la edad\n",
        "l1[[5]][[2]]# la edad"
      ],
      "execution_count": 106,
      "outputs": [
        {
          "output_type": "display_data",
          "data": {
            "text/html": [
              "<strong>$edad</strong> = 28"
            ],
            "text/markdown": "**$edad** = 28",
            "text/latex": "\\textbf{\\$edad} = 28",
            "text/plain": [
              "$edad\n",
              "[1] 28\n"
            ]
          },
          "metadata": {}
        },
        {
          "output_type": "display_data",
          "data": {
            "text/html": [
              "28"
            ],
            "text/markdown": "28",
            "text/latex": "28",
            "text/plain": [
              "[1] 28"
            ]
          },
          "metadata": {}
        }
      ]
    },
    {
      "cell_type": "code",
      "metadata": {
        "trusted": true,
        "id": "jYFKb27-TpSG",
        "outputId": "562e8ef6-6cb9-4675-e65a-aba196f6e9f4",
        "colab": {
          "base_uri": "https://localhost:8080/",
          "height": 52
        }
      },
      "source": [
        "# Acceso mediante nombre\n",
        "l1[\"letra\"]# lista con el vector"
      ],
      "execution_count": 107,
      "outputs": [
        {
          "output_type": "display_data",
          "data": {
            "text/html": [
              "<strong>$letra</strong> = <style>\n",
              ".list-inline {list-style: none; margin:0; padding: 0}\n",
              ".list-inline>li {display: inline-block}\n",
              ".list-inline>li:not(:last-child)::after {content: \"\\00b7\"; padding: 0 .5ex}\n",
              "</style>\n",
              "<ol class=list-inline><li>'a'</li><li>'c'</li><li>'x'</li><li>'y'</li></ol>\n"
            ],
            "text/markdown": "**$letra** = 1. 'a'\n2. 'c'\n3. 'x'\n4. 'y'\n\n\n",
            "text/latex": "\\textbf{\\$letra} = \\begin{enumerate*}\n\\item 'a'\n\\item 'c'\n\\item 'x'\n\\item 'y'\n\\end{enumerate*}\n",
            "text/plain": [
              "$letra\n",
              "[1] \"a\" \"c\" \"x\" \"y\"\n"
            ]
          },
          "metadata": {}
        }
      ]
    },
    {
      "cell_type": "code",
      "source": [
        "l1[[\"letra\"]]# el vector"
      ],
      "metadata": {
        "id": "EcqYFoE3G5H1",
        "outputId": "33d5a669-c089-4387-8f27-4c8a23ee1dc5",
        "colab": {
          "base_uri": "https://localhost:8080/",
          "height": 34
        }
      },
      "execution_count": 108,
      "outputs": [
        {
          "output_type": "display_data",
          "data": {
            "text/html": [
              "<style>\n",
              ".list-inline {list-style: none; margin:0; padding: 0}\n",
              ".list-inline>li {display: inline-block}\n",
              ".list-inline>li:not(:last-child)::after {content: \"\\00b7\"; padding: 0 .5ex}\n",
              "</style>\n",
              "<ol class=list-inline><li>'a'</li><li>'c'</li><li>'x'</li><li>'y'</li></ol>\n"
            ],
            "text/markdown": "1. 'a'\n2. 'c'\n3. 'x'\n4. 'y'\n\n\n",
            "text/latex": "\\begin{enumerate*}\n\\item 'a'\n\\item 'c'\n\\item 'x'\n\\item 'y'\n\\end{enumerate*}\n",
            "text/plain": [
              "[1] \"a\" \"c\" \"x\" \"y\""
            ]
          },
          "metadata": {}
        }
      ]
    },
    {
      "cell_type": "code",
      "source": [
        "l1[[\"letra\"]][3]"
      ],
      "metadata": {
        "id": "kR1rPEPgG86W",
        "outputId": "a2079fac-8aff-4dcb-8125-2a393a1f6f57",
        "colab": {
          "base_uri": "https://localhost:8080/",
          "height": 34
        }
      },
      "execution_count": 109,
      "outputs": [
        {
          "output_type": "display_data",
          "data": {
            "text/html": [
              "'x'"
            ],
            "text/markdown": "'x'",
            "text/latex": "'x'",
            "text/plain": [
              "[1] \"x\""
            ]
          },
          "metadata": {}
        }
      ]
    },
    {
      "cell_type": "code",
      "source": [
        "# Edad de Juan\n",
        "l1[[\"lista\"]][\"edad\"]# lista con la edad"
      ],
      "metadata": {
        "id": "NuxUTxtGHCUY",
        "outputId": "10b6fa9f-09c7-4634-b60b-11314a27a9ce",
        "colab": {
          "base_uri": "https://localhost:8080/",
          "height": 34
        }
      },
      "execution_count": 110,
      "outputs": [
        {
          "output_type": "display_data",
          "data": {
            "text/html": [
              "<strong>$edad</strong> = 28"
            ],
            "text/markdown": "**$edad** = 28",
            "text/latex": "\\textbf{\\$edad} = 28",
            "text/plain": [
              "$edad\n",
              "[1] 28\n"
            ]
          },
          "metadata": {}
        }
      ]
    },
    {
      "cell_type": "code",
      "source": [
        "l1[[\"lista\"]][[\"edad\"]]# la edad"
      ],
      "metadata": {
        "id": "WkBH2XutHLOL",
        "outputId": "0e6df687-c74b-4d19-ee96-9fcadaa8c91f",
        "colab": {
          "base_uri": "https://localhost:8080/",
          "height": 34
        }
      },
      "execution_count": 111,
      "outputs": [
        {
          "output_type": "display_data",
          "data": {
            "text/html": [
              "28"
            ],
            "text/markdown": "28",
            "text/latex": "28",
            "text/plain": [
              "[1] 28"
            ]
          },
          "metadata": {}
        }
      ]
    },
    {
      "cell_type": "code",
      "metadata": {
        "trusted": true,
        "id": "a9UBaNOuTpSI",
        "outputId": "f85ef2b8-bf0a-458c-8666-e6f3fc0b6392",
        "colab": {
          "base_uri": "https://localhost:8080/",
          "height": 52
        }
      },
      "source": [
        "# acceso vía \"$\"\n",
        "l1$letra # Directamente nos entrega el vector\n",
        "\n",
        "l1$letra[3]\n",
        "\n",
        "\n"
      ],
      "execution_count": 112,
      "outputs": [
        {
          "output_type": "display_data",
          "data": {
            "text/html": [
              "<style>\n",
              ".list-inline {list-style: none; margin:0; padding: 0}\n",
              ".list-inline>li {display: inline-block}\n",
              ".list-inline>li:not(:last-child)::after {content: \"\\00b7\"; padding: 0 .5ex}\n",
              "</style>\n",
              "<ol class=list-inline><li>'a'</li><li>'c'</li><li>'x'</li><li>'y'</li></ol>\n"
            ],
            "text/markdown": "1. 'a'\n2. 'c'\n3. 'x'\n4. 'y'\n\n\n",
            "text/latex": "\\begin{enumerate*}\n\\item 'a'\n\\item 'c'\n\\item 'x'\n\\item 'y'\n\\end{enumerate*}\n",
            "text/plain": [
              "[1] \"a\" \"c\" \"x\" \"y\""
            ]
          },
          "metadata": {}
        },
        {
          "output_type": "display_data",
          "data": {
            "text/html": [
              "'x'"
            ],
            "text/markdown": "'x'",
            "text/latex": "'x'",
            "text/plain": [
              "[1] \"x\""
            ]
          },
          "metadata": {}
        }
      ]
    },
    {
      "cell_type": "code",
      "source": [
        "# Edad de juan\n",
        "l1$lista$edad # Es el elemento dentro de la entrada llamada \"edad\" (NO es una lista)"
      ],
      "metadata": {
        "id": "nMa3PkJYHl6n",
        "outputId": "d453a3eb-aa79-42d8-8ba4-d0071ad5c7e1",
        "colab": {
          "base_uri": "https://localhost:8080/",
          "height": 34
        }
      },
      "execution_count": 113,
      "outputs": [
        {
          "output_type": "display_data",
          "data": {
            "text/html": [
              "28"
            ],
            "text/markdown": "28",
            "text/latex": "28",
            "text/plain": [
              "[1] 28"
            ]
          },
          "metadata": {}
        }
      ]
    },
    {
      "cell_type": "code",
      "metadata": {
        "trusted": true,
        "id": "Dumeo0-NTpSM",
        "outputId": "2ec0d055-9441-462e-ec4e-0abfd702d02f",
        "colab": {
          "base_uri": "https://localhost:8080/",
          "height": 52
        }
      },
      "source": [
        "# para saber el largo de la lista/vector\n",
        "length(l1)\n",
        "# Para obtener los nombres de la lista\n",
        "names(l1)\n",
        "# si quisiéramos renombrar los slots:\n",
        "names(l1)[5] <- \"persona\""
      ],
      "execution_count": 114,
      "outputs": [
        {
          "output_type": "display_data",
          "data": {
            "text/html": [
              "5"
            ],
            "text/markdown": "5",
            "text/latex": "5",
            "text/plain": [
              "[1] 5"
            ]
          },
          "metadata": {}
        },
        {
          "output_type": "display_data",
          "data": {
            "text/html": [
              "<style>\n",
              ".list-inline {list-style: none; margin:0; padding: 0}\n",
              ".list-inline>li {display: inline-block}\n",
              ".list-inline>li:not(:last-child)::after {content: \"\\00b7\"; padding: 0 .5ex}\n",
              "</style>\n",
              "<ol class=list-inline><li>'num'</li><li>'letra'</li><li>'pl'</li><li>'mat'</li><li>'lista'</li></ol>\n"
            ],
            "text/markdown": "1. 'num'\n2. 'letra'\n3. 'pl'\n4. 'mat'\n5. 'lista'\n\n\n",
            "text/latex": "\\begin{enumerate*}\n\\item 'num'\n\\item 'letra'\n\\item 'pl'\n\\item 'mat'\n\\item 'lista'\n\\end{enumerate*}\n",
            "text/plain": [
              "[1] \"num\"   \"letra\" \"pl\"    \"mat\"   \"lista\""
            ]
          },
          "metadata": {}
        }
      ]
    },
    {
      "cell_type": "code",
      "source": [
        "l1"
      ],
      "metadata": {
        "id": "VqaseTxcIcTf",
        "outputId": "abf136b4-f19f-437c-ba48-ec111fbf31f0",
        "colab": {
          "base_uri": "https://localhost:8080/",
          "height": 459
        }
      },
      "execution_count": 115,
      "outputs": [
        {
          "output_type": "display_data",
          "data": {
            "text/html": [
              "<dl>\n",
              "\t<dt>$num</dt>\n",
              "\t\t<dd><style>\n",
              ".list-inline {list-style: none; margin:0; padding: 0}\n",
              ".list-inline>li {display: inline-block}\n",
              ".list-inline>li:not(:last-child)::after {content: \"\\00b7\"; padding: 0 .5ex}\n",
              "</style>\n",
              "<ol class=list-inline><li>11</li><li>10</li><li>22</li></ol>\n",
              "</dd>\n",
              "\t<dt>$letra</dt>\n",
              "\t\t<dd><style>\n",
              ".list-inline {list-style: none; margin:0; padding: 0}\n",
              ".list-inline>li {display: inline-block}\n",
              ".list-inline>li:not(:last-child)::after {content: \"\\00b7\"; padding: 0 .5ex}\n",
              "</style>\n",
              "<ol class=list-inline><li>'a'</li><li>'c'</li><li>'x'</li><li>'y'</li></ol>\n",
              "</dd>\n",
              "\t<dt>$pl</dt>\n",
              "\t\t<dd>'Hola soy Miguel'</dd>\n",
              "\t<dt>$mat</dt>\n",
              "\t\t<dd><table class=\"dataframe\">\n",
              "<caption>A matrix: 5 × 5 of type int</caption>\n",
              "<tbody>\n",
              "\t<tr><td>1</td><td>0</td><td>0</td><td>0</td><td>0</td></tr>\n",
              "\t<tr><td>0</td><td>2</td><td>0</td><td>0</td><td>0</td></tr>\n",
              "\t<tr><td>0</td><td>0</td><td>3</td><td>0</td><td>0</td></tr>\n",
              "\t<tr><td>0</td><td>0</td><td>0</td><td>4</td><td>0</td></tr>\n",
              "\t<tr><td>0</td><td>0</td><td>0</td><td>0</td><td>5</td></tr>\n",
              "</tbody>\n",
              "</table>\n",
              "</dd>\n",
              "\t<dt>$persona</dt>\n",
              "\t\t<dd><dl>\n",
              "\t<dt>$nombre</dt>\n",
              "\t\t<dd>'Juan'</dd>\n",
              "\t<dt>$edad</dt>\n",
              "\t\t<dd>28</dd>\n",
              "</dl>\n",
              "</dd>\n",
              "</dl>\n"
            ],
            "text/markdown": "$num\n:   1. 11\n2. 10\n3. 22\n\n\n\n$letra\n:   1. 'a'\n2. 'c'\n3. 'x'\n4. 'y'\n\n\n\n$pl\n:   'Hola soy Miguel'\n$mat\n:   \nA matrix: 5 × 5 of type int\n\n| 1 | 0 | 0 | 0 | 0 |\n| 0 | 2 | 0 | 0 | 0 |\n| 0 | 0 | 3 | 0 | 0 |\n| 0 | 0 | 0 | 4 | 0 |\n| 0 | 0 | 0 | 0 | 5 |\n\n\n$persona\n:   $nombre\n:   'Juan'\n$edad\n:   28\n\n\n\n\n\n",
            "text/latex": "\\begin{description}\n\\item[\\$num] \\begin{enumerate*}\n\\item 11\n\\item 10\n\\item 22\n\\end{enumerate*}\n\n\\item[\\$letra] \\begin{enumerate*}\n\\item 'a'\n\\item 'c'\n\\item 'x'\n\\item 'y'\n\\end{enumerate*}\n\n\\item[\\$pl] 'Hola soy Miguel'\n\\item[\\$mat] A matrix: 5 × 5 of type int\n\\begin{tabular}{lllll}\n\t 1 & 0 & 0 & 0 & 0\\\\\n\t 0 & 2 & 0 & 0 & 0\\\\\n\t 0 & 0 & 3 & 0 & 0\\\\\n\t 0 & 0 & 0 & 4 & 0\\\\\n\t 0 & 0 & 0 & 0 & 5\\\\\n\\end{tabular}\n\n\\item[\\$persona] \\begin{description}\n\\item[\\$nombre] 'Juan'\n\\item[\\$edad] 28\n\\end{description}\n\n\\end{description}\n",
            "text/plain": [
              "$num\n",
              "[1] 11 10 22\n",
              "\n",
              "$letra\n",
              "[1] \"a\" \"c\" \"x\" \"y\"\n",
              "\n",
              "$pl\n",
              "[1] \"Hola soy Miguel\"\n",
              "\n",
              "$mat\n",
              "     [,1] [,2] [,3] [,4] [,5]\n",
              "[1,]    1    0    0    0    0\n",
              "[2,]    0    2    0    0    0\n",
              "[3,]    0    0    3    0    0\n",
              "[4,]    0    0    0    4    0\n",
              "[5,]    0    0    0    0    5\n",
              "\n",
              "$persona\n",
              "$persona$nombre\n",
              "[1] \"Juan\"\n",
              "\n",
              "$persona$edad\n",
              "[1] 28\n",
              "\n"
            ]
          },
          "metadata": {}
        }
      ]
    },
    {
      "cell_type": "code",
      "metadata": {
        "trusted": true,
        "id": "Uij1PdVrTpSO",
        "outputId": "674e8659-d4c9-4f7a-936b-d2caf6ce2621",
        "colab": {
          "base_uri": "https://localhost:8080/"
        }
      },
      "source": [
        "# También podemos crear nuevos \"slots\"\n",
        "## Indicando nombre en [[]] y luego asignando\n",
        "l1[[\"nueva_persona\"]] <- \"Pedro\"\n",
        "str(l1)"
      ],
      "execution_count": 116,
      "outputs": [
        {
          "output_type": "stream",
          "name": "stdout",
          "text": [
            "List of 6\n",
            " $ num          : num [1:3] 11 10 22\n",
            " $ letra        : chr [1:4] \"a\" \"c\" \"x\" \"y\"\n",
            " $ pl           : chr \"Hola soy Miguel\"\n",
            " $ mat          : int [1:5, 1:5] 1 0 0 0 0 0 2 0 0 0 ...\n",
            " $ persona      :List of 2\n",
            "  ..$ nombre: chr \"Juan\"\n",
            "  ..$ edad  : num 28\n",
            " $ nueva_persona: chr \"Pedro\"\n"
          ]
        }
      ]
    },
    {
      "cell_type": "code",
      "source": [
        "# Otra opciòn usando \"$\"\n",
        "\n",
        "l1$otro_num <- c(1,7)"
      ],
      "metadata": {
        "id": "QINRdWqzIu9b"
      },
      "execution_count": 117,
      "outputs": []
    },
    {
      "cell_type": "code",
      "source": [
        "str(l1)"
      ],
      "metadata": {
        "id": "c3sVWhCbIonJ",
        "outputId": "af0cf93a-98e4-46f4-fc09-93abe3eee2e7",
        "colab": {
          "base_uri": "https://localhost:8080/"
        }
      },
      "execution_count": 118,
      "outputs": [
        {
          "output_type": "stream",
          "name": "stdout",
          "text": [
            "List of 7\n",
            " $ num          : num [1:3] 11 10 22\n",
            " $ letra        : chr [1:4] \"a\" \"c\" \"x\" \"y\"\n",
            " $ pl           : chr \"Hola soy Miguel\"\n",
            " $ mat          : int [1:5, 1:5] 1 0 0 0 0 0 2 0 0 0 ...\n",
            " $ persona      :List of 2\n",
            "  ..$ nombre: chr \"Juan\"\n",
            "  ..$ edad  : num 28\n",
            " $ nueva_persona: chr \"Pedro\"\n",
            " $ otro_num     : num [1:2] 1 7\n"
          ]
        }
      ]
    },
    {
      "cell_type": "code",
      "metadata": {
        "trusted": true,
        "id": "rBB4hT9RTpSQ"
      },
      "source": [
        "# podemos modificar elementos dentro de un slot\n",
        "#Ej: Modificar la edad de Juan\n",
        "\n",
        "l1$persona$edad <- 30 \n"
      ],
      "execution_count": 119,
      "outputs": []
    },
    {
      "cell_type": "code",
      "source": [
        "str(l1)"
      ],
      "metadata": {
        "id": "Xe2YgghfJTa-",
        "outputId": "e4faa641-9ec5-4524-94a5-bc933dbc3eed",
        "colab": {
          "base_uri": "https://localhost:8080/"
        }
      },
      "execution_count": 120,
      "outputs": [
        {
          "output_type": "stream",
          "name": "stdout",
          "text": [
            "List of 7\n",
            " $ num          : num [1:3] 11 10 22\n",
            " $ letra        : chr [1:4] \"a\" \"c\" \"x\" \"y\"\n",
            " $ pl           : chr \"Hola soy Miguel\"\n",
            " $ mat          : int [1:5, 1:5] 1 0 0 0 0 0 2 0 0 0 ...\n",
            " $ persona      :List of 2\n",
            "  ..$ nombre: chr \"Juan\"\n",
            "  ..$ edad  : num 30\n",
            " $ nueva_persona: chr \"Pedro\"\n",
            " $ otro_num     : num [1:2] 1 7\n"
          ]
        }
      ]
    },
    {
      "cell_type": "code",
      "source": [
        "l1$otro_num <- NULL # Podemos eliminar la entrada \"otro_num\""
      ],
      "metadata": {
        "id": "wKiu7FhTJm5s"
      },
      "execution_count": 121,
      "outputs": []
    },
    {
      "cell_type": "code",
      "source": [
        "str(l1)"
      ],
      "metadata": {
        "id": "-3pq24reJuaj",
        "outputId": "7d9263cf-6581-4fab-c7cc-bada3bde8d39",
        "colab": {
          "base_uri": "https://localhost:8080/"
        }
      },
      "execution_count": 122,
      "outputs": [
        {
          "output_type": "stream",
          "name": "stdout",
          "text": [
            "List of 6\n",
            " $ num          : num [1:3] 11 10 22\n",
            " $ letra        : chr [1:4] \"a\" \"c\" \"x\" \"y\"\n",
            " $ pl           : chr \"Hola soy Miguel\"\n",
            " $ mat          : int [1:5, 1:5] 1 0 0 0 0 0 2 0 0 0 ...\n",
            " $ persona      :List of 2\n",
            "  ..$ nombre: chr \"Juan\"\n",
            "  ..$ edad  : num 30\n",
            " $ nueva_persona: chr \"Pedro\"\n"
          ]
        }
      ]
    },
    {
      "cell_type": "code",
      "source": [
        "# Héctor pregunta si se puede cambiar el tipo de dato.\n",
        "\n",
        "# Ej: Cambiar el tipo de dato de la edad de Juan a \"character\"\n",
        "l1$persona$edad <- as.character(l1$persona$edad)\n"
      ],
      "metadata": {
        "id": "2QlNv31BJ3n4"
      },
      "execution_count": 123,
      "outputs": []
    },
    {
      "cell_type": "code",
      "source": [
        "str(l1)"
      ],
      "metadata": {
        "id": "VL-NiuQ5KOle",
        "outputId": "91f4dfb3-13d7-4449-a69c-788d05923d98",
        "colab": {
          "base_uri": "https://localhost:8080/"
        }
      },
      "execution_count": 124,
      "outputs": [
        {
          "output_type": "stream",
          "name": "stdout",
          "text": [
            "List of 6\n",
            " $ num          : num [1:3] 11 10 22\n",
            " $ letra        : chr [1:4] \"a\" \"c\" \"x\" \"y\"\n",
            " $ pl           : chr \"Hola soy Miguel\"\n",
            " $ mat          : int [1:5, 1:5] 1 0 0 0 0 0 2 0 0 0 ...\n",
            " $ persona      :List of 2\n",
            "  ..$ nombre: chr \"Juan\"\n",
            "  ..$ edad  : chr \"30\"\n",
            " $ nueva_persona: chr \"Pedro\"\n"
          ]
        }
      ]
    },
    {
      "cell_type": "markdown",
      "metadata": {
        "id": "128wI4ZoTpSS"
      },
      "source": [
        "### 5.2 Dataframes\n",
        "\n",
        "Un dataframe es un caso particular de una lista, donde los objetos de cada entrada corresponden a vectores de datos del mismo largo. E este caso cada vector corresponde a una columna del data.frame, mientras que la cantidad de filas corresponde al largo común de los vectores de cada entrada. El objeto resultante es una *tabla*, de ahora en adelante *data.frame*, cuyas columnas poseen distintos tipos de datos entre sí. \n",
        "\n",
        " * ¿Cómo se declara un dataframe?<br>\n",
        "     Mediante la función data.frame(), indicando los vectores que conformarán las columnas.\n",
        " \n",
        " * ¿Cómo se accede a los datos de un data.frame?<br>\n",
        "    Al ser una lista, se puede acceder de la misma manera. Sin embargo también es posible acceder del modo en que se accede a los elementos de una matriz."
      ]
    },
    {
      "cell_type": "code",
      "metadata": {
        "trusted": true,
        "id": "qJ-2zVWVTpST",
        "outputId": "dc62a65b-d10e-4b32-cb03-a5de9c61ca81",
        "colab": {
          "base_uri": "https://localhost:8080/",
          "height": 192
        }
      },
      "source": [
        "# 5.2 Dataframes ----------\n",
        "# Ejemplo sencillo de definición de un data.frame\n",
        "# recordar que 1:3 es lo mismo que c(1,2,3)\n",
        "\n",
        "df <- data.frame(nombre = c(\"Juan\", \"Diego\", \"Miguel\"),\n",
        "                 edad = c(25,40,33),\n",
        "                 id = 1:3\n",
        "                 )\n",
        "\n",
        "df"
      ],
      "execution_count": 125,
      "outputs": [
        {
          "output_type": "display_data",
          "data": {
            "text/html": [
              "<table class=\"dataframe\">\n",
              "<caption>A data.frame: 3 × 3</caption>\n",
              "<thead>\n",
              "\t<tr><th scope=col>nombre</th><th scope=col>edad</th><th scope=col>id</th></tr>\n",
              "\t<tr><th scope=col>&lt;chr&gt;</th><th scope=col>&lt;dbl&gt;</th><th scope=col>&lt;int&gt;</th></tr>\n",
              "</thead>\n",
              "<tbody>\n",
              "\t<tr><td>Juan  </td><td>25</td><td>1</td></tr>\n",
              "\t<tr><td>Diego </td><td>40</td><td>2</td></tr>\n",
              "\t<tr><td>Miguel</td><td>33</td><td>3</td></tr>\n",
              "</tbody>\n",
              "</table>\n"
            ],
            "text/markdown": "\nA data.frame: 3 × 3\n\n| nombre &lt;chr&gt; | edad &lt;dbl&gt; | id &lt;int&gt; |\n|---|---|---|\n| Juan   | 25 | 1 |\n| Diego  | 40 | 2 |\n| Miguel | 33 | 3 |\n\n",
            "text/latex": "A data.frame: 3 × 3\n\\begin{tabular}{lll}\n nombre & edad & id\\\\\n <chr> & <dbl> & <int>\\\\\n\\hline\n\t Juan   & 25 & 1\\\\\n\t Diego  & 40 & 2\\\\\n\t Miguel & 33 & 3\\\\\n\\end{tabular}\n",
            "text/plain": [
              "  nombre edad id\n",
              "1 Juan   25   1 \n",
              "2 Diego  40   2 \n",
              "3 Miguel 33   3 "
            ]
          },
          "metadata": {}
        }
      ]
    },
    {
      "cell_type": "code",
      "source": [
        "dim(df)"
      ],
      "metadata": {
        "id": "bC954RPBWOYp",
        "outputId": "3437109d-6dbd-4afd-e57f-60825904989b",
        "colab": {
          "base_uri": "https://localhost:8080/",
          "height": 34
        }
      },
      "execution_count": 149,
      "outputs": [
        {
          "output_type": "display_data",
          "data": {
            "text/html": [
              "<style>\n",
              ".list-inline {list-style: none; margin:0; padding: 0}\n",
              ".list-inline>li {display: inline-block}\n",
              ".list-inline>li:not(:last-child)::after {content: \"\\00b7\"; padding: 0 .5ex}\n",
              "</style>\n",
              "<ol class=list-inline><li>3</li><li>5</li></ol>\n"
            ],
            "text/markdown": "1. 3\n2. 5\n\n\n",
            "text/latex": "\\begin{enumerate*}\n\\item 3\n\\item 5\n\\end{enumerate*}\n",
            "text/plain": [
              "[1] 3 5"
            ]
          },
          "metadata": {}
        }
      ]
    },
    {
      "cell_type": "code",
      "source": [
        "str(df)"
      ],
      "metadata": {
        "id": "ycyEFzacQFLR",
        "outputId": "efdcea98-2dd3-430b-8114-23d0f56485ed",
        "colab": {
          "base_uri": "https://localhost:8080/"
        }
      },
      "execution_count": 126,
      "outputs": [
        {
          "output_type": "stream",
          "name": "stdout",
          "text": [
            "'data.frame':\t3 obs. of  3 variables:\n",
            " $ nombre: chr  \"Juan\" \"Diego\" \"Miguel\"\n",
            " $ edad  : num  25 40 33\n",
            " $ id    : int  1 2 3\n"
          ]
        }
      ]
    },
    {
      "cell_type": "code",
      "metadata": {
        "trusted": true,
        "id": "nv7stC8ITpSY",
        "outputId": "7acf06d3-bac0-4860-8006-e1945e4a09af",
        "colab": {
          "base_uri": "https://localhost:8080/",
          "height": 262
        }
      },
      "source": [
        "# Acceso a columnas de un data.frame\n",
        "# Se mantiene la lógica de acceso a los sots de una lista.\n",
        "df[\"nombre\"] # es el dataframe (antes lista) con el vector\n",
        "df[[\"nombre\"]]# El vector de la columna nombre\n",
        "df$nombre\n",
        "\n",
        "\n"
      ],
      "execution_count": 127,
      "outputs": [
        {
          "output_type": "display_data",
          "data": {
            "text/html": [
              "<table class=\"dataframe\">\n",
              "<caption>A data.frame: 3 × 1</caption>\n",
              "<thead>\n",
              "\t<tr><th scope=col>nombre</th></tr>\n",
              "\t<tr><th scope=col>&lt;chr&gt;</th></tr>\n",
              "</thead>\n",
              "<tbody>\n",
              "\t<tr><td>Juan  </td></tr>\n",
              "\t<tr><td>Diego </td></tr>\n",
              "\t<tr><td>Miguel</td></tr>\n",
              "</tbody>\n",
              "</table>\n"
            ],
            "text/markdown": "\nA data.frame: 3 × 1\n\n| nombre &lt;chr&gt; |\n|---|\n| Juan   |\n| Diego  |\n| Miguel |\n\n",
            "text/latex": "A data.frame: 3 × 1\n\\begin{tabular}{l}\n nombre\\\\\n <chr>\\\\\n\\hline\n\t Juan  \\\\\n\t Diego \\\\\n\t Miguel\\\\\n\\end{tabular}\n",
            "text/plain": [
              "  nombre\n",
              "1 Juan  \n",
              "2 Diego \n",
              "3 Miguel"
            ]
          },
          "metadata": {}
        },
        {
          "output_type": "display_data",
          "data": {
            "text/html": [
              "<style>\n",
              ".list-inline {list-style: none; margin:0; padding: 0}\n",
              ".list-inline>li {display: inline-block}\n",
              ".list-inline>li:not(:last-child)::after {content: \"\\00b7\"; padding: 0 .5ex}\n",
              "</style>\n",
              "<ol class=list-inline><li>'Juan'</li><li>'Diego'</li><li>'Miguel'</li></ol>\n"
            ],
            "text/markdown": "1. 'Juan'\n2. 'Diego'\n3. 'Miguel'\n\n\n",
            "text/latex": "\\begin{enumerate*}\n\\item 'Juan'\n\\item 'Diego'\n\\item 'Miguel'\n\\end{enumerate*}\n",
            "text/plain": [
              "[1] \"Juan\"   \"Diego\"  \"Miguel\""
            ]
          },
          "metadata": {}
        },
        {
          "output_type": "display_data",
          "data": {
            "text/html": [
              "<style>\n",
              ".list-inline {list-style: none; margin:0; padding: 0}\n",
              ".list-inline>li {display: inline-block}\n",
              ".list-inline>li:not(:last-child)::after {content: \"\\00b7\"; padding: 0 .5ex}\n",
              "</style>\n",
              "<ol class=list-inline><li>'Juan'</li><li>'Diego'</li><li>'Miguel'</li></ol>\n"
            ],
            "text/markdown": "1. 'Juan'\n2. 'Diego'\n3. 'Miguel'\n\n\n",
            "text/latex": "\\begin{enumerate*}\n\\item 'Juan'\n\\item 'Diego'\n\\item 'Miguel'\n\\end{enumerate*}\n",
            "text/plain": [
              "[1] \"Juan\"   \"Diego\"  \"Miguel\""
            ]
          },
          "metadata": {}
        }
      ]
    },
    {
      "cell_type": "code",
      "metadata": {
        "trusted": true,
        "id": "CojdmEs9TpSd",
        "outputId": "75208b82-6a67-4bcf-ad4d-bb90e6859816",
        "colab": {
          "base_uri": "https://localhost:8080/",
          "height": 147
        }
      },
      "source": [
        "##  Ganamos acceso como matriz\n",
        "# segunda fila de df\n",
        "df[2,]\n",
        "\n",
        "# segunda columna y segunda fila\n",
        "df[2,2]\n",
        "\n"
      ],
      "execution_count": 128,
      "outputs": [
        {
          "output_type": "display_data",
          "data": {
            "text/html": [
              "<table class=\"dataframe\">\n",
              "<caption>A data.frame: 1 × 3</caption>\n",
              "<thead>\n",
              "\t<tr><th></th><th scope=col>nombre</th><th scope=col>edad</th><th scope=col>id</th></tr>\n",
              "\t<tr><th></th><th scope=col>&lt;chr&gt;</th><th scope=col>&lt;dbl&gt;</th><th scope=col>&lt;int&gt;</th></tr>\n",
              "</thead>\n",
              "<tbody>\n",
              "\t<tr><th scope=row>2</th><td>Diego</td><td>40</td><td>2</td></tr>\n",
              "</tbody>\n",
              "</table>\n"
            ],
            "text/markdown": "\nA data.frame: 1 × 3\n\n| <!--/--> | nombre &lt;chr&gt; | edad &lt;dbl&gt; | id &lt;int&gt; |\n|---|---|---|---|\n| 2 | Diego | 40 | 2 |\n\n",
            "text/latex": "A data.frame: 1 × 3\n\\begin{tabular}{r|lll}\n  & nombre & edad & id\\\\\n  & <chr> & <dbl> & <int>\\\\\n\\hline\n\t2 & Diego & 40 & 2\\\\\n\\end{tabular}\n",
            "text/plain": [
              "  nombre edad id\n",
              "2 Diego  40   2 "
            ]
          },
          "metadata": {}
        },
        {
          "output_type": "display_data",
          "data": {
            "text/html": [
              "40"
            ],
            "text/markdown": "40",
            "text/latex": "40",
            "text/plain": [
              "[1] 40"
            ]
          },
          "metadata": {}
        }
      ]
    },
    {
      "cell_type": "code",
      "source": [
        "df[,\"edad\"]# El vector de edades (hereda acceso por nombres en una matriz)\n",
        "df[2,\"edad\"]# Segunda fila de la columna \"edad\""
      ],
      "metadata": {
        "id": "EcXqgno-Q-S4",
        "outputId": "ee9050ae-7a2d-4a54-9769-97380ebb42c2",
        "colab": {
          "base_uri": "https://localhost:8080/",
          "height": 52
        }
      },
      "execution_count": 129,
      "outputs": [
        {
          "output_type": "display_data",
          "data": {
            "text/html": [
              "<style>\n",
              ".list-inline {list-style: none; margin:0; padding: 0}\n",
              ".list-inline>li {display: inline-block}\n",
              ".list-inline>li:not(:last-child)::after {content: \"\\00b7\"; padding: 0 .5ex}\n",
              "</style>\n",
              "<ol class=list-inline><li>25</li><li>40</li><li>33</li></ol>\n"
            ],
            "text/markdown": "1. 25\n2. 40\n3. 33\n\n\n",
            "text/latex": "\\begin{enumerate*}\n\\item 25\n\\item 40\n\\item 33\n\\end{enumerate*}\n",
            "text/plain": [
              "[1] 25 40 33"
            ]
          },
          "metadata": {}
        },
        {
          "output_type": "display_data",
          "data": {
            "text/html": [
              "40"
            ],
            "text/markdown": "40",
            "text/latex": "40",
            "text/plain": [
              "[1] 40"
            ]
          },
          "metadata": {}
        }
      ]
    },
    {
      "cell_type": "code",
      "metadata": {
        "trusted": true,
        "id": "FgD5Q8hFTpSf"
      },
      "source": [
        "#Podemos crear nuevas columnas , del mismmo modo que creamos \"slots\" en una lista\n",
        "df$tiene_ccte <- c(T,F,T)"
      ],
      "execution_count": 130,
      "outputs": []
    },
    {
      "cell_type": "code",
      "source": [
        "df[[\"nombre_mascota\"]] <- c(\"bobi\", \"akira\",\"daenarys\")"
      ],
      "metadata": {
        "id": "TGkDkfxPRb_2"
      },
      "execution_count": 131,
      "outputs": []
    },
    {
      "cell_type": "code",
      "source": [
        "df"
      ],
      "metadata": {
        "id": "5E7kWRAwRnjF",
        "outputId": "8325f1e2-1c5a-4bdd-ccad-e72b043e74fd",
        "colab": {
          "base_uri": "https://localhost:8080/",
          "height": 192
        }
      },
      "execution_count": 132,
      "outputs": [
        {
          "output_type": "display_data",
          "data": {
            "text/html": [
              "<table class=\"dataframe\">\n",
              "<caption>A data.frame: 3 × 5</caption>\n",
              "<thead>\n",
              "\t<tr><th scope=col>nombre</th><th scope=col>edad</th><th scope=col>id</th><th scope=col>tiene_ccte</th><th scope=col>nombre_mascota</th></tr>\n",
              "\t<tr><th scope=col>&lt;chr&gt;</th><th scope=col>&lt;dbl&gt;</th><th scope=col>&lt;int&gt;</th><th scope=col>&lt;lgl&gt;</th><th scope=col>&lt;chr&gt;</th></tr>\n",
              "</thead>\n",
              "<tbody>\n",
              "\t<tr><td>Juan  </td><td>25</td><td>1</td><td> TRUE</td><td>bobi    </td></tr>\n",
              "\t<tr><td>Diego </td><td>40</td><td>2</td><td>FALSE</td><td>akira   </td></tr>\n",
              "\t<tr><td>Miguel</td><td>33</td><td>3</td><td> TRUE</td><td>daenarys</td></tr>\n",
              "</tbody>\n",
              "</table>\n"
            ],
            "text/markdown": "\nA data.frame: 3 × 5\n\n| nombre &lt;chr&gt; | edad &lt;dbl&gt; | id &lt;int&gt; | tiene_ccte &lt;lgl&gt; | nombre_mascota &lt;chr&gt; |\n|---|---|---|---|---|\n| Juan   | 25 | 1 |  TRUE | bobi     |\n| Diego  | 40 | 2 | FALSE | akira    |\n| Miguel | 33 | 3 |  TRUE | daenarys |\n\n",
            "text/latex": "A data.frame: 3 × 5\n\\begin{tabular}{lllll}\n nombre & edad & id & tiene\\_ccte & nombre\\_mascota\\\\\n <chr> & <dbl> & <int> & <lgl> & <chr>\\\\\n\\hline\n\t Juan   & 25 & 1 &  TRUE & bobi    \\\\\n\t Diego  & 40 & 2 & FALSE & akira   \\\\\n\t Miguel & 33 & 3 &  TRUE & daenarys\\\\\n\\end{tabular}\n",
            "text/plain": [
              "  nombre edad id tiene_ccte nombre_mascota\n",
              "1 Juan   25   1   TRUE      bobi          \n",
              "2 Diego  40   2  FALSE      akira         \n",
              "3 Miguel 33   3   TRUE      daenarys      "
            ]
          },
          "metadata": {}
        }
      ]
    },
    {
      "cell_type": "code",
      "metadata": {
        "trusted": true,
        "id": "LcNQ5JHVTpSh",
        "outputId": "cefe9a96-70ab-4922-9569-077074d2d84a",
        "colab": {
          "base_uri": "https://localhost:8080/",
          "height": 367
        }
      },
      "source": [
        "# podemos seleccionar más de una columna a la vez. Ej: seleccionar col1y col3\n",
        "\n",
        "# Referenciando el nombre de las columnas\n",
        "df[,c(\"nombre\",\"nombre_mascota\")]# pensando como en una matriz\n",
        "df[c(\"nombre\",\"nombre_mascota\")]# Pensando como en una lista\n"
      ],
      "execution_count": 133,
      "outputs": [
        {
          "output_type": "display_data",
          "data": {
            "text/html": [
              "<table class=\"dataframe\">\n",
              "<caption>A data.frame: 3 × 2</caption>\n",
              "<thead>\n",
              "\t<tr><th scope=col>nombre</th><th scope=col>nombre_mascota</th></tr>\n",
              "\t<tr><th scope=col>&lt;chr&gt;</th><th scope=col>&lt;chr&gt;</th></tr>\n",
              "</thead>\n",
              "<tbody>\n",
              "\t<tr><td>Juan  </td><td>bobi    </td></tr>\n",
              "\t<tr><td>Diego </td><td>akira   </td></tr>\n",
              "\t<tr><td>Miguel</td><td>daenarys</td></tr>\n",
              "</tbody>\n",
              "</table>\n"
            ],
            "text/markdown": "\nA data.frame: 3 × 2\n\n| nombre &lt;chr&gt; | nombre_mascota &lt;chr&gt; |\n|---|---|\n| Juan   | bobi     |\n| Diego  | akira    |\n| Miguel | daenarys |\n\n",
            "text/latex": "A data.frame: 3 × 2\n\\begin{tabular}{ll}\n nombre & nombre\\_mascota\\\\\n <chr> & <chr>\\\\\n\\hline\n\t Juan   & bobi    \\\\\n\t Diego  & akira   \\\\\n\t Miguel & daenarys\\\\\n\\end{tabular}\n",
            "text/plain": [
              "  nombre nombre_mascota\n",
              "1 Juan   bobi          \n",
              "2 Diego  akira         \n",
              "3 Miguel daenarys      "
            ]
          },
          "metadata": {}
        },
        {
          "output_type": "display_data",
          "data": {
            "text/html": [
              "<table class=\"dataframe\">\n",
              "<caption>A data.frame: 3 × 2</caption>\n",
              "<thead>\n",
              "\t<tr><th scope=col>nombre</th><th scope=col>nombre_mascota</th></tr>\n",
              "\t<tr><th scope=col>&lt;chr&gt;</th><th scope=col>&lt;chr&gt;</th></tr>\n",
              "</thead>\n",
              "<tbody>\n",
              "\t<tr><td>Juan  </td><td>bobi    </td></tr>\n",
              "\t<tr><td>Diego </td><td>akira   </td></tr>\n",
              "\t<tr><td>Miguel</td><td>daenarys</td></tr>\n",
              "</tbody>\n",
              "</table>\n"
            ],
            "text/markdown": "\nA data.frame: 3 × 2\n\n| nombre &lt;chr&gt; | nombre_mascota &lt;chr&gt; |\n|---|---|\n| Juan   | bobi     |\n| Diego  | akira    |\n| Miguel | daenarys |\n\n",
            "text/latex": "A data.frame: 3 × 2\n\\begin{tabular}{ll}\n nombre & nombre\\_mascota\\\\\n <chr> & <chr>\\\\\n\\hline\n\t Juan   & bobi    \\\\\n\t Diego  & akira   \\\\\n\t Miguel & daenarys\\\\\n\\end{tabular}\n",
            "text/plain": [
              "  nombre nombre_mascota\n",
              "1 Juan   bobi          \n",
              "2 Diego  akira         \n",
              "3 Miguel daenarys      "
            ]
          },
          "metadata": {}
        }
      ]
    },
    {
      "cell_type": "code",
      "source": [
        "# Pensar como matriz nos da ventaja.\n",
        "# Traer las filas 1 y 3, y las columnas nombre y nombre_mascota\n",
        "df[c(1,3), c(\"nombre\",\"nombre_mascota\")]"
      ],
      "metadata": {
        "id": "dou1FUlaSFyH",
        "outputId": "cd85e4ef-2fb3-4993-b5d8-5495202e2ac5",
        "colab": {
          "base_uri": "https://localhost:8080/",
          "height": 161
        }
      },
      "execution_count": 134,
      "outputs": [
        {
          "output_type": "display_data",
          "data": {
            "text/html": [
              "<table class=\"dataframe\">\n",
              "<caption>A data.frame: 2 × 2</caption>\n",
              "<thead>\n",
              "\t<tr><th></th><th scope=col>nombre</th><th scope=col>nombre_mascota</th></tr>\n",
              "\t<tr><th></th><th scope=col>&lt;chr&gt;</th><th scope=col>&lt;chr&gt;</th></tr>\n",
              "</thead>\n",
              "<tbody>\n",
              "\t<tr><th scope=row>1</th><td>Juan  </td><td>bobi    </td></tr>\n",
              "\t<tr><th scope=row>3</th><td>Miguel</td><td>daenarys</td></tr>\n",
              "</tbody>\n",
              "</table>\n"
            ],
            "text/markdown": "\nA data.frame: 2 × 2\n\n| <!--/--> | nombre &lt;chr&gt; | nombre_mascota &lt;chr&gt; |\n|---|---|---|\n| 1 | Juan   | bobi     |\n| 3 | Miguel | daenarys |\n\n",
            "text/latex": "A data.frame: 2 × 2\n\\begin{tabular}{r|ll}\n  & nombre & nombre\\_mascota\\\\\n  & <chr> & <chr>\\\\\n\\hline\n\t1 & Juan   & bobi    \\\\\n\t3 & Miguel & daenarys\\\\\n\\end{tabular}\n",
            "text/plain": [
              "  nombre nombre_mascota\n",
              "1 Juan   bobi          \n",
              "3 Miguel daenarys      "
            ]
          },
          "metadata": {}
        }
      ]
    },
    {
      "cell_type": "code",
      "metadata": {
        "trusted": true,
        "id": "NHtO3MHwTpSj",
        "outputId": "80a41111-65a1-4390-e35c-d559fc32d4ab",
        "colab": {
          "base_uri": "https://localhost:8080/",
          "height": 209
        }
      },
      "source": [
        "# Referenciando las posiciones de las columnas\n",
        "# Primera y tercera columas\n",
        "df[,c(1,3)]"
      ],
      "execution_count": 135,
      "outputs": [
        {
          "output_type": "display_data",
          "data": {
            "text/html": [
              "<table class=\"dataframe\">\n",
              "<caption>A data.frame: 3 × 2</caption>\n",
              "<thead>\n",
              "\t<tr><th scope=col>nombre</th><th scope=col>id</th></tr>\n",
              "\t<tr><th scope=col>&lt;chr&gt;</th><th scope=col>&lt;int&gt;</th></tr>\n",
              "</thead>\n",
              "<tbody>\n",
              "\t<tr><td>Juan  </td><td>1</td></tr>\n",
              "\t<tr><td>Diego </td><td>2</td></tr>\n",
              "\t<tr><td>Miguel</td><td>3</td></tr>\n",
              "</tbody>\n",
              "</table>\n"
            ],
            "text/markdown": "\nA data.frame: 3 × 2\n\n| nombre &lt;chr&gt; | id &lt;int&gt; |\n|---|---|\n| Juan   | 1 |\n| Diego  | 2 |\n| Miguel | 3 |\n\n",
            "text/latex": "A data.frame: 3 × 2\n\\begin{tabular}{ll}\n nombre & id\\\\\n <chr> & <int>\\\\\n\\hline\n\t Juan   & 1\\\\\n\t Diego  & 2\\\\\n\t Miguel & 3\\\\\n\\end{tabular}\n",
            "text/plain": [
              "  nombre id\n",
              "1 Juan   1 \n",
              "2 Diego  2 \n",
              "3 Miguel 3 "
            ]
          },
          "metadata": {}
        }
      ]
    },
    {
      "cell_type": "code",
      "source": [
        "df"
      ],
      "metadata": {
        "id": "6or31Yz0TSp6",
        "outputId": "3c1573cb-1833-4c92-edab-72a1ec5e0ef2",
        "colab": {
          "base_uri": "https://localhost:8080/",
          "height": 192
        }
      },
      "execution_count": 136,
      "outputs": [
        {
          "output_type": "display_data",
          "data": {
            "text/html": [
              "<table class=\"dataframe\">\n",
              "<caption>A data.frame: 3 × 5</caption>\n",
              "<thead>\n",
              "\t<tr><th scope=col>nombre</th><th scope=col>edad</th><th scope=col>id</th><th scope=col>tiene_ccte</th><th scope=col>nombre_mascota</th></tr>\n",
              "\t<tr><th scope=col>&lt;chr&gt;</th><th scope=col>&lt;dbl&gt;</th><th scope=col>&lt;int&gt;</th><th scope=col>&lt;lgl&gt;</th><th scope=col>&lt;chr&gt;</th></tr>\n",
              "</thead>\n",
              "<tbody>\n",
              "\t<tr><td>Juan  </td><td>25</td><td>1</td><td> TRUE</td><td>bobi    </td></tr>\n",
              "\t<tr><td>Diego </td><td>40</td><td>2</td><td>FALSE</td><td>akira   </td></tr>\n",
              "\t<tr><td>Miguel</td><td>33</td><td>3</td><td> TRUE</td><td>daenarys</td></tr>\n",
              "</tbody>\n",
              "</table>\n"
            ],
            "text/markdown": "\nA data.frame: 3 × 5\n\n| nombre &lt;chr&gt; | edad &lt;dbl&gt; | id &lt;int&gt; | tiene_ccte &lt;lgl&gt; | nombre_mascota &lt;chr&gt; |\n|---|---|---|---|---|\n| Juan   | 25 | 1 |  TRUE | bobi     |\n| Diego  | 40 | 2 | FALSE | akira    |\n| Miguel | 33 | 3 |  TRUE | daenarys |\n\n",
            "text/latex": "A data.frame: 3 × 5\n\\begin{tabular}{lllll}\n nombre & edad & id & tiene\\_ccte & nombre\\_mascota\\\\\n <chr> & <dbl> & <int> & <lgl> & <chr>\\\\\n\\hline\n\t Juan   & 25 & 1 &  TRUE & bobi    \\\\\n\t Diego  & 40 & 2 & FALSE & akira   \\\\\n\t Miguel & 33 & 3 &  TRUE & daenarys\\\\\n\\end{tabular}\n",
            "text/plain": [
              "  nombre edad id tiene_ccte nombre_mascota\n",
              "1 Juan   25   1   TRUE      bobi          \n",
              "2 Diego  40   2  FALSE      akira         \n",
              "3 Miguel 33   3   TRUE      daenarys      "
            ]
          },
          "metadata": {}
        }
      ]
    },
    {
      "cell_type": "code",
      "metadata": {
        "trusted": true,
        "id": "RmsAhhsWTpSm",
        "outputId": "69a49d4f-28cd-4670-cd9a-1af266bba1de",
        "colab": {
          "base_uri": "https://localhost:8080/",
          "height": 34
        }
      },
      "source": [
        "df$edad > 30\n"
      ],
      "execution_count": 137,
      "outputs": [
        {
          "output_type": "display_data",
          "data": {
            "text/html": [
              "<style>\n",
              ".list-inline {list-style: none; margin:0; padding: 0}\n",
              ".list-inline>li {display: inline-block}\n",
              ".list-inline>li:not(:last-child)::after {content: \"\\00b7\"; padding: 0 .5ex}\n",
              "</style>\n",
              "<ol class=list-inline><li>FALSE</li><li>TRUE</li><li>TRUE</li></ol>\n"
            ],
            "text/markdown": "1. FALSE\n2. TRUE\n3. TRUE\n\n\n",
            "text/latex": "\\begin{enumerate*}\n\\item FALSE\n\\item TRUE\n\\item TRUE\n\\end{enumerate*}\n",
            "text/plain": [
              "[1] FALSE  TRUE  TRUE"
            ]
          },
          "metadata": {}
        }
      ]
    },
    {
      "cell_type": "code",
      "source": [
        "df[df$edad > 30,]# Consultamos todas las columnas donde la edad es mayor a 30."
      ],
      "metadata": {
        "id": "YsSeB3aJTYxK",
        "outputId": "67fe28a2-a98d-4d1e-e59c-0176f4a55799",
        "colab": {
          "base_uri": "https://localhost:8080/",
          "height": 161
        }
      },
      "execution_count": 138,
      "outputs": [
        {
          "output_type": "display_data",
          "data": {
            "text/html": [
              "<table class=\"dataframe\">\n",
              "<caption>A data.frame: 2 × 5</caption>\n",
              "<thead>\n",
              "\t<tr><th></th><th scope=col>nombre</th><th scope=col>edad</th><th scope=col>id</th><th scope=col>tiene_ccte</th><th scope=col>nombre_mascota</th></tr>\n",
              "\t<tr><th></th><th scope=col>&lt;chr&gt;</th><th scope=col>&lt;dbl&gt;</th><th scope=col>&lt;int&gt;</th><th scope=col>&lt;lgl&gt;</th><th scope=col>&lt;chr&gt;</th></tr>\n",
              "</thead>\n",
              "<tbody>\n",
              "\t<tr><th scope=row>2</th><td>Diego </td><td>40</td><td>2</td><td>FALSE</td><td>akira   </td></tr>\n",
              "\t<tr><th scope=row>3</th><td>Miguel</td><td>33</td><td>3</td><td> TRUE</td><td>daenarys</td></tr>\n",
              "</tbody>\n",
              "</table>\n"
            ],
            "text/markdown": "\nA data.frame: 2 × 5\n\n| <!--/--> | nombre &lt;chr&gt; | edad &lt;dbl&gt; | id &lt;int&gt; | tiene_ccte &lt;lgl&gt; | nombre_mascota &lt;chr&gt; |\n|---|---|---|---|---|---|\n| 2 | Diego  | 40 | 2 | FALSE | akira    |\n| 3 | Miguel | 33 | 3 |  TRUE | daenarys |\n\n",
            "text/latex": "A data.frame: 2 × 5\n\\begin{tabular}{r|lllll}\n  & nombre & edad & id & tiene\\_ccte & nombre\\_mascota\\\\\n  & <chr> & <dbl> & <int> & <lgl> & <chr>\\\\\n\\hline\n\t2 & Diego  & 40 & 2 & FALSE & akira   \\\\\n\t3 & Miguel & 33 & 3 &  TRUE & daenarys\\\\\n\\end{tabular}\n",
            "text/plain": [
              "  nombre edad id tiene_ccte nombre_mascota\n",
              "2 Diego  40   2  FALSE      akira         \n",
              "3 Miguel 33   3   TRUE      daenarys      "
            ]
          },
          "metadata": {}
        }
      ]
    },
    {
      "cell_type": "code",
      "source": [
        "df[df$edad > 30,\"nombre_mascota\"] # Si solo queremos los nombres de mascota de los duenños mayores de 30 años\n"
      ],
      "metadata": {
        "id": "_LPBfiKDTlI1",
        "outputId": "5b359f94-3d8e-47fb-fed9-93dbc048a3f4",
        "colab": {
          "base_uri": "https://localhost:8080/",
          "height": 34
        }
      },
      "execution_count": 139,
      "outputs": [
        {
          "output_type": "display_data",
          "data": {
            "text/html": [
              "<style>\n",
              ".list-inline {list-style: none; margin:0; padding: 0}\n",
              ".list-inline>li {display: inline-block}\n",
              ".list-inline>li:not(:last-child)::after {content: \"\\00b7\"; padding: 0 .5ex}\n",
              "</style>\n",
              "<ol class=list-inline><li>'akira'</li><li>'daenarys'</li></ol>\n"
            ],
            "text/markdown": "1. 'akira'\n2. 'daenarys'\n\n\n",
            "text/latex": "\\begin{enumerate*}\n\\item 'akira'\n\\item 'daenarys'\n\\end{enumerate*}\n",
            "text/plain": [
              "[1] \"akira\"    \"daenarys\""
            ]
          },
          "metadata": {}
        }
      ]
    },
    {
      "cell_type": "code",
      "source": [
        "df[df$edad > 30,]$nombre_mascota "
      ],
      "metadata": {
        "id": "y_P89tM0Ttlv",
        "outputId": "3a5df5de-907a-4d34-9d72-ca8ebd932d32",
        "colab": {
          "base_uri": "https://localhost:8080/",
          "height": 34
        }
      },
      "execution_count": 140,
      "outputs": [
        {
          "output_type": "display_data",
          "data": {
            "text/html": [
              "<style>\n",
              ".list-inline {list-style: none; margin:0; padding: 0}\n",
              ".list-inline>li {display: inline-block}\n",
              ".list-inline>li:not(:last-child)::after {content: \"\\00b7\"; padding: 0 .5ex}\n",
              "</style>\n",
              "<ol class=list-inline><li>'akira'</li><li>'daenarys'</li></ol>\n"
            ],
            "text/markdown": "1. 'akira'\n2. 'daenarys'\n\n\n",
            "text/latex": "\\begin{enumerate*}\n\\item 'akira'\n\\item 'daenarys'\n\\end{enumerate*}\n",
            "text/plain": [
              "[1] \"akira\"    \"daenarys\""
            ]
          },
          "metadata": {}
        }
      ]
    },
    {
      "cell_type": "code",
      "source": [
        "# Cambiar nombre de una columna\n",
        "names(df)"
      ],
      "metadata": {
        "id": "ZwmO49DLT-Ba",
        "outputId": "56ed346b-8305-4720-84d0-2b922c97bb7f",
        "colab": {
          "base_uri": "https://localhost:8080/",
          "height": 34
        }
      },
      "execution_count": 141,
      "outputs": [
        {
          "output_type": "display_data",
          "data": {
            "text/html": [
              "<style>\n",
              ".list-inline {list-style: none; margin:0; padding: 0}\n",
              ".list-inline>li {display: inline-block}\n",
              ".list-inline>li:not(:last-child)::after {content: \"\\00b7\"; padding: 0 .5ex}\n",
              "</style>\n",
              "<ol class=list-inline><li>'nombre'</li><li>'edad'</li><li>'id'</li><li>'tiene_ccte'</li><li>'nombre_mascota'</li></ol>\n"
            ],
            "text/markdown": "1. 'nombre'\n2. 'edad'\n3. 'id'\n4. 'tiene_ccte'\n5. 'nombre_mascota'\n\n\n",
            "text/latex": "\\begin{enumerate*}\n\\item 'nombre'\n\\item 'edad'\n\\item 'id'\n\\item 'tiene\\_ccte'\n\\item 'nombre\\_mascota'\n\\end{enumerate*}\n",
            "text/plain": [
              "[1] \"nombre\"         \"edad\"           \"id\"             \"tiene_ccte\"    \n",
              "[5] \"nombre_mascota\""
            ]
          },
          "metadata": {}
        }
      ]
    },
    {
      "cell_type": "code",
      "source": [
        "colnames(df)"
      ],
      "metadata": {
        "id": "3x_uSfayUM-T",
        "outputId": "a8733d0d-6960-4253-b163-84df3559f12e",
        "colab": {
          "base_uri": "https://localhost:8080/",
          "height": 34
        }
      },
      "execution_count": 142,
      "outputs": [
        {
          "output_type": "display_data",
          "data": {
            "text/html": [
              "<style>\n",
              ".list-inline {list-style: none; margin:0; padding: 0}\n",
              ".list-inline>li {display: inline-block}\n",
              ".list-inline>li:not(:last-child)::after {content: \"\\00b7\"; padding: 0 .5ex}\n",
              "</style>\n",
              "<ol class=list-inline><li>'nombre'</li><li>'edad'</li><li>'id'</li><li>'tiene_ccte'</li><li>'nombre_mascota'</li></ol>\n"
            ],
            "text/markdown": "1. 'nombre'\n2. 'edad'\n3. 'id'\n4. 'tiene_ccte'\n5. 'nombre_mascota'\n\n\n",
            "text/latex": "\\begin{enumerate*}\n\\item 'nombre'\n\\item 'edad'\n\\item 'id'\n\\item 'tiene\\_ccte'\n\\item 'nombre\\_mascota'\n\\end{enumerate*}\n",
            "text/plain": [
              "[1] \"nombre\"         \"edad\"           \"id\"             \"tiene_ccte\"    \n",
              "[5] \"nombre_mascota\""
            ]
          },
          "metadata": {}
        }
      ]
    },
    {
      "cell_type": "code",
      "source": [
        "colnames(df)[4] <- \"tiene_cuenta_corriente\""
      ],
      "metadata": {
        "id": "W557TdR5URfq"
      },
      "execution_count": 143,
      "outputs": []
    },
    {
      "cell_type": "code",
      "source": [
        "df"
      ],
      "metadata": {
        "id": "ihsD5KjAUW8U",
        "outputId": "df594b56-1652-40a9-b0a2-5610bc97b4ef",
        "colab": {
          "base_uri": "https://localhost:8080/",
          "height": 192
        }
      },
      "execution_count": 144,
      "outputs": [
        {
          "output_type": "display_data",
          "data": {
            "text/html": [
              "<table class=\"dataframe\">\n",
              "<caption>A data.frame: 3 × 5</caption>\n",
              "<thead>\n",
              "\t<tr><th scope=col>nombre</th><th scope=col>edad</th><th scope=col>id</th><th scope=col>tiene_cuenta_corriente</th><th scope=col>nombre_mascota</th></tr>\n",
              "\t<tr><th scope=col>&lt;chr&gt;</th><th scope=col>&lt;dbl&gt;</th><th scope=col>&lt;int&gt;</th><th scope=col>&lt;lgl&gt;</th><th scope=col>&lt;chr&gt;</th></tr>\n",
              "</thead>\n",
              "<tbody>\n",
              "\t<tr><td>Juan  </td><td>25</td><td>1</td><td> TRUE</td><td>bobi    </td></tr>\n",
              "\t<tr><td>Diego </td><td>40</td><td>2</td><td>FALSE</td><td>akira   </td></tr>\n",
              "\t<tr><td>Miguel</td><td>33</td><td>3</td><td> TRUE</td><td>daenarys</td></tr>\n",
              "</tbody>\n",
              "</table>\n"
            ],
            "text/markdown": "\nA data.frame: 3 × 5\n\n| nombre &lt;chr&gt; | edad &lt;dbl&gt; | id &lt;int&gt; | tiene_cuenta_corriente &lt;lgl&gt; | nombre_mascota &lt;chr&gt; |\n|---|---|---|---|---|\n| Juan   | 25 | 1 |  TRUE | bobi     |\n| Diego  | 40 | 2 | FALSE | akira    |\n| Miguel | 33 | 3 |  TRUE | daenarys |\n\n",
            "text/latex": "A data.frame: 3 × 5\n\\begin{tabular}{lllll}\n nombre & edad & id & tiene\\_cuenta\\_corriente & nombre\\_mascota\\\\\n <chr> & <dbl> & <int> & <lgl> & <chr>\\\\\n\\hline\n\t Juan   & 25 & 1 &  TRUE & bobi    \\\\\n\t Diego  & 40 & 2 & FALSE & akira   \\\\\n\t Miguel & 33 & 3 &  TRUE & daenarys\\\\\n\\end{tabular}\n",
            "text/plain": [
              "  nombre edad id tiene_cuenta_corriente nombre_mascota\n",
              "1 Juan   25   1   TRUE                  bobi          \n",
              "2 Diego  40   2  FALSE                  akira         \n",
              "3 Miguel 33   3   TRUE                  daenarys      "
            ]
          },
          "metadata": {}
        }
      ]
    },
    {
      "cell_type": "code",
      "source": [
        "names(df) == \"tiene_cuenta_corriente\""
      ],
      "metadata": {
        "id": "JRCqrm-CUZIc",
        "outputId": "93243c93-e58f-474f-8de0-700f0d63c3a2",
        "colab": {
          "base_uri": "https://localhost:8080/",
          "height": 34
        }
      },
      "execution_count": 145,
      "outputs": [
        {
          "output_type": "display_data",
          "data": {
            "text/html": [
              "<style>\n",
              ".list-inline {list-style: none; margin:0; padding: 0}\n",
              ".list-inline>li {display: inline-block}\n",
              ".list-inline>li:not(:last-child)::after {content: \"\\00b7\"; padding: 0 .5ex}\n",
              "</style>\n",
              "<ol class=list-inline><li>FALSE</li><li>FALSE</li><li>FALSE</li><li>TRUE</li><li>FALSE</li></ol>\n"
            ],
            "text/markdown": "1. FALSE\n2. FALSE\n3. FALSE\n4. TRUE\n5. FALSE\n\n\n",
            "text/latex": "\\begin{enumerate*}\n\\item FALSE\n\\item FALSE\n\\item FALSE\n\\item TRUE\n\\item FALSE\n\\end{enumerate*}\n",
            "text/plain": [
              "[1] FALSE FALSE FALSE  TRUE FALSE"
            ]
          },
          "metadata": {}
        }
      ]
    },
    {
      "cell_type": "code",
      "source": [
        "names(df)[names(df) == \"tiene_cuenta_corriente\"]"
      ],
      "metadata": {
        "id": "X3rBBPflVuCI",
        "outputId": "cbcb170a-ff2c-4cf3-ef13-b9195340670f",
        "colab": {
          "base_uri": "https://localhost:8080/",
          "height": 34
        }
      },
      "execution_count": 146,
      "outputs": [
        {
          "output_type": "display_data",
          "data": {
            "text/html": [
              "'tiene_cuenta_corriente'"
            ],
            "text/markdown": "'tiene_cuenta_corriente'",
            "text/latex": "'tiene\\_cuenta\\_corriente'",
            "text/plain": [
              "[1] \"tiene_cuenta_corriente\""
            ]
          },
          "metadata": {}
        }
      ]
    },
    {
      "cell_type": "code",
      "source": [
        "names(df)[names(df) == \"tiene_cuenta_corriente\"] <- \"tiene_tc\""
      ],
      "metadata": {
        "id": "yuHbSZaMU-l5"
      },
      "execution_count": 147,
      "outputs": []
    },
    {
      "cell_type": "code",
      "source": [
        "df"
      ],
      "metadata": {
        "id": "GNauL8AdVJnR",
        "outputId": "d3c15b4d-21ef-4682-b910-af8f7ccd7dbc",
        "colab": {
          "base_uri": "https://localhost:8080/",
          "height": 192
        }
      },
      "execution_count": 148,
      "outputs": [
        {
          "output_type": "display_data",
          "data": {
            "text/html": [
              "<table class=\"dataframe\">\n",
              "<caption>A data.frame: 3 × 5</caption>\n",
              "<thead>\n",
              "\t<tr><th scope=col>nombre</th><th scope=col>edad</th><th scope=col>id</th><th scope=col>tiene_tc</th><th scope=col>nombre_mascota</th></tr>\n",
              "\t<tr><th scope=col>&lt;chr&gt;</th><th scope=col>&lt;dbl&gt;</th><th scope=col>&lt;int&gt;</th><th scope=col>&lt;lgl&gt;</th><th scope=col>&lt;chr&gt;</th></tr>\n",
              "</thead>\n",
              "<tbody>\n",
              "\t<tr><td>Juan  </td><td>25</td><td>1</td><td> TRUE</td><td>bobi    </td></tr>\n",
              "\t<tr><td>Diego </td><td>40</td><td>2</td><td>FALSE</td><td>akira   </td></tr>\n",
              "\t<tr><td>Miguel</td><td>33</td><td>3</td><td> TRUE</td><td>daenarys</td></tr>\n",
              "</tbody>\n",
              "</table>\n"
            ],
            "text/markdown": "\nA data.frame: 3 × 5\n\n| nombre &lt;chr&gt; | edad &lt;dbl&gt; | id &lt;int&gt; | tiene_tc &lt;lgl&gt; | nombre_mascota &lt;chr&gt; |\n|---|---|---|---|---|\n| Juan   | 25 | 1 |  TRUE | bobi     |\n| Diego  | 40 | 2 | FALSE | akira    |\n| Miguel | 33 | 3 |  TRUE | daenarys |\n\n",
            "text/latex": "A data.frame: 3 × 5\n\\begin{tabular}{lllll}\n nombre & edad & id & tiene\\_tc & nombre\\_mascota\\\\\n <chr> & <dbl> & <int> & <lgl> & <chr>\\\\\n\\hline\n\t Juan   & 25 & 1 &  TRUE & bobi    \\\\\n\t Diego  & 40 & 2 & FALSE & akira   \\\\\n\t Miguel & 33 & 3 &  TRUE & daenarys\\\\\n\\end{tabular}\n",
            "text/plain": [
              "  nombre edad id tiene_tc nombre_mascota\n",
              "1 Juan   25   1   TRUE    bobi          \n",
              "2 Diego  40   2  FALSE    akira         \n",
              "3 Miguel 33   3   TRUE    daenarys      "
            ]
          },
          "metadata": {}
        }
      ]
    },
    {
      "cell_type": "code",
      "source": [
        "# Como agregar una fila\n",
        "fila <- data.frame(nombre = \"Harold\",\n",
        "                   edad = 25,\n",
        "                   id = 4,\n",
        "                   tiene_tc = TRUE,\n",
        "                   nombre_mascota = \"Kayser\")\n",
        "\n",
        "df <- rbind(df,fila) # df.append(fila) simil en python\n",
        "\n",
        "# dplyr::bind_rows (prox clase)"
      ],
      "metadata": {
        "id": "_888wEIHWENr"
      },
      "execution_count": 162,
      "outputs": []
    },
    {
      "cell_type": "code",
      "source": [
        "df"
      ],
      "metadata": {
        "id": "I6utJ6gnX9ef",
        "outputId": "6470176a-5483-4cef-a534-314600fd5bcb",
        "colab": {
          "base_uri": "https://localhost:8080/",
          "height": 223
        }
      },
      "execution_count": 163,
      "outputs": [
        {
          "output_type": "display_data",
          "data": {
            "text/html": [
              "<table class=\"dataframe\">\n",
              "<caption>A data.frame: 4 × 5</caption>\n",
              "<thead>\n",
              "\t<tr><th scope=col>nombre</th><th scope=col>edad</th><th scope=col>id</th><th scope=col>tiene_tc</th><th scope=col>nombre_mascota</th></tr>\n",
              "\t<tr><th scope=col>&lt;chr&gt;</th><th scope=col>&lt;dbl&gt;</th><th scope=col>&lt;dbl&gt;</th><th scope=col>&lt;lgl&gt;</th><th scope=col>&lt;chr&gt;</th></tr>\n",
              "</thead>\n",
              "<tbody>\n",
              "\t<tr><td>Juan  </td><td>25</td><td>1</td><td> TRUE</td><td>bobi    </td></tr>\n",
              "\t<tr><td>Diego </td><td>40</td><td>2</td><td>FALSE</td><td>akira   </td></tr>\n",
              "\t<tr><td>Miguel</td><td>33</td><td>3</td><td> TRUE</td><td>daenarys</td></tr>\n",
              "\t<tr><td>Harold</td><td>25</td><td>4</td><td> TRUE</td><td>Kayser  </td></tr>\n",
              "</tbody>\n",
              "</table>\n"
            ],
            "text/markdown": "\nA data.frame: 4 × 5\n\n| nombre &lt;chr&gt; | edad &lt;dbl&gt; | id &lt;dbl&gt; | tiene_tc &lt;lgl&gt; | nombre_mascota &lt;chr&gt; |\n|---|---|---|---|---|\n| Juan   | 25 | 1 |  TRUE | bobi     |\n| Diego  | 40 | 2 | FALSE | akira    |\n| Miguel | 33 | 3 |  TRUE | daenarys |\n| Harold | 25 | 4 |  TRUE | Kayser   |\n\n",
            "text/latex": "A data.frame: 4 × 5\n\\begin{tabular}{lllll}\n nombre & edad & id & tiene\\_tc & nombre\\_mascota\\\\\n <chr> & <dbl> & <dbl> & <lgl> & <chr>\\\\\n\\hline\n\t Juan   & 25 & 1 &  TRUE & bobi    \\\\\n\t Diego  & 40 & 2 & FALSE & akira   \\\\\n\t Miguel & 33 & 3 &  TRUE & daenarys\\\\\n\t Harold & 25 & 4 &  TRUE & Kayser  \\\\\n\\end{tabular}\n",
            "text/plain": [
              "  nombre edad id tiene_tc nombre_mascota\n",
              "1 Juan   25   1   TRUE    bobi          \n",
              "2 Diego  40   2  FALSE    akira         \n",
              "3 Miguel 33   3   TRUE    daenarys      \n",
              "4 Harold 25   4   TRUE    Kayser        "
            ]
          },
          "metadata": {}
        }
      ]
    },
    {
      "cell_type": "code",
      "source": [
        "fila2 <- data.frame(nombre = \"Harold\",\n",
        "                   edad = 25,\n",
        "                   id = 4,\n",
        "                   tiene_tc = TRUE,\n",
        "                   nombre_mascota = NA\n",
        "                   )\n",
        "fila2"
      ],
      "metadata": {
        "id": "MKaKQ0OLXiwK",
        "outputId": "dd9d9c56-1961-478b-97ce-0cda7794c00c",
        "colab": {
          "base_uri": "https://localhost:8080/",
          "height": 129
        }
      },
      "execution_count": 164,
      "outputs": [
        {
          "output_type": "display_data",
          "data": {
            "text/html": [
              "<table class=\"dataframe\">\n",
              "<caption>A data.frame: 1 × 5</caption>\n",
              "<thead>\n",
              "\t<tr><th scope=col>nombre</th><th scope=col>edad</th><th scope=col>id</th><th scope=col>tiene_tc</th><th scope=col>nombre_mascota</th></tr>\n",
              "\t<tr><th scope=col>&lt;chr&gt;</th><th scope=col>&lt;dbl&gt;</th><th scope=col>&lt;dbl&gt;</th><th scope=col>&lt;lgl&gt;</th><th scope=col>&lt;lgl&gt;</th></tr>\n",
              "</thead>\n",
              "<tbody>\n",
              "\t<tr><td>Harold</td><td>25</td><td>4</td><td>TRUE</td><td>NA</td></tr>\n",
              "</tbody>\n",
              "</table>\n"
            ],
            "text/markdown": "\nA data.frame: 1 × 5\n\n| nombre &lt;chr&gt; | edad &lt;dbl&gt; | id &lt;dbl&gt; | tiene_tc &lt;lgl&gt; | nombre_mascota &lt;lgl&gt; |\n|---|---|---|---|---|\n| Harold | 25 | 4 | TRUE | NA |\n\n",
            "text/latex": "A data.frame: 1 × 5\n\\begin{tabular}{lllll}\n nombre & edad & id & tiene\\_tc & nombre\\_mascota\\\\\n <chr> & <dbl> & <dbl> & <lgl> & <lgl>\\\\\n\\hline\n\t Harold & 25 & 4 & TRUE & NA\\\\\n\\end{tabular}\n",
            "text/plain": [
              "  nombre edad id tiene_tc nombre_mascota\n",
              "1 Harold 25   4  TRUE     NA            "
            ]
          },
          "metadata": {}
        }
      ]
    },
    {
      "cell_type": "code",
      "source": [
        "rbind(df, fila2)"
      ],
      "metadata": {
        "id": "OzJeZJSuXoB9",
        "outputId": "34e8b1d9-ee24-46f5-d6ff-346c5b1c0433",
        "colab": {
          "base_uri": "https://localhost:8080/",
          "height": 223
        }
      },
      "execution_count": 160,
      "outputs": [
        {
          "output_type": "display_data",
          "data": {
            "text/html": [
              "<table class=\"dataframe\">\n",
              "<caption>A data.frame: 4 × 5</caption>\n",
              "<thead>\n",
              "\t<tr><th scope=col>nombre</th><th scope=col>edad</th><th scope=col>id</th><th scope=col>tiene_tc</th><th scope=col>nombre_mascota</th></tr>\n",
              "\t<tr><th scope=col>&lt;chr&gt;</th><th scope=col>&lt;dbl&gt;</th><th scope=col>&lt;dbl&gt;</th><th scope=col>&lt;lgl&gt;</th><th scope=col>&lt;chr&gt;</th></tr>\n",
              "</thead>\n",
              "<tbody>\n",
              "\t<tr><td>Juan  </td><td>25</td><td>1</td><td> TRUE</td><td>bobi    </td></tr>\n",
              "\t<tr><td>Diego </td><td>40</td><td>2</td><td>FALSE</td><td>akira   </td></tr>\n",
              "\t<tr><td>Miguel</td><td>33</td><td>3</td><td> TRUE</td><td>daenarys</td></tr>\n",
              "\t<tr><td>Harold</td><td>25</td><td>4</td><td> TRUE</td><td>NA      </td></tr>\n",
              "</tbody>\n",
              "</table>\n"
            ],
            "text/markdown": "\nA data.frame: 4 × 5\n\n| nombre &lt;chr&gt; | edad &lt;dbl&gt; | id &lt;dbl&gt; | tiene_tc &lt;lgl&gt; | nombre_mascota &lt;chr&gt; |\n|---|---|---|---|---|\n| Juan   | 25 | 1 |  TRUE | bobi     |\n| Diego  | 40 | 2 | FALSE | akira    |\n| Miguel | 33 | 3 |  TRUE | daenarys |\n| Harold | 25 | 4 |  TRUE | NA       |\n\n",
            "text/latex": "A data.frame: 4 × 5\n\\begin{tabular}{lllll}\n nombre & edad & id & tiene\\_tc & nombre\\_mascota\\\\\n <chr> & <dbl> & <dbl> & <lgl> & <chr>\\\\\n\\hline\n\t Juan   & 25 & 1 &  TRUE & bobi    \\\\\n\t Diego  & 40 & 2 & FALSE & akira   \\\\\n\t Miguel & 33 & 3 &  TRUE & daenarys\\\\\n\t Harold & 25 & 4 &  TRUE & NA      \\\\\n\\end{tabular}\n",
            "text/plain": [
              "  nombre edad id tiene_tc nombre_mascota\n",
              "1 Juan   25   1   TRUE    bobi          \n",
              "2 Diego  40   2  FALSE    akira         \n",
              "3 Miguel 33   3   TRUE    daenarys      \n",
              "4 Harold 25   4   TRUE    NA            "
            ]
          },
          "metadata": {}
        }
      ]
    },
    {
      "cell_type": "code",
      "source": [
        "fila3 <- data.frame(nombre = \"Ana\",\n",
        "                   edad = 25,\n",
        "                   tiene_tc = TRUE,\n",
        "                   id = 5,\n",
        "                   nombre_mascota = \"Oso\"\n",
        "                   )\n",
        "fila3"
      ],
      "metadata": {
        "id": "1k5KUyR0YOjw",
        "outputId": "57e7c2e6-a33e-4d91-80c4-6b1d13056de8",
        "colab": {
          "base_uri": "https://localhost:8080/",
          "height": 129
        }
      },
      "execution_count": 165,
      "outputs": [
        {
          "output_type": "display_data",
          "data": {
            "text/html": [
              "<table class=\"dataframe\">\n",
              "<caption>A data.frame: 1 × 5</caption>\n",
              "<thead>\n",
              "\t<tr><th scope=col>nombre</th><th scope=col>edad</th><th scope=col>tiene_tc</th><th scope=col>id</th><th scope=col>nombre_mascota</th></tr>\n",
              "\t<tr><th scope=col>&lt;chr&gt;</th><th scope=col>&lt;dbl&gt;</th><th scope=col>&lt;lgl&gt;</th><th scope=col>&lt;dbl&gt;</th><th scope=col>&lt;chr&gt;</th></tr>\n",
              "</thead>\n",
              "<tbody>\n",
              "\t<tr><td>Ana</td><td>25</td><td>TRUE</td><td>5</td><td>Oso</td></tr>\n",
              "</tbody>\n",
              "</table>\n"
            ],
            "text/markdown": "\nA data.frame: 1 × 5\n\n| nombre &lt;chr&gt; | edad &lt;dbl&gt; | tiene_tc &lt;lgl&gt; | id &lt;dbl&gt; | nombre_mascota &lt;chr&gt; |\n|---|---|---|---|---|\n| Ana | 25 | TRUE | 5 | Oso |\n\n",
            "text/latex": "A data.frame: 1 × 5\n\\begin{tabular}{lllll}\n nombre & edad & tiene\\_tc & id & nombre\\_mascota\\\\\n <chr> & <dbl> & <lgl> & <dbl> & <chr>\\\\\n\\hline\n\t Ana & 25 & TRUE & 5 & Oso\\\\\n\\end{tabular}\n",
            "text/plain": [
              "  nombre edad tiene_tc id nombre_mascota\n",
              "1 Ana    25   TRUE     5  Oso           "
            ]
          },
          "metadata": {}
        }
      ]
    },
    {
      "cell_type": "code",
      "source": [
        "rbind(df,fila3) # matchea por nombre :D"
      ],
      "metadata": {
        "id": "6xHWDeb_YZuq",
        "outputId": "048cdccb-a030-4b27-83b7-83996275acd5",
        "colab": {
          "base_uri": "https://localhost:8080/",
          "height": 255
        }
      },
      "execution_count": 166,
      "outputs": [
        {
          "output_type": "display_data",
          "data": {
            "text/html": [
              "<table class=\"dataframe\">\n",
              "<caption>A data.frame: 5 × 5</caption>\n",
              "<thead>\n",
              "\t<tr><th scope=col>nombre</th><th scope=col>edad</th><th scope=col>id</th><th scope=col>tiene_tc</th><th scope=col>nombre_mascota</th></tr>\n",
              "\t<tr><th scope=col>&lt;chr&gt;</th><th scope=col>&lt;dbl&gt;</th><th scope=col>&lt;dbl&gt;</th><th scope=col>&lt;lgl&gt;</th><th scope=col>&lt;chr&gt;</th></tr>\n",
              "</thead>\n",
              "<tbody>\n",
              "\t<tr><td>Juan  </td><td>25</td><td>1</td><td> TRUE</td><td>bobi    </td></tr>\n",
              "\t<tr><td>Diego </td><td>40</td><td>2</td><td>FALSE</td><td>akira   </td></tr>\n",
              "\t<tr><td>Miguel</td><td>33</td><td>3</td><td> TRUE</td><td>daenarys</td></tr>\n",
              "\t<tr><td>Harold</td><td>25</td><td>4</td><td> TRUE</td><td>Kayser  </td></tr>\n",
              "\t<tr><td>Ana   </td><td>25</td><td>5</td><td> TRUE</td><td>Oso     </td></tr>\n",
              "</tbody>\n",
              "</table>\n"
            ],
            "text/markdown": "\nA data.frame: 5 × 5\n\n| nombre &lt;chr&gt; | edad &lt;dbl&gt; | id &lt;dbl&gt; | tiene_tc &lt;lgl&gt; | nombre_mascota &lt;chr&gt; |\n|---|---|---|---|---|\n| Juan   | 25 | 1 |  TRUE | bobi     |\n| Diego  | 40 | 2 | FALSE | akira    |\n| Miguel | 33 | 3 |  TRUE | daenarys |\n| Harold | 25 | 4 |  TRUE | Kayser   |\n| Ana    | 25 | 5 |  TRUE | Oso      |\n\n",
            "text/latex": "A data.frame: 5 × 5\n\\begin{tabular}{lllll}\n nombre & edad & id & tiene\\_tc & nombre\\_mascota\\\\\n <chr> & <dbl> & <dbl> & <lgl> & <chr>\\\\\n\\hline\n\t Juan   & 25 & 1 &  TRUE & bobi    \\\\\n\t Diego  & 40 & 2 & FALSE & akira   \\\\\n\t Miguel & 33 & 3 &  TRUE & daenarys\\\\\n\t Harold & 25 & 4 &  TRUE & Kayser  \\\\\n\t Ana    & 25 & 5 &  TRUE & Oso     \\\\\n\\end{tabular}\n",
            "text/plain": [
              "  nombre edad id tiene_tc nombre_mascota\n",
              "1 Juan   25   1   TRUE    bobi          \n",
              "2 Diego  40   2  FALSE    akira         \n",
              "3 Miguel 33   3   TRUE    daenarys      \n",
              "4 Harold 25   4   TRUE    Kayser        \n",
              "5 Ana    25   5   TRUE    Oso           "
            ]
          },
          "metadata": {}
        }
      ]
    }
  ]
}